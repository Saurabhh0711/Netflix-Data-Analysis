{
 "cells": [
  {
   "cell_type": "code",
   "execution_count": 1,
   "id": "6c64344e",
   "metadata": {
    "_cell_guid": "b1076dfc-b9ad-4769-8c92-a6c4dae69d19",
    "_uuid": "8f2839f25d086af736a60e9eeb907d3b93b6e0e5",
    "execution": {
     "iopub.execute_input": "2023-10-19T19:07:44.051717Z",
     "iopub.status.busy": "2023-10-19T19:07:44.051230Z",
     "iopub.status.idle": "2023-10-19T19:07:46.096663Z",
     "shell.execute_reply": "2023-10-19T19:07:46.094936Z"
    },
    "papermill": {
     "duration": 2.060464,
     "end_time": "2023-10-19T19:07:46.099023",
     "exception": false,
     "start_time": "2023-10-19T19:07:44.038559",
     "status": "completed"
    },
    "tags": []
   },
   "outputs": [],
   "source": [
    "# This Python 3 environment comes with many helpful analytics libraries installed\n",
    "# It is defined by the kaggle/python Docker image: https://github.com/kaggle/docker-python\n",
    "# For example, here's several helpful packages to load\n",
    "\n",
    "import numpy as np # linear algebra\n",
    "import pandas as pd # data processing, CSV file I/O (e.g. pd.read_csv)\n",
    "import matplotlib.pyplot as plt\n",
    "import seaborn as sns\n",
    "\n",
    "# Input data files are available in the read-only \"../input/\" directory\n",
    "# For example, running this (by clicking run or pressing Shift+Enter) will list all files under the input directory\n",
    "\n",
    "import os\n",
    "for dirname, _, filenames in os.walk('/kaggle/input'):\n",
    "    for filename in filenames:\n",
    "        print(os.path.join(dirname, filename))\n",
    "\n",
    "# You can write up to 20GB to the current directory (/kaggle/working/) that gets preserved as output when you create a version using \"Save & Run All\" \n",
    "# You can also write temporary files to /kaggle/temp/, but they won't be saved outside of the current session"
   ]
  },
  {
   "cell_type": "code",
   "execution_count": 3,
   "id": "2a83e9e2",
   "metadata": {
    "execution": {
     "iopub.execute_input": "2023-10-19T19:07:46.120291Z",
     "iopub.status.busy": "2023-10-19T19:07:46.119772Z",
     "iopub.status.idle": "2023-10-19T19:07:46.274326Z",
     "shell.execute_reply": "2023-10-19T19:07:46.273041Z"
    },
    "papermill": {
     "duration": 0.168166,
     "end_time": "2023-10-19T19:07:46.276964",
     "exception": false,
     "start_time": "2023-10-19T19:07:46.108798",
     "status": "completed"
    },
    "tags": []
   },
   "outputs": [],
   "source": [
    "df = pd.read_csv('train.csv')"
   ]
  },
  {
   "cell_type": "code",
   "execution_count": 4,
   "id": "58aca9ac",
   "metadata": {
    "execution": {
     "iopub.execute_input": "2023-10-19T19:07:46.300010Z",
     "iopub.status.busy": "2023-10-19T19:07:46.299616Z",
     "iopub.status.idle": "2023-10-19T19:07:46.339354Z",
     "shell.execute_reply": "2023-10-19T19:07:46.338077Z"
    },
    "papermill": {
     "duration": 0.054513,
     "end_time": "2023-10-19T19:07:46.341537",
     "exception": false,
     "start_time": "2023-10-19T19:07:46.287024",
     "status": "completed"
    },
    "tags": []
   },
   "outputs": [
    {
     "name": "stdout",
     "output_type": "stream",
     "text": [
      "<class 'pandas.core.frame.DataFrame'>\n",
      "RangeIndex: 6223 entries, 0 to 6222\n",
      "Data columns (total 12 columns):\n",
      " #   Column        Non-Null Count  Dtype \n",
      "---  ------        --------------  ----- \n",
      " 0   Unnamed: 0    6223 non-null   int64 \n",
      " 1   show_id       6223 non-null   object\n",
      " 2   type          6223 non-null   object\n",
      " 3   title         6223 non-null   object\n",
      " 4   director      4330 non-null   object\n",
      " 5   cast          5654 non-null   object\n",
      " 6   country       5800 non-null   object\n",
      " 7   date_added    6216 non-null   object\n",
      " 8   release_year  6223 non-null   int64 \n",
      " 9   duration      6223 non-null   int64 \n",
      " 10  description   6223 non-null   object\n",
      " 11  genre         6223 non-null   object\n",
      "dtypes: int64(3), object(9)\n",
      "memory usage: 583.5+ KB\n"
     ]
    }
   ],
   "source": [
    "df.info()"
   ]
  },
  {
   "cell_type": "code",
   "execution_count": 5,
   "id": "d1c3b88f",
   "metadata": {
    "execution": {
     "iopub.execute_input": "2023-10-19T19:07:46.362560Z",
     "iopub.status.busy": "2023-10-19T19:07:46.361948Z",
     "iopub.status.idle": "2023-10-19T19:07:46.369109Z",
     "shell.execute_reply": "2023-10-19T19:07:46.368002Z"
    },
    "papermill": {
     "duration": 0.020309,
     "end_time": "2023-10-19T19:07:46.371386",
     "exception": false,
     "start_time": "2023-10-19T19:07:46.351077",
     "status": "completed"
    },
    "tags": []
   },
   "outputs": [
    {
     "data": {
      "text/plain": [
       "Index(['Unnamed: 0', 'show_id', 'type', 'title', 'director', 'cast', 'country',\n",
       "       'date_added', 'release_year', 'duration', 'description', 'genre'],\n",
       "      dtype='object')"
      ]
     },
     "execution_count": 5,
     "metadata": {},
     "output_type": "execute_result"
    }
   ],
   "source": [
    "df.columns"
   ]
  },
  {
   "cell_type": "code",
   "execution_count": 6,
   "id": "6039043d",
   "metadata": {
    "execution": {
     "iopub.execute_input": "2023-10-19T19:07:46.392633Z",
     "iopub.status.busy": "2023-10-19T19:07:46.392116Z",
     "iopub.status.idle": "2023-10-19T19:07:46.399019Z",
     "shell.execute_reply": "2023-10-19T19:07:46.397849Z"
    },
    "papermill": {
     "duration": 0.020102,
     "end_time": "2023-10-19T19:07:46.401130",
     "exception": false,
     "start_time": "2023-10-19T19:07:46.381028",
     "status": "completed"
    },
    "tags": []
   },
   "outputs": [
    {
     "data": {
      "text/plain": [
       "(6223, 12)"
      ]
     },
     "execution_count": 6,
     "metadata": {},
     "output_type": "execute_result"
    }
   ],
   "source": [
    "df.shape"
   ]
  },
  {
   "cell_type": "code",
   "execution_count": 7,
   "id": "af2446bb",
   "metadata": {
    "execution": {
     "iopub.execute_input": "2023-10-19T19:07:46.423072Z",
     "iopub.status.busy": "2023-10-19T19:07:46.422038Z",
     "iopub.status.idle": "2023-10-19T19:07:46.443983Z",
     "shell.execute_reply": "2023-10-19T19:07:46.442926Z"
    },
    "papermill": {
     "duration": 0.035205,
     "end_time": "2023-10-19T19:07:46.446002",
     "exception": false,
     "start_time": "2023-10-19T19:07:46.410797",
     "status": "completed"
    },
    "tags": []
   },
   "outputs": [
    {
     "data": {
      "text/html": [
       "<div>\n",
       "<style scoped>\n",
       "    .dataframe tbody tr th:only-of-type {\n",
       "        vertical-align: middle;\n",
       "    }\n",
       "\n",
       "    .dataframe tbody tr th {\n",
       "        vertical-align: top;\n",
       "    }\n",
       "\n",
       "    .dataframe thead th {\n",
       "        text-align: right;\n",
       "    }\n",
       "</style>\n",
       "<table border=\"1\" class=\"dataframe\">\n",
       "  <thead>\n",
       "    <tr style=\"text-align: right;\">\n",
       "      <th></th>\n",
       "      <th>Unnamed: 0</th>\n",
       "      <th>show_id</th>\n",
       "      <th>type</th>\n",
       "      <th>title</th>\n",
       "      <th>director</th>\n",
       "      <th>cast</th>\n",
       "      <th>country</th>\n",
       "      <th>date_added</th>\n",
       "      <th>release_year</th>\n",
       "      <th>duration</th>\n",
       "      <th>description</th>\n",
       "      <th>genre</th>\n",
       "    </tr>\n",
       "  </thead>\n",
       "  <tbody>\n",
       "    <tr>\n",
       "      <th>0</th>\n",
       "      <td>6128</td>\n",
       "      <td>s6129</td>\n",
       "      <td>TV Show</td>\n",
       "      <td>The Big Family Cooking Showdown</td>\n",
       "      <td>NaN</td>\n",
       "      <td>Zoe Ball, Nadiya Hussain, Giorgio Locatelli, R...</td>\n",
       "      <td>United Kingdom</td>\n",
       "      <td>February 22, 2019</td>\n",
       "      <td>2018</td>\n",
       "      <td>2</td>\n",
       "      <td>In this unscripted series, families passionate...</td>\n",
       "      <td>British TV</td>\n",
       "    </tr>\n",
       "    <tr>\n",
       "      <th>1</th>\n",
       "      <td>7018</td>\n",
       "      <td>s7019</td>\n",
       "      <td>TV Show</td>\n",
       "      <td>The World's Most Extraordinary Homes</td>\n",
       "      <td>NaN</td>\n",
       "      <td>Piers Taylor, Caroline Quentin</td>\n",
       "      <td>United Kingdom</td>\n",
       "      <td>January 18, 2019</td>\n",
       "      <td>2019</td>\n",
       "      <td>3</td>\n",
       "      <td>Award-winning architect Piers Taylor and actre...</td>\n",
       "      <td>British TV</td>\n",
       "    </tr>\n",
       "    <tr>\n",
       "      <th>2</th>\n",
       "      <td>4657</td>\n",
       "      <td>s4658</td>\n",
       "      <td>TV Show</td>\n",
       "      <td>One-Punch Man</td>\n",
       "      <td>NaN</td>\n",
       "      <td>Makoto Furukawa, Kaito Ishikawa, Yuki Kaji, Ao...</td>\n",
       "      <td>Japan</td>\n",
       "      <td>March 20, 2017</td>\n",
       "      <td>2015</td>\n",
       "      <td>1</td>\n",
       "      <td>The most powerful superhero in the world can k...</td>\n",
       "      <td>Anime Series</td>\n",
       "    </tr>\n",
       "    <tr>\n",
       "      <th>3</th>\n",
       "      <td>6167</td>\n",
       "      <td>s6168</td>\n",
       "      <td>Movie</td>\n",
       "      <td>The Boy Who Harnessed the Wind</td>\n",
       "      <td>Chiwetel Ejiofor</td>\n",
       "      <td>Maxwell Simba, Chiwetel Ejiofor, Aïssa Maïga, ...</td>\n",
       "      <td>United Kingdom</td>\n",
       "      <td>March 1, 2019</td>\n",
       "      <td>2019</td>\n",
       "      <td>114</td>\n",
       "      <td>Inspired by a science book, 13-year-old Willia...</td>\n",
       "      <td>Children</td>\n",
       "    </tr>\n",
       "    <tr>\n",
       "      <th>4</th>\n",
       "      <td>3562</td>\n",
       "      <td>s3563</td>\n",
       "      <td>Movie</td>\n",
       "      <td>LeapFrog: Sing-along, Read-along</td>\n",
       "      <td>Ron Myrick</td>\n",
       "      <td>Julie Maddalena, Cindy Robinson</td>\n",
       "      <td>NaN</td>\n",
       "      <td>April 15, 2020</td>\n",
       "      <td>2011</td>\n",
       "      <td>32</td>\n",
       "      <td>Using rhythm and rhymes, a funky band and a co...</td>\n",
       "      <td>Children</td>\n",
       "    </tr>\n",
       "  </tbody>\n",
       "</table>\n",
       "</div>"
      ],
      "text/plain": [
       "   Unnamed: 0 show_id     type                                 title  \\\n",
       "0        6128   s6129  TV Show       The Big Family Cooking Showdown   \n",
       "1        7018   s7019  TV Show  The World's Most Extraordinary Homes   \n",
       "2        4657   s4658  TV Show                         One-Punch Man   \n",
       "3        6167   s6168    Movie        The Boy Who Harnessed the Wind   \n",
       "4        3562   s3563    Movie      LeapFrog: Sing-along, Read-along   \n",
       "\n",
       "           director                                               cast  \\\n",
       "0               NaN  Zoe Ball, Nadiya Hussain, Giorgio Locatelli, R...   \n",
       "1               NaN                     Piers Taylor, Caroline Quentin   \n",
       "2               NaN  Makoto Furukawa, Kaito Ishikawa, Yuki Kaji, Ao...   \n",
       "3  Chiwetel Ejiofor  Maxwell Simba, Chiwetel Ejiofor, Aïssa Maïga, ...   \n",
       "4        Ron Myrick                    Julie Maddalena, Cindy Robinson   \n",
       "\n",
       "          country         date_added  release_year  duration  \\\n",
       "0  United Kingdom  February 22, 2019          2018         2   \n",
       "1  United Kingdom   January 18, 2019          2019         3   \n",
       "2           Japan     March 20, 2017          2015         1   \n",
       "3  United Kingdom      March 1, 2019          2019       114   \n",
       "4             NaN     April 15, 2020          2011        32   \n",
       "\n",
       "                                         description         genre  \n",
       "0  In this unscripted series, families passionate...    British TV  \n",
       "1  Award-winning architect Piers Taylor and actre...    British TV  \n",
       "2  The most powerful superhero in the world can k...  Anime Series  \n",
       "3  Inspired by a science book, 13-year-old Willia...      Children  \n",
       "4  Using rhythm and rhymes, a funky band and a co...      Children  "
      ]
     },
     "execution_count": 7,
     "metadata": {},
     "output_type": "execute_result"
    }
   ],
   "source": [
    "df.head()"
   ]
  },
  {
   "cell_type": "code",
   "execution_count": 8,
   "id": "ea729c41",
   "metadata": {
    "execution": {
     "iopub.execute_input": "2023-10-19T19:07:46.468005Z",
     "iopub.status.busy": "2023-10-19T19:07:46.467594Z",
     "iopub.status.idle": "2023-10-19T19:07:46.493039Z",
     "shell.execute_reply": "2023-10-19T19:07:46.492263Z"
    },
    "papermill": {
     "duration": 0.039005,
     "end_time": "2023-10-19T19:07:46.494983",
     "exception": false,
     "start_time": "2023-10-19T19:07:46.455978",
     "status": "completed"
    },
    "tags": []
   },
   "outputs": [
    {
     "data": {
      "text/plain": [
       "Unnamed: 0      6223\n",
       "show_id         6223\n",
       "type               2\n",
       "title           6223\n",
       "director        3374\n",
       "cast            5492\n",
       "country           79\n",
       "date_added      1451\n",
       "release_year      69\n",
       "duration         201\n",
       "description     6210\n",
       "genre             30\n",
       "dtype: int64"
      ]
     },
     "execution_count": 8,
     "metadata": {},
     "output_type": "execute_result"
    }
   ],
   "source": [
    "df.nunique()"
   ]
  },
  {
   "cell_type": "code",
   "execution_count": 9,
   "id": "b977f9d5",
   "metadata": {
    "execution": {
     "iopub.execute_input": "2023-10-19T19:07:46.517199Z",
     "iopub.status.busy": "2023-10-19T19:07:46.516376Z",
     "iopub.status.idle": "2023-10-19T19:07:46.530863Z",
     "shell.execute_reply": "2023-10-19T19:07:46.529458Z"
    },
    "papermill": {
     "duration": 0.028187,
     "end_time": "2023-10-19T19:07:46.533205",
     "exception": false,
     "start_time": "2023-10-19T19:07:46.505018",
     "status": "completed"
    },
    "tags": []
   },
   "outputs": [
    {
     "data": {
      "text/plain": [
       "Unnamed: 0         0\n",
       "show_id            0\n",
       "type               0\n",
       "title              0\n",
       "director        1893\n",
       "cast             569\n",
       "country          423\n",
       "date_added         7\n",
       "release_year       0\n",
       "duration           0\n",
       "description        0\n",
       "genre              0\n",
       "dtype: int64"
      ]
     },
     "execution_count": 9,
     "metadata": {},
     "output_type": "execute_result"
    }
   ],
   "source": [
    "df.isna().sum()"
   ]
  },
  {
   "cell_type": "code",
   "execution_count": 10,
   "id": "813cf611",
   "metadata": {
    "execution": {
     "iopub.execute_input": "2023-10-19T19:07:46.555644Z",
     "iopub.status.busy": "2023-10-19T19:07:46.554934Z",
     "iopub.status.idle": "2023-10-19T19:07:46.580612Z",
     "shell.execute_reply": "2023-10-19T19:07:46.579363Z"
    },
    "papermill": {
     "duration": 0.039497,
     "end_time": "2023-10-19T19:07:46.582990",
     "exception": false,
     "start_time": "2023-10-19T19:07:46.543493",
     "status": "completed"
    },
    "tags": []
   },
   "outputs": [
    {
     "data": {
      "text/plain": [
       "0"
      ]
     },
     "execution_count": 10,
     "metadata": {},
     "output_type": "execute_result"
    }
   ],
   "source": [
    "df.duplicated().sum()"
   ]
  },
  {
   "cell_type": "code",
   "execution_count": 11,
   "id": "ecc1639b",
   "metadata": {
    "execution": {
     "iopub.execute_input": "2023-10-19T19:07:46.605221Z",
     "iopub.status.busy": "2023-10-19T19:07:46.604551Z",
     "iopub.status.idle": "2023-10-19T19:07:46.626947Z",
     "shell.execute_reply": "2023-10-19T19:07:46.625955Z"
    },
    "papermill": {
     "duration": 0.036092,
     "end_time": "2023-10-19T19:07:46.629208",
     "exception": false,
     "start_time": "2023-10-19T19:07:46.593116",
     "status": "completed"
    },
    "tags": []
   },
   "outputs": [
    {
     "data": {
      "text/html": [
       "<div>\n",
       "<style scoped>\n",
       "    .dataframe tbody tr th:only-of-type {\n",
       "        vertical-align: middle;\n",
       "    }\n",
       "\n",
       "    .dataframe tbody tr th {\n",
       "        vertical-align: top;\n",
       "    }\n",
       "\n",
       "    .dataframe thead th {\n",
       "        text-align: right;\n",
       "    }\n",
       "</style>\n",
       "<table border=\"1\" class=\"dataframe\">\n",
       "  <thead>\n",
       "    <tr style=\"text-align: right;\">\n",
       "      <th></th>\n",
       "      <th>Unnamed: 0</th>\n",
       "      <th>show_id</th>\n",
       "      <th>type</th>\n",
       "      <th>title</th>\n",
       "      <th>director</th>\n",
       "      <th>cast</th>\n",
       "      <th>country</th>\n",
       "      <th>date_added</th>\n",
       "      <th>release_year</th>\n",
       "      <th>duration</th>\n",
       "      <th>description</th>\n",
       "      <th>genre</th>\n",
       "    </tr>\n",
       "  </thead>\n",
       "  <tbody>\n",
       "    <tr>\n",
       "      <th>0</th>\n",
       "      <td>6128</td>\n",
       "      <td>s6129</td>\n",
       "      <td>TV Show</td>\n",
       "      <td>The Big Family Cooking Showdown</td>\n",
       "      <td>NaN</td>\n",
       "      <td>Zoe Ball, Nadiya Hussain, Giorgio Locatelli, R...</td>\n",
       "      <td>United Kingdom</td>\n",
       "      <td>February 22, 2019</td>\n",
       "      <td>2018</td>\n",
       "      <td>2</td>\n",
       "      <td>In this unscripted series, families passionate...</td>\n",
       "      <td>British TV</td>\n",
       "    </tr>\n",
       "    <tr>\n",
       "      <th>1</th>\n",
       "      <td>7018</td>\n",
       "      <td>s7019</td>\n",
       "      <td>TV Show</td>\n",
       "      <td>The World's Most Extraordinary Homes</td>\n",
       "      <td>NaN</td>\n",
       "      <td>Piers Taylor, Caroline Quentin</td>\n",
       "      <td>United Kingdom</td>\n",
       "      <td>January 18, 2019</td>\n",
       "      <td>2019</td>\n",
       "      <td>3</td>\n",
       "      <td>Award-winning architect Piers Taylor and actre...</td>\n",
       "      <td>British TV</td>\n",
       "    </tr>\n",
       "    <tr>\n",
       "      <th>2</th>\n",
       "      <td>4657</td>\n",
       "      <td>s4658</td>\n",
       "      <td>TV Show</td>\n",
       "      <td>One-Punch Man</td>\n",
       "      <td>NaN</td>\n",
       "      <td>Makoto Furukawa, Kaito Ishikawa, Yuki Kaji, Ao...</td>\n",
       "      <td>Japan</td>\n",
       "      <td>March 20, 2017</td>\n",
       "      <td>2015</td>\n",
       "      <td>1</td>\n",
       "      <td>The most powerful superhero in the world can k...</td>\n",
       "      <td>Anime Series</td>\n",
       "    </tr>\n",
       "    <tr>\n",
       "      <th>8</th>\n",
       "      <td>2035</td>\n",
       "      <td>s2036</td>\n",
       "      <td>TV Show</td>\n",
       "      <td>Eurovision Song Contest</td>\n",
       "      <td>NaN</td>\n",
       "      <td>Bar Refaeli, Erez Tal, Assi Azar, Lucy Ayoub</td>\n",
       "      <td>NaN</td>\n",
       "      <td>July 23, 2019</td>\n",
       "      <td>2019</td>\n",
       "      <td>1</td>\n",
       "      <td>Singers from all over Europe represent their c...</td>\n",
       "      <td>International TV</td>\n",
       "    </tr>\n",
       "    <tr>\n",
       "      <th>11</th>\n",
       "      <td>6659</td>\n",
       "      <td>s6660</td>\n",
       "      <td>TV Show</td>\n",
       "      <td>The Mess You Leave Behind</td>\n",
       "      <td>NaN</td>\n",
       "      <td>Inma Cuesta, Bárbara Lennie, Tamar Novas, Arón...</td>\n",
       "      <td>Spain</td>\n",
       "      <td>December 11, 2020</td>\n",
       "      <td>2020</td>\n",
       "      <td>1</td>\n",
       "      <td>A teacher starts her job at a high school but ...</td>\n",
       "      <td>International TV</td>\n",
       "    </tr>\n",
       "    <tr>\n",
       "      <th>...</th>\n",
       "      <td>...</td>\n",
       "      <td>...</td>\n",
       "      <td>...</td>\n",
       "      <td>...</td>\n",
       "      <td>...</td>\n",
       "      <td>...</td>\n",
       "      <td>...</td>\n",
       "      <td>...</td>\n",
       "      <td>...</td>\n",
       "      <td>...</td>\n",
       "      <td>...</td>\n",
       "      <td>...</td>\n",
       "    </tr>\n",
       "    <tr>\n",
       "      <th>6194</th>\n",
       "      <td>3450</td>\n",
       "      <td>s3451</td>\n",
       "      <td>Movie</td>\n",
       "      <td>Krish Trish and Baltiboy: Part II</td>\n",
       "      <td>NaN</td>\n",
       "      <td>Damandeep Singh Baggan, Smita Malhotra, Baba S...</td>\n",
       "      <td>NaN</td>\n",
       "      <td>September 8, 2017</td>\n",
       "      <td>2010</td>\n",
       "      <td>58</td>\n",
       "      <td>Animal minstrels narrate stories about a monke...</td>\n",
       "      <td>Children</td>\n",
       "    </tr>\n",
       "    <tr>\n",
       "      <th>6196</th>\n",
       "      <td>4572</td>\n",
       "      <td>s4573</td>\n",
       "      <td>Movie</td>\n",
       "      <td>Oddbods: Party Monsters</td>\n",
       "      <td>NaN</td>\n",
       "      <td>Nadia Ramlee, Chio Su-Ping, Jeremy Linn, Marlo...</td>\n",
       "      <td>NaN</td>\n",
       "      <td>October 19, 2018</td>\n",
       "      <td>2018</td>\n",
       "      <td>23</td>\n",
       "      <td>Dressed up as detective Sherlock Holmes, Slick...</td>\n",
       "      <td>Uncategorized</td>\n",
       "    </tr>\n",
       "    <tr>\n",
       "      <th>6198</th>\n",
       "      <td>7156</td>\n",
       "      <td>s7157</td>\n",
       "      <td>TV Show</td>\n",
       "      <td>Toradora!</td>\n",
       "      <td>NaN</td>\n",
       "      <td>Rie Kugimiya, Junji Majima, Yui Horie, Hirofum...</td>\n",
       "      <td>Japan</td>\n",
       "      <td>August 1, 2020</td>\n",
       "      <td>2008</td>\n",
       "      <td>1</td>\n",
       "      <td>Menacing in appearance but gentle at heart, Ry...</td>\n",
       "      <td>Anime Series</td>\n",
       "    </tr>\n",
       "    <tr>\n",
       "      <th>6204</th>\n",
       "      <td>1189</td>\n",
       "      <td>s1190</td>\n",
       "      <td>TV Show</td>\n",
       "      <td>Camp X</td>\n",
       "      <td>NaN</td>\n",
       "      <td>NaN</td>\n",
       "      <td>Canada</td>\n",
       "      <td>February 1, 2019</td>\n",
       "      <td>2014</td>\n",
       "      <td>1</td>\n",
       "      <td>Established during World War II, North America...</td>\n",
       "      <td>Docuseries</td>\n",
       "    </tr>\n",
       "    <tr>\n",
       "      <th>6222</th>\n",
       "      <td>3061</td>\n",
       "      <td>s3062</td>\n",
       "      <td>TV Show</td>\n",
       "      <td>Is It Wrong to Try to Pick Up Girls in a Dungeon?</td>\n",
       "      <td>NaN</td>\n",
       "      <td>Yoshitsugu Matsuoka, Inori Minase, Saori Onish...</td>\n",
       "      <td>Japan</td>\n",
       "      <td>February 1, 2020</td>\n",
       "      <td>2015</td>\n",
       "      <td>1</td>\n",
       "      <td>Lovable goof Bell Cranel wants an adventure, a...</td>\n",
       "      <td>Anime Series</td>\n",
       "    </tr>\n",
       "  </tbody>\n",
       "</table>\n",
       "<p>1893 rows × 12 columns</p>\n",
       "</div>"
      ],
      "text/plain": [
       "      Unnamed: 0 show_id     type  \\\n",
       "0           6128   s6129  TV Show   \n",
       "1           7018   s7019  TV Show   \n",
       "2           4657   s4658  TV Show   \n",
       "8           2035   s2036  TV Show   \n",
       "11          6659   s6660  TV Show   \n",
       "...          ...     ...      ...   \n",
       "6194        3450   s3451    Movie   \n",
       "6196        4572   s4573    Movie   \n",
       "6198        7156   s7157  TV Show   \n",
       "6204        1189   s1190  TV Show   \n",
       "6222        3061   s3062  TV Show   \n",
       "\n",
       "                                                  title director  \\\n",
       "0                       The Big Family Cooking Showdown      NaN   \n",
       "1                  The World's Most Extraordinary Homes      NaN   \n",
       "2                                         One-Punch Man      NaN   \n",
       "8                               Eurovision Song Contest      NaN   \n",
       "11                            The Mess You Leave Behind      NaN   \n",
       "...                                                 ...      ...   \n",
       "6194                  Krish Trish and Baltiboy: Part II      NaN   \n",
       "6196                            Oddbods: Party Monsters      NaN   \n",
       "6198                                          Toradora!      NaN   \n",
       "6204                                             Camp X      NaN   \n",
       "6222  Is It Wrong to Try to Pick Up Girls in a Dungeon?      NaN   \n",
       "\n",
       "                                                   cast         country  \\\n",
       "0     Zoe Ball, Nadiya Hussain, Giorgio Locatelli, R...  United Kingdom   \n",
       "1                        Piers Taylor, Caroline Quentin  United Kingdom   \n",
       "2     Makoto Furukawa, Kaito Ishikawa, Yuki Kaji, Ao...           Japan   \n",
       "8          Bar Refaeli, Erez Tal, Assi Azar, Lucy Ayoub             NaN   \n",
       "11    Inma Cuesta, Bárbara Lennie, Tamar Novas, Arón...           Spain   \n",
       "...                                                 ...             ...   \n",
       "6194  Damandeep Singh Baggan, Smita Malhotra, Baba S...             NaN   \n",
       "6196  Nadia Ramlee, Chio Su-Ping, Jeremy Linn, Marlo...             NaN   \n",
       "6198  Rie Kugimiya, Junji Majima, Yui Horie, Hirofum...           Japan   \n",
       "6204                                                NaN          Canada   \n",
       "6222  Yoshitsugu Matsuoka, Inori Minase, Saori Onish...           Japan   \n",
       "\n",
       "             date_added  release_year  duration  \\\n",
       "0     February 22, 2019          2018         2   \n",
       "1      January 18, 2019          2019         3   \n",
       "2        March 20, 2017          2015         1   \n",
       "8         July 23, 2019          2019         1   \n",
       "11    December 11, 2020          2020         1   \n",
       "...                 ...           ...       ...   \n",
       "6194  September 8, 2017          2010        58   \n",
       "6196   October 19, 2018          2018        23   \n",
       "6198     August 1, 2020          2008         1   \n",
       "6204   February 1, 2019          2014         1   \n",
       "6222   February 1, 2020          2015         1   \n",
       "\n",
       "                                            description             genre  \n",
       "0     In this unscripted series, families passionate...        British TV  \n",
       "1     Award-winning architect Piers Taylor and actre...        British TV  \n",
       "2     The most powerful superhero in the world can k...      Anime Series  \n",
       "8     Singers from all over Europe represent their c...  International TV  \n",
       "11    A teacher starts her job at a high school but ...  International TV  \n",
       "...                                                 ...               ...  \n",
       "6194  Animal minstrels narrate stories about a monke...          Children  \n",
       "6196  Dressed up as detective Sherlock Holmes, Slick...     Uncategorized  \n",
       "6198  Menacing in appearance but gentle at heart, Ry...      Anime Series  \n",
       "6204  Established during World War II, North America...        Docuseries  \n",
       "6222  Lovable goof Bell Cranel wants an adventure, a...      Anime Series  \n",
       "\n",
       "[1893 rows x 12 columns]"
      ]
     },
     "execution_count": 11,
     "metadata": {},
     "output_type": "execute_result"
    }
   ],
   "source": [
    "df[df.director.isna()]"
   ]
  },
  {
   "cell_type": "code",
   "execution_count": 12,
   "id": "4f5ad3e5",
   "metadata": {
    "execution": {
     "iopub.execute_input": "2023-10-19T19:07:46.652029Z",
     "iopub.status.busy": "2023-10-19T19:07:46.651658Z",
     "iopub.status.idle": "2023-10-19T19:07:46.658326Z",
     "shell.execute_reply": "2023-10-19T19:07:46.657555Z"
    },
    "papermill": {
     "duration": 0.020403,
     "end_time": "2023-10-19T19:07:46.660220",
     "exception": false,
     "start_time": "2023-10-19T19:07:46.639817",
     "status": "completed"
    },
    "tags": []
   },
   "outputs": [
    {
     "ename": "AttributeError",
     "evalue": "'DataFrame' object has no attribute 'rating'",
     "output_type": "error",
     "traceback": [
      "\u001b[1;31m---------------------------------------------------------------------------\u001b[0m",
      "\u001b[1;31mAttributeError\u001b[0m                            Traceback (most recent call last)",
      "Input \u001b[1;32mIn [12]\u001b[0m, in \u001b[0;36m<module>\u001b[1;34m\u001b[0m\n\u001b[1;32m----> 1\u001b[0m \u001b[43mdf\u001b[49m\u001b[38;5;241;43m.\u001b[39;49m\u001b[43mrating\u001b[49m\u001b[38;5;241m.\u001b[39munique()\n",
      "File \u001b[1;32mC:\\Python310\\lib\\site-packages\\pandas\\core\\generic.py:5583\u001b[0m, in \u001b[0;36mNDFrame.__getattr__\u001b[1;34m(self, name)\u001b[0m\n\u001b[0;32m   5576\u001b[0m \u001b[38;5;28;01mif\u001b[39;00m (\n\u001b[0;32m   5577\u001b[0m     name \u001b[38;5;129;01mnot\u001b[39;00m \u001b[38;5;129;01min\u001b[39;00m \u001b[38;5;28mself\u001b[39m\u001b[38;5;241m.\u001b[39m_internal_names_set\n\u001b[0;32m   5578\u001b[0m     \u001b[38;5;129;01mand\u001b[39;00m name \u001b[38;5;129;01mnot\u001b[39;00m \u001b[38;5;129;01min\u001b[39;00m \u001b[38;5;28mself\u001b[39m\u001b[38;5;241m.\u001b[39m_metadata\n\u001b[0;32m   5579\u001b[0m     \u001b[38;5;129;01mand\u001b[39;00m name \u001b[38;5;129;01mnot\u001b[39;00m \u001b[38;5;129;01min\u001b[39;00m \u001b[38;5;28mself\u001b[39m\u001b[38;5;241m.\u001b[39m_accessors\n\u001b[0;32m   5580\u001b[0m     \u001b[38;5;129;01mand\u001b[39;00m \u001b[38;5;28mself\u001b[39m\u001b[38;5;241m.\u001b[39m_info_axis\u001b[38;5;241m.\u001b[39m_can_hold_identifiers_and_holds_name(name)\n\u001b[0;32m   5581\u001b[0m ):\n\u001b[0;32m   5582\u001b[0m     \u001b[38;5;28;01mreturn\u001b[39;00m \u001b[38;5;28mself\u001b[39m[name]\n\u001b[1;32m-> 5583\u001b[0m \u001b[38;5;28;01mreturn\u001b[39;00m \u001b[38;5;28;43mobject\u001b[39;49m\u001b[38;5;241;43m.\u001b[39;49m\u001b[38;5;21;43m__getattribute__\u001b[39;49m\u001b[43m(\u001b[49m\u001b[38;5;28;43mself\u001b[39;49m\u001b[43m,\u001b[49m\u001b[43m \u001b[49m\u001b[43mname\u001b[49m\u001b[43m)\u001b[49m\n",
      "\u001b[1;31mAttributeError\u001b[0m: 'DataFrame' object has no attribute 'rating'"
     ]
    }
   ],
   "source": [
    "df.rating.unique()"
   ]
  },
  {
   "cell_type": "code",
   "execution_count": 12,
   "id": "de70a1a2",
   "metadata": {
    "execution": {
     "iopub.execute_input": "2023-10-19T19:07:46.684857Z",
     "iopub.status.busy": "2023-10-19T19:07:46.683589Z",
     "iopub.status.idle": "2023-10-19T19:07:46.699900Z",
     "shell.execute_reply": "2023-10-19T19:07:46.698793Z"
    },
    "papermill": {
     "duration": 0.03047,
     "end_time": "2023-10-19T19:07:46.702307",
     "exception": false,
     "start_time": "2023-10-19T19:07:46.671837",
     "status": "completed"
    },
    "tags": []
   },
   "outputs": [
    {
     "data": {
      "text/html": [
       "<div>\n",
       "<style scoped>\n",
       "    .dataframe tbody tr th:only-of-type {\n",
       "        vertical-align: middle;\n",
       "    }\n",
       "\n",
       "    .dataframe tbody tr th {\n",
       "        vertical-align: top;\n",
       "    }\n",
       "\n",
       "    .dataframe thead th {\n",
       "        text-align: right;\n",
       "    }\n",
       "</style>\n",
       "<table border=\"1\" class=\"dataframe\">\n",
       "  <thead>\n",
       "    <tr style=\"text-align: right;\">\n",
       "      <th></th>\n",
       "      <th>show_id</th>\n",
       "      <th>type</th>\n",
       "      <th>title</th>\n",
       "      <th>director</th>\n",
       "      <th>cast</th>\n",
       "      <th>country</th>\n",
       "      <th>date_added</th>\n",
       "      <th>release_year</th>\n",
       "      <th>rating</th>\n",
       "      <th>duration</th>\n",
       "      <th>listed_in</th>\n",
       "      <th>description</th>\n",
       "    </tr>\n",
       "  </thead>\n",
       "  <tbody>\n",
       "    <tr>\n",
       "      <th>5989</th>\n",
       "      <td>s5990</td>\n",
       "      <td>Movie</td>\n",
       "      <td>13TH: A Conversation with Oprah Winfrey &amp; Ava ...</td>\n",
       "      <td>NaN</td>\n",
       "      <td>Oprah Winfrey, Ava DuVernay</td>\n",
       "      <td>NaN</td>\n",
       "      <td>January 26, 2017</td>\n",
       "      <td>2017</td>\n",
       "      <td>NaN</td>\n",
       "      <td>37 min</td>\n",
       "      <td>Movies</td>\n",
       "      <td>Oprah Winfrey sits down with director Ava DuVe...</td>\n",
       "    </tr>\n",
       "    <tr>\n",
       "      <th>6827</th>\n",
       "      <td>s6828</td>\n",
       "      <td>TV Show</td>\n",
       "      <td>Gargantia on the Verdurous Planet</td>\n",
       "      <td>NaN</td>\n",
       "      <td>Kaito Ishikawa, Hisako Kanemoto, Ai Kayano, Ka...</td>\n",
       "      <td>Japan</td>\n",
       "      <td>December 1, 2016</td>\n",
       "      <td>2013</td>\n",
       "      <td>NaN</td>\n",
       "      <td>1 Season</td>\n",
       "      <td>Anime Series, International TV Shows</td>\n",
       "      <td>After falling through a wormhole, a space-dwel...</td>\n",
       "    </tr>\n",
       "    <tr>\n",
       "      <th>7312</th>\n",
       "      <td>s7313</td>\n",
       "      <td>TV Show</td>\n",
       "      <td>Little Lunch</td>\n",
       "      <td>NaN</td>\n",
       "      <td>Flynn Curry, Olivia Deeble, Madison Lu, Oisín ...</td>\n",
       "      <td>Australia</td>\n",
       "      <td>February 1, 2018</td>\n",
       "      <td>2015</td>\n",
       "      <td>NaN</td>\n",
       "      <td>1 Season</td>\n",
       "      <td>Kids' TV, TV Comedies</td>\n",
       "      <td>Adopting a child's perspective, this show take...</td>\n",
       "    </tr>\n",
       "    <tr>\n",
       "      <th>7537</th>\n",
       "      <td>s7538</td>\n",
       "      <td>Movie</td>\n",
       "      <td>My Honor Was Loyalty</td>\n",
       "      <td>Alessandro Pepe</td>\n",
       "      <td>Leone Frisa, Paolo Vaccarino, Francesco Miglio...</td>\n",
       "      <td>Italy</td>\n",
       "      <td>March 1, 2017</td>\n",
       "      <td>2015</td>\n",
       "      <td>NaN</td>\n",
       "      <td>115 min</td>\n",
       "      <td>Dramas</td>\n",
       "      <td>Amid the chaos and horror of World War II, a c...</td>\n",
       "    </tr>\n",
       "  </tbody>\n",
       "</table>\n",
       "</div>"
      ],
      "text/plain": [
       "     show_id     type                                              title  \\\n",
       "5989   s5990    Movie  13TH: A Conversation with Oprah Winfrey & Ava ...   \n",
       "6827   s6828  TV Show                  Gargantia on the Verdurous Planet   \n",
       "7312   s7313  TV Show                                       Little Lunch   \n",
       "7537   s7538    Movie                               My Honor Was Loyalty   \n",
       "\n",
       "             director                                               cast  \\\n",
       "5989              NaN                        Oprah Winfrey, Ava DuVernay   \n",
       "6827              NaN  Kaito Ishikawa, Hisako Kanemoto, Ai Kayano, Ka...   \n",
       "7312              NaN  Flynn Curry, Olivia Deeble, Madison Lu, Oisín ...   \n",
       "7537  Alessandro Pepe  Leone Frisa, Paolo Vaccarino, Francesco Miglio...   \n",
       "\n",
       "        country        date_added  release_year rating  duration  \\\n",
       "5989        NaN  January 26, 2017          2017    NaN    37 min   \n",
       "6827      Japan  December 1, 2016          2013    NaN  1 Season   \n",
       "7312  Australia  February 1, 2018          2015    NaN  1 Season   \n",
       "7537      Italy     March 1, 2017          2015    NaN   115 min   \n",
       "\n",
       "                                 listed_in  \\\n",
       "5989                                Movies   \n",
       "6827  Anime Series, International TV Shows   \n",
       "7312                 Kids' TV, TV Comedies   \n",
       "7537                                Dramas   \n",
       "\n",
       "                                            description  \n",
       "5989  Oprah Winfrey sits down with director Ava DuVe...  \n",
       "6827  After falling through a wormhole, a space-dwel...  \n",
       "7312  Adopting a child's perspective, this show take...  \n",
       "7537  Amid the chaos and horror of World War II, a c...  "
      ]
     },
     "execution_count": 12,
     "metadata": {},
     "output_type": "execute_result"
    }
   ],
   "source": [
    "df[df['rating'].isna()]"
   ]
  },
  {
   "cell_type": "code",
   "execution_count": 13,
   "id": "e9343277",
   "metadata": {
    "execution": {
     "iopub.execute_input": "2023-10-19T19:07:46.789999Z",
     "iopub.status.busy": "2023-10-19T19:07:46.789607Z",
     "iopub.status.idle": "2023-10-19T19:07:46.804230Z",
     "shell.execute_reply": "2023-10-19T19:07:46.803095Z"
    },
    "papermill": {
     "duration": 0.028983,
     "end_time": "2023-10-19T19:07:46.806204",
     "exception": false,
     "start_time": "2023-10-19T19:07:46.777221",
     "status": "completed"
    },
    "tags": []
   },
   "outputs": [
    {
     "data": {
      "text/plain": [
       "0"
      ]
     },
     "execution_count": 13,
     "metadata": {},
     "output_type": "execute_result"
    }
   ],
   "source": [
    "rating_replacer = {\n",
    "    's5990' : 'PG-13',\n",
    "    's6828' : 'TV-14',\n",
    "    's7313' : 'TV-MA',\n",
    "    's7538' : 'PG-13'\n",
    "}\n",
    "\n",
    "for show_id, rate in rating_replacer.items():\n",
    "    df.loc[df['show_id'] == show_id, 'rating'] = rate\n",
    "df['rating'].isna().sum()"
   ]
  },
  {
   "cell_type": "code",
   "execution_count": 14,
   "id": "b1517738",
   "metadata": {
    "execution": {
     "iopub.execute_input": "2023-10-19T19:07:46.831226Z",
     "iopub.status.busy": "2023-10-19T19:07:46.830875Z",
     "iopub.status.idle": "2023-10-19T19:07:46.846801Z",
     "shell.execute_reply": "2023-10-19T19:07:46.845604Z"
    },
    "papermill": {
     "duration": 0.031109,
     "end_time": "2023-10-19T19:07:46.849048",
     "exception": false,
     "start_time": "2023-10-19T19:07:46.817939",
     "status": "completed"
    },
    "tags": []
   },
   "outputs": [
    {
     "data": {
      "text/html": [
       "<div>\n",
       "<style scoped>\n",
       "    .dataframe tbody tr th:only-of-type {\n",
       "        vertical-align: middle;\n",
       "    }\n",
       "\n",
       "    .dataframe tbody tr th {\n",
       "        vertical-align: top;\n",
       "    }\n",
       "\n",
       "    .dataframe thead th {\n",
       "        text-align: right;\n",
       "    }\n",
       "</style>\n",
       "<table border=\"1\" class=\"dataframe\">\n",
       "  <thead>\n",
       "    <tr style=\"text-align: right;\">\n",
       "      <th></th>\n",
       "      <th>show_id</th>\n",
       "      <th>type</th>\n",
       "      <th>title</th>\n",
       "      <th>director</th>\n",
       "      <th>cast</th>\n",
       "      <th>country</th>\n",
       "      <th>date_added</th>\n",
       "      <th>release_year</th>\n",
       "      <th>rating</th>\n",
       "      <th>duration</th>\n",
       "      <th>listed_in</th>\n",
       "      <th>description</th>\n",
       "    </tr>\n",
       "  </thead>\n",
       "  <tbody>\n",
       "    <tr>\n",
       "      <th>5989</th>\n",
       "      <td>s5990</td>\n",
       "      <td>Movie</td>\n",
       "      <td>13TH: A Conversation with Oprah Winfrey &amp; Ava ...</td>\n",
       "      <td>NaN</td>\n",
       "      <td>Oprah Winfrey, Ava DuVernay</td>\n",
       "      <td>NaN</td>\n",
       "      <td>January 26, 2017</td>\n",
       "      <td>2017</td>\n",
       "      <td>PG-13</td>\n",
       "      <td>37 min</td>\n",
       "      <td>Movies</td>\n",
       "      <td>Oprah Winfrey sits down with director Ava DuVe...</td>\n",
       "    </tr>\n",
       "  </tbody>\n",
       "</table>\n",
       "</div>"
      ],
      "text/plain": [
       "     show_id   type                                              title  \\\n",
       "5989   s5990  Movie  13TH: A Conversation with Oprah Winfrey & Ava ...   \n",
       "\n",
       "     director                         cast country        date_added  \\\n",
       "5989      NaN  Oprah Winfrey, Ava DuVernay     NaN  January 26, 2017   \n",
       "\n",
       "      release_year rating duration listed_in  \\\n",
       "5989          2017  PG-13   37 min    Movies   \n",
       "\n",
       "                                            description  \n",
       "5989  Oprah Winfrey sits down with director Ava DuVe...  "
      ]
     },
     "execution_count": 14,
     "metadata": {},
     "output_type": "execute_result"
    }
   ],
   "source": [
    "df[df.show_id=='s5990']"
   ]
  },
  {
   "cell_type": "code",
   "execution_count": 15,
   "id": "ffa094e3",
   "metadata": {
    "execution": {
     "iopub.execute_input": "2023-10-19T19:07:46.874112Z",
     "iopub.status.busy": "2023-10-19T19:07:46.873763Z",
     "iopub.status.idle": "2023-10-19T19:07:46.883555Z",
     "shell.execute_reply": "2023-10-19T19:07:46.882392Z"
    },
    "papermill": {
     "duration": 0.025271,
     "end_time": "2023-10-19T19:07:46.885809",
     "exception": false,
     "start_time": "2023-10-19T19:07:46.860538",
     "status": "completed"
    },
    "tags": []
   },
   "outputs": [],
   "source": [
    "df.dropna(subset=['director', 'cast'], inplace=True)"
   ]
  },
  {
   "cell_type": "code",
   "execution_count": 16,
   "id": "83eff1ba",
   "metadata": {
    "execution": {
     "iopub.execute_input": "2023-10-19T19:07:46.910726Z",
     "iopub.status.busy": "2023-10-19T19:07:46.910330Z",
     "iopub.status.idle": "2023-10-19T19:07:46.922378Z",
     "shell.execute_reply": "2023-10-19T19:07:46.921236Z"
    },
    "papermill": {
     "duration": 0.027192,
     "end_time": "2023-10-19T19:07:46.924597",
     "exception": false,
     "start_time": "2023-10-19T19:07:46.897405",
     "status": "completed"
    },
    "tags": []
   },
   "outputs": [
    {
     "data": {
      "text/plain": [
       "show_id           0\n",
       "type              0\n",
       "title             0\n",
       "director          0\n",
       "cast              0\n",
       "country         364\n",
       "date_added        0\n",
       "release_year      0\n",
       "rating            0\n",
       "duration          3\n",
       "listed_in         0\n",
       "description       0\n",
       "dtype: int64"
      ]
     },
     "execution_count": 16,
     "metadata": {},
     "output_type": "execute_result"
    }
   ],
   "source": [
    "df.isna().sum()"
   ]
  },
  {
   "cell_type": "code",
   "execution_count": 17,
   "id": "8f106981",
   "metadata": {
    "execution": {
     "iopub.execute_input": "2023-10-19T19:07:46.949169Z",
     "iopub.status.busy": "2023-10-19T19:07:46.948783Z",
     "iopub.status.idle": "2023-10-19T19:07:46.965663Z",
     "shell.execute_reply": "2023-10-19T19:07:46.964385Z"
    },
    "papermill": {
     "duration": 0.031862,
     "end_time": "2023-10-19T19:07:46.967916",
     "exception": false,
     "start_time": "2023-10-19T19:07:46.936054",
     "status": "completed"
    },
    "tags": []
   },
   "outputs": [
    {
     "data": {
      "text/html": [
       "<div>\n",
       "<style scoped>\n",
       "    .dataframe tbody tr th:only-of-type {\n",
       "        vertical-align: middle;\n",
       "    }\n",
       "\n",
       "    .dataframe tbody tr th {\n",
       "        vertical-align: top;\n",
       "    }\n",
       "\n",
       "    .dataframe thead th {\n",
       "        text-align: right;\n",
       "    }\n",
       "</style>\n",
       "<table border=\"1\" class=\"dataframe\">\n",
       "  <thead>\n",
       "    <tr style=\"text-align: right;\">\n",
       "      <th></th>\n",
       "      <th>show_id</th>\n",
       "      <th>type</th>\n",
       "      <th>title</th>\n",
       "      <th>director</th>\n",
       "      <th>cast</th>\n",
       "      <th>country</th>\n",
       "      <th>date_added</th>\n",
       "      <th>release_year</th>\n",
       "      <th>rating</th>\n",
       "      <th>duration</th>\n",
       "      <th>listed_in</th>\n",
       "      <th>description</th>\n",
       "    </tr>\n",
       "  </thead>\n",
       "  <tbody>\n",
       "    <tr>\n",
       "      <th>5541</th>\n",
       "      <td>s5542</td>\n",
       "      <td>Movie</td>\n",
       "      <td>Louis C.K. 2017</td>\n",
       "      <td>Louis C.K.</td>\n",
       "      <td>Louis C.K.</td>\n",
       "      <td>United States</td>\n",
       "      <td>April 4, 2017</td>\n",
       "      <td>2017</td>\n",
       "      <td>74 min</td>\n",
       "      <td>NaN</td>\n",
       "      <td>Movies</td>\n",
       "      <td>Louis C.K. muses on religion, eternal love, gi...</td>\n",
       "    </tr>\n",
       "    <tr>\n",
       "      <th>5794</th>\n",
       "      <td>s5795</td>\n",
       "      <td>Movie</td>\n",
       "      <td>Louis C.K.: Hilarious</td>\n",
       "      <td>Louis C.K.</td>\n",
       "      <td>Louis C.K.</td>\n",
       "      <td>United States</td>\n",
       "      <td>September 16, 2016</td>\n",
       "      <td>2010</td>\n",
       "      <td>84 min</td>\n",
       "      <td>NaN</td>\n",
       "      <td>Movies</td>\n",
       "      <td>Emmy-winning comedy writer Louis C.K. brings h...</td>\n",
       "    </tr>\n",
       "    <tr>\n",
       "      <th>5813</th>\n",
       "      <td>s5814</td>\n",
       "      <td>Movie</td>\n",
       "      <td>Louis C.K.: Live at the Comedy Store</td>\n",
       "      <td>Louis C.K.</td>\n",
       "      <td>Louis C.K.</td>\n",
       "      <td>United States</td>\n",
       "      <td>August 15, 2016</td>\n",
       "      <td>2015</td>\n",
       "      <td>66 min</td>\n",
       "      <td>NaN</td>\n",
       "      <td>Movies</td>\n",
       "      <td>The comic puts his trademark hilarious/thought...</td>\n",
       "    </tr>\n",
       "  </tbody>\n",
       "</table>\n",
       "</div>"
      ],
      "text/plain": [
       "     show_id   type                                 title    director  \\\n",
       "5541   s5542  Movie                       Louis C.K. 2017  Louis C.K.   \n",
       "5794   s5795  Movie                 Louis C.K.: Hilarious  Louis C.K.   \n",
       "5813   s5814  Movie  Louis C.K.: Live at the Comedy Store  Louis C.K.   \n",
       "\n",
       "            cast        country          date_added  release_year  rating  \\\n",
       "5541  Louis C.K.  United States       April 4, 2017          2017  74 min   \n",
       "5794  Louis C.K.  United States  September 16, 2016          2010  84 min   \n",
       "5813  Louis C.K.  United States     August 15, 2016          2015  66 min   \n",
       "\n",
       "     duration listed_in                                        description  \n",
       "5541      NaN    Movies  Louis C.K. muses on religion, eternal love, gi...  \n",
       "5794      NaN    Movies  Emmy-winning comedy writer Louis C.K. brings h...  \n",
       "5813      NaN    Movies  The comic puts his trademark hilarious/thought...  "
      ]
     },
     "execution_count": 17,
     "metadata": {},
     "output_type": "execute_result"
    }
   ],
   "source": [
    "df[df.duration.isna()]"
   ]
  },
  {
   "cell_type": "code",
   "execution_count": 18,
   "id": "78830db1",
   "metadata": {
    "execution": {
     "iopub.execute_input": "2023-10-19T19:07:46.994346Z",
     "iopub.status.busy": "2023-10-19T19:07:46.993941Z",
     "iopub.status.idle": "2023-10-19T19:07:47.004017Z",
     "shell.execute_reply": "2023-10-19T19:07:47.003048Z"
    },
    "papermill": {
     "duration": 0.026504,
     "end_time": "2023-10-19T19:07:47.006430",
     "exception": false,
     "start_time": "2023-10-19T19:07:46.979926",
     "status": "completed"
    },
    "tags": []
   },
   "outputs": [],
   "source": [
    "df.dropna(subset = ['duration'], inplace = True)"
   ]
  },
  {
   "cell_type": "code",
   "execution_count": 19,
   "id": "1bf59e40",
   "metadata": {
    "execution": {
     "iopub.execute_input": "2023-10-19T19:07:47.033743Z",
     "iopub.status.busy": "2023-10-19T19:07:47.033320Z",
     "iopub.status.idle": "2023-10-19T19:07:47.041061Z",
     "shell.execute_reply": "2023-10-19T19:07:47.039839Z"
    },
    "papermill": {
     "duration": 0.024678,
     "end_time": "2023-10-19T19:07:47.043208",
     "exception": false,
     "start_time": "2023-10-19T19:07:47.018530",
     "status": "completed"
    },
    "tags": []
   },
   "outputs": [
    {
     "data": {
      "text/plain": [
       "'United States'"
      ]
     },
     "execution_count": 19,
     "metadata": {},
     "output_type": "execute_result"
    }
   ],
   "source": [
    "df.country.mode()[0]"
   ]
  },
  {
   "cell_type": "code",
   "execution_count": 20,
   "id": "0eaafd79",
   "metadata": {
    "execution": {
     "iopub.execute_input": "2023-10-19T19:07:47.072706Z",
     "iopub.status.busy": "2023-10-19T19:07:47.072307Z",
     "iopub.status.idle": "2023-10-19T19:07:47.080019Z",
     "shell.execute_reply": "2023-10-19T19:07:47.078738Z"
    },
    "papermill": {
     "duration": 0.025152,
     "end_time": "2023-10-19T19:07:47.082294",
     "exception": false,
     "start_time": "2023-10-19T19:07:47.057142",
     "status": "completed"
    },
    "tags": []
   },
   "outputs": [],
   "source": [
    "df.country = df.country.fillna(df.country.mode()[0])"
   ]
  },
  {
   "cell_type": "code",
   "execution_count": 21,
   "id": "5639ce84",
   "metadata": {
    "execution": {
     "iopub.execute_input": "2023-10-19T19:07:47.107887Z",
     "iopub.status.busy": "2023-10-19T19:07:47.107235Z",
     "iopub.status.idle": "2023-10-19T19:07:47.122618Z",
     "shell.execute_reply": "2023-10-19T19:07:47.121355Z"
    },
    "papermill": {
     "duration": 0.030669,
     "end_time": "2023-10-19T19:07:47.124912",
     "exception": false,
     "start_time": "2023-10-19T19:07:47.094243",
     "status": "completed"
    },
    "tags": []
   },
   "outputs": [
    {
     "data": {
      "text/html": [
       "<div>\n",
       "<style scoped>\n",
       "    .dataframe tbody tr th:only-of-type {\n",
       "        vertical-align: middle;\n",
       "    }\n",
       "\n",
       "    .dataframe tbody tr th {\n",
       "        vertical-align: top;\n",
       "    }\n",
       "\n",
       "    .dataframe thead th {\n",
       "        text-align: right;\n",
       "    }\n",
       "</style>\n",
       "<table border=\"1\" class=\"dataframe\">\n",
       "  <thead>\n",
       "    <tr style=\"text-align: right;\">\n",
       "      <th></th>\n",
       "      <th>show_id</th>\n",
       "      <th>type</th>\n",
       "      <th>title</th>\n",
       "      <th>director</th>\n",
       "      <th>cast</th>\n",
       "      <th>country</th>\n",
       "      <th>date_added</th>\n",
       "      <th>release_year</th>\n",
       "      <th>rating</th>\n",
       "      <th>duration</th>\n",
       "      <th>listed_in</th>\n",
       "      <th>description</th>\n",
       "    </tr>\n",
       "  </thead>\n",
       "  <tbody>\n",
       "    <tr>\n",
       "      <th>2</th>\n",
       "      <td>s3</td>\n",
       "      <td>TV Show</td>\n",
       "      <td>Ganglands</td>\n",
       "      <td>Julien Leclercq</td>\n",
       "      <td>Sami Bouajila, Tracy Gotoas, Samuel Jouy, Nabi...</td>\n",
       "      <td>United States</td>\n",
       "      <td>September 24, 2021</td>\n",
       "      <td>2021</td>\n",
       "      <td>TV-MA</td>\n",
       "      <td>1 Season</td>\n",
       "      <td>Crime TV Shows, International TV Shows, TV Act...</td>\n",
       "      <td>To protect his family from a powerful drug lor...</td>\n",
       "    </tr>\n",
       "    <tr>\n",
       "      <th>5</th>\n",
       "      <td>s6</td>\n",
       "      <td>TV Show</td>\n",
       "      <td>Midnight Mass</td>\n",
       "      <td>Mike Flanagan</td>\n",
       "      <td>Kate Siegel, Zach Gilford, Hamish Linklater, H...</td>\n",
       "      <td>United States</td>\n",
       "      <td>September 24, 2021</td>\n",
       "      <td>2021</td>\n",
       "      <td>TV-MA</td>\n",
       "      <td>1 Season</td>\n",
       "      <td>TV Dramas, TV Horror, TV Mysteries</td>\n",
       "      <td>The arrival of a charismatic young priest brin...</td>\n",
       "    </tr>\n",
       "    <tr>\n",
       "      <th>6</th>\n",
       "      <td>s7</td>\n",
       "      <td>Movie</td>\n",
       "      <td>My Little Pony: A New Generation</td>\n",
       "      <td>Robert Cullen, José Luis Ucha</td>\n",
       "      <td>Vanessa Hudgens, Kimiko Glenn, James Marsden, ...</td>\n",
       "      <td>United States</td>\n",
       "      <td>September 24, 2021</td>\n",
       "      <td>2021</td>\n",
       "      <td>PG</td>\n",
       "      <td>91 min</td>\n",
       "      <td>Children &amp; Family Movies</td>\n",
       "      <td>Equestria's divided. But a bright-eyed hero be...</td>\n",
       "    </tr>\n",
       "    <tr>\n",
       "      <th>7</th>\n",
       "      <td>s8</td>\n",
       "      <td>Movie</td>\n",
       "      <td>Sankofa</td>\n",
       "      <td>Haile Gerima</td>\n",
       "      <td>Kofi Ghanaba, Oyafunmike Ogunlano, Alexandra D...</td>\n",
       "      <td>United States, Ghana, Burkina Faso, United Kin...</td>\n",
       "      <td>September 24, 2021</td>\n",
       "      <td>1993</td>\n",
       "      <td>TV-MA</td>\n",
       "      <td>125 min</td>\n",
       "      <td>Dramas, Independent Movies, International Movies</td>\n",
       "      <td>On a photo shoot in Ghana, an American model s...</td>\n",
       "    </tr>\n",
       "    <tr>\n",
       "      <th>8</th>\n",
       "      <td>s9</td>\n",
       "      <td>TV Show</td>\n",
       "      <td>The Great British Baking Show</td>\n",
       "      <td>Andy Devonshire</td>\n",
       "      <td>Mel Giedroyc, Sue Perkins, Mary Berry, Paul Ho...</td>\n",
       "      <td>United Kingdom</td>\n",
       "      <td>September 24, 2021</td>\n",
       "      <td>2021</td>\n",
       "      <td>TV-14</td>\n",
       "      <td>9 Seasons</td>\n",
       "      <td>British TV Shows, Reality TV</td>\n",
       "      <td>A talented batch of amateur bakers face off in...</td>\n",
       "    </tr>\n",
       "  </tbody>\n",
       "</table>\n",
       "</div>"
      ],
      "text/plain": [
       "  show_id     type                             title  \\\n",
       "2      s3  TV Show                         Ganglands   \n",
       "5      s6  TV Show                     Midnight Mass   \n",
       "6      s7    Movie  My Little Pony: A New Generation   \n",
       "7      s8    Movie                           Sankofa   \n",
       "8      s9  TV Show     The Great British Baking Show   \n",
       "\n",
       "                        director  \\\n",
       "2                Julien Leclercq   \n",
       "5                  Mike Flanagan   \n",
       "6  Robert Cullen, José Luis Ucha   \n",
       "7                   Haile Gerima   \n",
       "8                Andy Devonshire   \n",
       "\n",
       "                                                cast  \\\n",
       "2  Sami Bouajila, Tracy Gotoas, Samuel Jouy, Nabi...   \n",
       "5  Kate Siegel, Zach Gilford, Hamish Linklater, H...   \n",
       "6  Vanessa Hudgens, Kimiko Glenn, James Marsden, ...   \n",
       "7  Kofi Ghanaba, Oyafunmike Ogunlano, Alexandra D...   \n",
       "8  Mel Giedroyc, Sue Perkins, Mary Berry, Paul Ho...   \n",
       "\n",
       "                                             country          date_added  \\\n",
       "2                                      United States  September 24, 2021   \n",
       "5                                      United States  September 24, 2021   \n",
       "6                                      United States  September 24, 2021   \n",
       "7  United States, Ghana, Burkina Faso, United Kin...  September 24, 2021   \n",
       "8                                     United Kingdom  September 24, 2021   \n",
       "\n",
       "   release_year rating   duration  \\\n",
       "2          2021  TV-MA   1 Season   \n",
       "5          2021  TV-MA   1 Season   \n",
       "6          2021     PG     91 min   \n",
       "7          1993  TV-MA    125 min   \n",
       "8          2021  TV-14  9 Seasons   \n",
       "\n",
       "                                           listed_in  \\\n",
       "2  Crime TV Shows, International TV Shows, TV Act...   \n",
       "5                 TV Dramas, TV Horror, TV Mysteries   \n",
       "6                           Children & Family Movies   \n",
       "7   Dramas, Independent Movies, International Movies   \n",
       "8                       British TV Shows, Reality TV   \n",
       "\n",
       "                                         description  \n",
       "2  To protect his family from a powerful drug lor...  \n",
       "5  The arrival of a charismatic young priest brin...  \n",
       "6  Equestria's divided. But a bright-eyed hero be...  \n",
       "7  On a photo shoot in Ghana, an American model s...  \n",
       "8  A talented batch of amateur bakers face off in...  "
      ]
     },
     "execution_count": 21,
     "metadata": {},
     "output_type": "execute_result"
    }
   ],
   "source": [
    "df.head()"
   ]
  },
  {
   "cell_type": "code",
   "execution_count": 22,
   "id": "a3774ded",
   "metadata": {
    "execution": {
     "iopub.execute_input": "2023-10-19T19:07:47.150508Z",
     "iopub.status.busy": "2023-10-19T19:07:47.150123Z",
     "iopub.status.idle": "2023-10-19T19:07:47.158856Z",
     "shell.execute_reply": "2023-10-19T19:07:47.157659Z"
    },
    "papermill": {
     "duration": 0.0239,
     "end_time": "2023-10-19T19:07:47.160767",
     "exception": false,
     "start_time": "2023-10-19T19:07:47.136867",
     "status": "completed"
    },
    "tags": []
   },
   "outputs": [],
   "source": [
    "df['added_year'] = df['date_added'].apply(lambda x: x.split(\" \")[-1])"
   ]
  },
  {
   "cell_type": "code",
   "execution_count": 23,
   "id": "6838d4e6",
   "metadata": {
    "execution": {
     "iopub.execute_input": "2023-10-19T19:07:47.187453Z",
     "iopub.status.busy": "2023-10-19T19:07:47.187105Z",
     "iopub.status.idle": "2023-10-19T19:07:47.195990Z",
     "shell.execute_reply": "2023-10-19T19:07:47.194625Z"
    },
    "papermill": {
     "duration": 0.025105,
     "end_time": "2023-10-19T19:07:47.198305",
     "exception": false,
     "start_time": "2023-10-19T19:07:47.173200",
     "status": "completed"
    },
    "tags": []
   },
   "outputs": [],
   "source": [
    "df['added_month'] = df['date_added'].apply(lambda x: x.split(\" \")[0])"
   ]
  },
  {
   "cell_type": "code",
   "execution_count": 24,
   "id": "430cd1f5",
   "metadata": {
    "execution": {
     "iopub.execute_input": "2023-10-19T19:07:47.225174Z",
     "iopub.status.busy": "2023-10-19T19:07:47.224430Z",
     "iopub.status.idle": "2023-10-19T19:07:47.233016Z",
     "shell.execute_reply": "2023-10-19T19:07:47.231810Z"
    },
    "papermill": {
     "duration": 0.024338,
     "end_time": "2023-10-19T19:07:47.235384",
     "exception": false,
     "start_time": "2023-10-19T19:07:47.211046",
     "status": "completed"
    },
    "tags": []
   },
   "outputs": [
    {
     "data": {
      "text/plain": [
       "show_id         object\n",
       "type            object\n",
       "title           object\n",
       "director        object\n",
       "cast            object\n",
       "country         object\n",
       "date_added      object\n",
       "release_year     int64\n",
       "rating          object\n",
       "duration        object\n",
       "listed_in       object\n",
       "description     object\n",
       "added_year      object\n",
       "added_month     object\n",
       "dtype: object"
      ]
     },
     "execution_count": 24,
     "metadata": {},
     "output_type": "execute_result"
    }
   ],
   "source": [
    "df.dtypes"
   ]
  },
  {
   "cell_type": "code",
   "execution_count": 25,
   "id": "d0fb2dc5",
   "metadata": {
    "execution": {
     "iopub.execute_input": "2023-10-19T19:07:47.262533Z",
     "iopub.status.busy": "2023-10-19T19:07:47.261793Z",
     "iopub.status.idle": "2023-10-19T19:07:47.272345Z",
     "shell.execute_reply": "2023-10-19T19:07:47.271129Z"
    },
    "papermill": {
     "duration": 0.026076,
     "end_time": "2023-10-19T19:07:47.274558",
     "exception": false,
     "start_time": "2023-10-19T19:07:47.248482",
     "status": "completed"
    },
    "tags": []
   },
   "outputs": [],
   "source": [
    "df['type'] = pd.Categorical(df['type'])\n",
    "df['added_year'] = pd.to_numeric(df['added_year'])"
   ]
  },
  {
   "cell_type": "code",
   "execution_count": 26,
   "id": "550775ef",
   "metadata": {
    "execution": {
     "iopub.execute_input": "2023-10-19T19:07:47.300453Z",
     "iopub.status.busy": "2023-10-19T19:07:47.300003Z",
     "iopub.status.idle": "2023-10-19T19:07:47.317664Z",
     "shell.execute_reply": "2023-10-19T19:07:47.316053Z"
    },
    "papermill": {
     "duration": 0.03305,
     "end_time": "2023-10-19T19:07:47.319827",
     "exception": false,
     "start_time": "2023-10-19T19:07:47.286777",
     "status": "completed"
    },
    "tags": []
   },
   "outputs": [
    {
     "data": {
      "text/html": [
       "<div>\n",
       "<style scoped>\n",
       "    .dataframe tbody tr th:only-of-type {\n",
       "        vertical-align: middle;\n",
       "    }\n",
       "\n",
       "    .dataframe tbody tr th {\n",
       "        vertical-align: top;\n",
       "    }\n",
       "\n",
       "    .dataframe thead th {\n",
       "        text-align: right;\n",
       "    }\n",
       "</style>\n",
       "<table border=\"1\" class=\"dataframe\">\n",
       "  <thead>\n",
       "    <tr style=\"text-align: right;\">\n",
       "      <th></th>\n",
       "      <th>show_id</th>\n",
       "      <th>type</th>\n",
       "      <th>title</th>\n",
       "      <th>director</th>\n",
       "      <th>cast</th>\n",
       "      <th>country</th>\n",
       "      <th>date_added</th>\n",
       "      <th>release_year</th>\n",
       "      <th>rating</th>\n",
       "      <th>duration</th>\n",
       "      <th>listed_in</th>\n",
       "      <th>description</th>\n",
       "      <th>added_year</th>\n",
       "      <th>added_month</th>\n",
       "    </tr>\n",
       "  </thead>\n",
       "  <tbody>\n",
       "    <tr>\n",
       "      <th>2</th>\n",
       "      <td>s3</td>\n",
       "      <td>TV Show</td>\n",
       "      <td>Ganglands</td>\n",
       "      <td>Julien Leclercq</td>\n",
       "      <td>Sami Bouajila, Tracy Gotoas, Samuel Jouy, Nabi...</td>\n",
       "      <td>United States</td>\n",
       "      <td>September 24, 2021</td>\n",
       "      <td>2021</td>\n",
       "      <td>TV-MA</td>\n",
       "      <td>1 Season</td>\n",
       "      <td>Crime TV Shows, International TV Shows, TV Act...</td>\n",
       "      <td>To protect his family from a powerful drug lor...</td>\n",
       "      <td>2021</td>\n",
       "      <td>September</td>\n",
       "    </tr>\n",
       "    <tr>\n",
       "      <th>5</th>\n",
       "      <td>s6</td>\n",
       "      <td>TV Show</td>\n",
       "      <td>Midnight Mass</td>\n",
       "      <td>Mike Flanagan</td>\n",
       "      <td>Kate Siegel, Zach Gilford, Hamish Linklater, H...</td>\n",
       "      <td>United States</td>\n",
       "      <td>September 24, 2021</td>\n",
       "      <td>2021</td>\n",
       "      <td>TV-MA</td>\n",
       "      <td>1 Season</td>\n",
       "      <td>TV Dramas, TV Horror, TV Mysteries</td>\n",
       "      <td>The arrival of a charismatic young priest brin...</td>\n",
       "      <td>2021</td>\n",
       "      <td>September</td>\n",
       "    </tr>\n",
       "    <tr>\n",
       "      <th>6</th>\n",
       "      <td>s7</td>\n",
       "      <td>Movie</td>\n",
       "      <td>My Little Pony: A New Generation</td>\n",
       "      <td>Robert Cullen, José Luis Ucha</td>\n",
       "      <td>Vanessa Hudgens, Kimiko Glenn, James Marsden, ...</td>\n",
       "      <td>United States</td>\n",
       "      <td>September 24, 2021</td>\n",
       "      <td>2021</td>\n",
       "      <td>PG</td>\n",
       "      <td>91 min</td>\n",
       "      <td>Children &amp; Family Movies</td>\n",
       "      <td>Equestria's divided. But a bright-eyed hero be...</td>\n",
       "      <td>2021</td>\n",
       "      <td>September</td>\n",
       "    </tr>\n",
       "    <tr>\n",
       "      <th>7</th>\n",
       "      <td>s8</td>\n",
       "      <td>Movie</td>\n",
       "      <td>Sankofa</td>\n",
       "      <td>Haile Gerima</td>\n",
       "      <td>Kofi Ghanaba, Oyafunmike Ogunlano, Alexandra D...</td>\n",
       "      <td>United States, Ghana, Burkina Faso, United Kin...</td>\n",
       "      <td>September 24, 2021</td>\n",
       "      <td>1993</td>\n",
       "      <td>TV-MA</td>\n",
       "      <td>125 min</td>\n",
       "      <td>Dramas, Independent Movies, International Movies</td>\n",
       "      <td>On a photo shoot in Ghana, an American model s...</td>\n",
       "      <td>2021</td>\n",
       "      <td>September</td>\n",
       "    </tr>\n",
       "    <tr>\n",
       "      <th>8</th>\n",
       "      <td>s9</td>\n",
       "      <td>TV Show</td>\n",
       "      <td>The Great British Baking Show</td>\n",
       "      <td>Andy Devonshire</td>\n",
       "      <td>Mel Giedroyc, Sue Perkins, Mary Berry, Paul Ho...</td>\n",
       "      <td>United Kingdom</td>\n",
       "      <td>September 24, 2021</td>\n",
       "      <td>2021</td>\n",
       "      <td>TV-14</td>\n",
       "      <td>9 Seasons</td>\n",
       "      <td>British TV Shows, Reality TV</td>\n",
       "      <td>A talented batch of amateur bakers face off in...</td>\n",
       "      <td>2021</td>\n",
       "      <td>September</td>\n",
       "    </tr>\n",
       "  </tbody>\n",
       "</table>\n",
       "</div>"
      ],
      "text/plain": [
       "  show_id     type                             title  \\\n",
       "2      s3  TV Show                         Ganglands   \n",
       "5      s6  TV Show                     Midnight Mass   \n",
       "6      s7    Movie  My Little Pony: A New Generation   \n",
       "7      s8    Movie                           Sankofa   \n",
       "8      s9  TV Show     The Great British Baking Show   \n",
       "\n",
       "                        director  \\\n",
       "2                Julien Leclercq   \n",
       "5                  Mike Flanagan   \n",
       "6  Robert Cullen, José Luis Ucha   \n",
       "7                   Haile Gerima   \n",
       "8                Andy Devonshire   \n",
       "\n",
       "                                                cast  \\\n",
       "2  Sami Bouajila, Tracy Gotoas, Samuel Jouy, Nabi...   \n",
       "5  Kate Siegel, Zach Gilford, Hamish Linklater, H...   \n",
       "6  Vanessa Hudgens, Kimiko Glenn, James Marsden, ...   \n",
       "7  Kofi Ghanaba, Oyafunmike Ogunlano, Alexandra D...   \n",
       "8  Mel Giedroyc, Sue Perkins, Mary Berry, Paul Ho...   \n",
       "\n",
       "                                             country          date_added  \\\n",
       "2                                      United States  September 24, 2021   \n",
       "5                                      United States  September 24, 2021   \n",
       "6                                      United States  September 24, 2021   \n",
       "7  United States, Ghana, Burkina Faso, United Kin...  September 24, 2021   \n",
       "8                                     United Kingdom  September 24, 2021   \n",
       "\n",
       "   release_year rating   duration  \\\n",
       "2          2021  TV-MA   1 Season   \n",
       "5          2021  TV-MA   1 Season   \n",
       "6          2021     PG     91 min   \n",
       "7          1993  TV-MA    125 min   \n",
       "8          2021  TV-14  9 Seasons   \n",
       "\n",
       "                                           listed_in  \\\n",
       "2  Crime TV Shows, International TV Shows, TV Act...   \n",
       "5                 TV Dramas, TV Horror, TV Mysteries   \n",
       "6                           Children & Family Movies   \n",
       "7   Dramas, Independent Movies, International Movies   \n",
       "8                       British TV Shows, Reality TV   \n",
       "\n",
       "                                         description  added_year added_month  \n",
       "2  To protect his family from a powerful drug lor...        2021   September  \n",
       "5  The arrival of a charismatic young priest brin...        2021   September  \n",
       "6  Equestria's divided. But a bright-eyed hero be...        2021   September  \n",
       "7  On a photo shoot in Ghana, an American model s...        2021   September  \n",
       "8  A talented batch of amateur bakers face off in...        2021   September  "
      ]
     },
     "execution_count": 26,
     "metadata": {},
     "output_type": "execute_result"
    }
   ],
   "source": [
    "df.head()"
   ]
  },
  {
   "cell_type": "code",
   "execution_count": 27,
   "id": "01d65686",
   "metadata": {
    "execution": {
     "iopub.execute_input": "2023-10-19T19:07:47.346817Z",
     "iopub.status.busy": "2023-10-19T19:07:47.345895Z",
     "iopub.status.idle": "2023-10-19T19:07:47.360652Z",
     "shell.execute_reply": "2023-10-19T19:07:47.359828Z"
    },
    "papermill": {
     "duration": 0.030689,
     "end_time": "2023-10-19T19:07:47.363021",
     "exception": false,
     "start_time": "2023-10-19T19:07:47.332332",
     "status": "completed"
    },
    "tags": []
   },
   "outputs": [
    {
     "data": {
      "text/plain": [
       "2    [Crime TV Shows, International TV Shows, TV Ac...\n",
       "5                 [TV Dramas, TV Horror, TV Mysteries]\n",
       "6                           [Children & Family Movies]\n",
       "7    [Dramas, Independent Movies, International Mov...\n",
       "8                       [British TV Shows, Reality TV]\n",
       "Name: genre, dtype: object"
      ]
     },
     "execution_count": 27,
     "metadata": {},
     "output_type": "execute_result"
    }
   ],
   "source": [
    "df['genre'] = df['listed_in'].apply(lambda x :  x.replace(' ,',',').replace(', ',',').split(',')) \n",
    "df['genre'].head()"
   ]
  },
  {
   "cell_type": "code",
   "execution_count": 28,
   "id": "1b546d7e",
   "metadata": {
    "execution": {
     "iopub.execute_input": "2023-10-19T19:07:47.391048Z",
     "iopub.status.busy": "2023-10-19T19:07:47.389981Z",
     "iopub.status.idle": "2023-10-19T19:07:47.397754Z",
     "shell.execute_reply": "2023-10-19T19:07:47.396977Z"
    },
    "papermill": {
     "duration": 0.023552,
     "end_time": "2023-10-19T19:07:47.399744",
     "exception": false,
     "start_time": "2023-10-19T19:07:47.376192",
     "status": "completed"
    },
    "tags": []
   },
   "outputs": [],
   "source": [
    "show_df = df[df['type'] == 'TV Show']\n",
    "movie_df = df[df['type'] == 'Movie']"
   ]
  },
  {
   "cell_type": "code",
   "execution_count": 29,
   "id": "264da54f",
   "metadata": {
    "execution": {
     "iopub.execute_input": "2023-10-19T19:07:47.427681Z",
     "iopub.status.busy": "2023-10-19T19:07:47.426523Z",
     "iopub.status.idle": "2023-10-19T19:07:47.443757Z",
     "shell.execute_reply": "2023-10-19T19:07:47.442559Z"
    },
    "papermill": {
     "duration": 0.034062,
     "end_time": "2023-10-19T19:07:47.446180",
     "exception": false,
     "start_time": "2023-10-19T19:07:47.412118",
     "status": "completed"
    },
    "tags": []
   },
   "outputs": [
    {
     "data": {
      "text/html": [
       "<div>\n",
       "<style scoped>\n",
       "    .dataframe tbody tr th:only-of-type {\n",
       "        vertical-align: middle;\n",
       "    }\n",
       "\n",
       "    .dataframe tbody tr th {\n",
       "        vertical-align: top;\n",
       "    }\n",
       "\n",
       "    .dataframe thead th {\n",
       "        text-align: right;\n",
       "    }\n",
       "</style>\n",
       "<table border=\"1\" class=\"dataframe\">\n",
       "  <thead>\n",
       "    <tr style=\"text-align: right;\">\n",
       "      <th></th>\n",
       "      <th>show_id</th>\n",
       "      <th>type</th>\n",
       "      <th>title</th>\n",
       "      <th>director</th>\n",
       "      <th>cast</th>\n",
       "      <th>country</th>\n",
       "      <th>date_added</th>\n",
       "      <th>release_year</th>\n",
       "      <th>rating</th>\n",
       "      <th>duration</th>\n",
       "      <th>listed_in</th>\n",
       "      <th>description</th>\n",
       "      <th>added_year</th>\n",
       "      <th>added_month</th>\n",
       "      <th>genre</th>\n",
       "    </tr>\n",
       "  </thead>\n",
       "  <tbody>\n",
       "    <tr>\n",
       "      <th>2</th>\n",
       "      <td>s3</td>\n",
       "      <td>TV Show</td>\n",
       "      <td>Ganglands</td>\n",
       "      <td>Julien Leclercq</td>\n",
       "      <td>Sami Bouajila, Tracy Gotoas, Samuel Jouy, Nabi...</td>\n",
       "      <td>United States</td>\n",
       "      <td>September 24, 2021</td>\n",
       "      <td>2021</td>\n",
       "      <td>TV-MA</td>\n",
       "      <td>1 Season</td>\n",
       "      <td>Crime TV Shows, International TV Shows, TV Act...</td>\n",
       "      <td>To protect his family from a powerful drug lor...</td>\n",
       "      <td>2021</td>\n",
       "      <td>September</td>\n",
       "      <td>[Crime TV Shows, International TV Shows, TV Ac...</td>\n",
       "    </tr>\n",
       "    <tr>\n",
       "      <th>5</th>\n",
       "      <td>s6</td>\n",
       "      <td>TV Show</td>\n",
       "      <td>Midnight Mass</td>\n",
       "      <td>Mike Flanagan</td>\n",
       "      <td>Kate Siegel, Zach Gilford, Hamish Linklater, H...</td>\n",
       "      <td>United States</td>\n",
       "      <td>September 24, 2021</td>\n",
       "      <td>2021</td>\n",
       "      <td>TV-MA</td>\n",
       "      <td>1 Season</td>\n",
       "      <td>TV Dramas, TV Horror, TV Mysteries</td>\n",
       "      <td>The arrival of a charismatic young priest brin...</td>\n",
       "      <td>2021</td>\n",
       "      <td>September</td>\n",
       "      <td>[TV Dramas, TV Horror, TV Mysteries]</td>\n",
       "    </tr>\n",
       "    <tr>\n",
       "      <th>8</th>\n",
       "      <td>s9</td>\n",
       "      <td>TV Show</td>\n",
       "      <td>The Great British Baking Show</td>\n",
       "      <td>Andy Devonshire</td>\n",
       "      <td>Mel Giedroyc, Sue Perkins, Mary Berry, Paul Ho...</td>\n",
       "      <td>United Kingdom</td>\n",
       "      <td>September 24, 2021</td>\n",
       "      <td>2021</td>\n",
       "      <td>TV-14</td>\n",
       "      <td>9 Seasons</td>\n",
       "      <td>British TV Shows, Reality TV</td>\n",
       "      <td>A talented batch of amateur bakers face off in...</td>\n",
       "      <td>2021</td>\n",
       "      <td>September</td>\n",
       "      <td>[British TV Shows, Reality TV]</td>\n",
       "    </tr>\n",
       "    <tr>\n",
       "      <th>11</th>\n",
       "      <td>s12</td>\n",
       "      <td>TV Show</td>\n",
       "      <td>Bangkok Breaking</td>\n",
       "      <td>Kongkiat Komesiri</td>\n",
       "      <td>Sukollawat Kanarot, Sushar Manaying, Pavarit M...</td>\n",
       "      <td>United States</td>\n",
       "      <td>September 23, 2021</td>\n",
       "      <td>2021</td>\n",
       "      <td>TV-MA</td>\n",
       "      <td>1 Season</td>\n",
       "      <td>Crime TV Shows, International TV Shows, TV Act...</td>\n",
       "      <td>Struggling to earn a living in Bangkok, a man ...</td>\n",
       "      <td>2021</td>\n",
       "      <td>September</td>\n",
       "      <td>[Crime TV Shows, International TV Shows, TV Ac...</td>\n",
       "    </tr>\n",
       "    <tr>\n",
       "      <th>47</th>\n",
       "      <td>s48</td>\n",
       "      <td>TV Show</td>\n",
       "      <td>The Smart Money Woman</td>\n",
       "      <td>Bunmi Ajakaiye</td>\n",
       "      <td>Osas Ighodaro, Ini Dima-Okojie, Kemi Lala Akin...</td>\n",
       "      <td>United States</td>\n",
       "      <td>September 16, 2021</td>\n",
       "      <td>2020</td>\n",
       "      <td>TV-MA</td>\n",
       "      <td>1 Season</td>\n",
       "      <td>International TV Shows, Romantic TV Shows, TV ...</td>\n",
       "      <td>Five glamorous millennials strive for success ...</td>\n",
       "      <td>2021</td>\n",
       "      <td>September</td>\n",
       "      <td>[International TV Shows, Romantic TV Shows, TV...</td>\n",
       "    </tr>\n",
       "  </tbody>\n",
       "</table>\n",
       "</div>"
      ],
      "text/plain": [
       "   show_id     type                          title           director  \\\n",
       "2       s3  TV Show                      Ganglands    Julien Leclercq   \n",
       "5       s6  TV Show                  Midnight Mass      Mike Flanagan   \n",
       "8       s9  TV Show  The Great British Baking Show    Andy Devonshire   \n",
       "11     s12  TV Show               Bangkok Breaking  Kongkiat Komesiri   \n",
       "47     s48  TV Show          The Smart Money Woman     Bunmi Ajakaiye   \n",
       "\n",
       "                                                 cast         country  \\\n",
       "2   Sami Bouajila, Tracy Gotoas, Samuel Jouy, Nabi...   United States   \n",
       "5   Kate Siegel, Zach Gilford, Hamish Linklater, H...   United States   \n",
       "8   Mel Giedroyc, Sue Perkins, Mary Berry, Paul Ho...  United Kingdom   \n",
       "11  Sukollawat Kanarot, Sushar Manaying, Pavarit M...   United States   \n",
       "47  Osas Ighodaro, Ini Dima-Okojie, Kemi Lala Akin...   United States   \n",
       "\n",
       "            date_added  release_year rating   duration  \\\n",
       "2   September 24, 2021          2021  TV-MA   1 Season   \n",
       "5   September 24, 2021          2021  TV-MA   1 Season   \n",
       "8   September 24, 2021          2021  TV-14  9 Seasons   \n",
       "11  September 23, 2021          2021  TV-MA   1 Season   \n",
       "47  September 16, 2021          2020  TV-MA   1 Season   \n",
       "\n",
       "                                            listed_in  \\\n",
       "2   Crime TV Shows, International TV Shows, TV Act...   \n",
       "5                  TV Dramas, TV Horror, TV Mysteries   \n",
       "8                        British TV Shows, Reality TV   \n",
       "11  Crime TV Shows, International TV Shows, TV Act...   \n",
       "47  International TV Shows, Romantic TV Shows, TV ...   \n",
       "\n",
       "                                          description  added_year added_month  \\\n",
       "2   To protect his family from a powerful drug lor...        2021   September   \n",
       "5   The arrival of a charismatic young priest brin...        2021   September   \n",
       "8   A talented batch of amateur bakers face off in...        2021   September   \n",
       "11  Struggling to earn a living in Bangkok, a man ...        2021   September   \n",
       "47  Five glamorous millennials strive for success ...        2021   September   \n",
       "\n",
       "                                                genre  \n",
       "2   [Crime TV Shows, International TV Shows, TV Ac...  \n",
       "5                [TV Dramas, TV Horror, TV Mysteries]  \n",
       "8                      [British TV Shows, Reality TV]  \n",
       "11  [Crime TV Shows, International TV Shows, TV Ac...  \n",
       "47  [International TV Shows, Romantic TV Shows, TV...  "
      ]
     },
     "execution_count": 29,
     "metadata": {},
     "output_type": "execute_result"
    }
   ],
   "source": [
    "show_df.head()"
   ]
  },
  {
   "cell_type": "code",
   "execution_count": 30,
   "id": "f030d501",
   "metadata": {
    "execution": {
     "iopub.execute_input": "2023-10-19T19:07:47.473542Z",
     "iopub.status.busy": "2023-10-19T19:07:47.473100Z",
     "iopub.status.idle": "2023-10-19T19:07:47.831815Z",
     "shell.execute_reply": "2023-10-19T19:07:47.830905Z"
    },
    "papermill": {
     "duration": 0.3747,
     "end_time": "2023-10-19T19:07:47.833761",
     "exception": false,
     "start_time": "2023-10-19T19:07:47.459061",
     "status": "completed"
    },
    "tags": []
   },
   "outputs": [
    {
     "data": {
      "image/png": "[encoded data removed]",
      "text/plain": [
       "<Figure size 2000x600 with 1 Axes>"
      ]
     },
     "metadata": {},
     "output_type": "display_data"
    }
   ],
   "source": [
    "director_counts = show_df['director'].value_counts()\n",
    "\n",
    "top_directors = director_counts.head(10)\n",
    "\n",
    "plt.figure(figsize=(20, 6))\n",
    "top_directors.plot(kind='bar', color='skyblue')\n",
    "plt.title('Director - Count of Tv Show')\n",
    "plt.xlabel('Director')\n",
    "plt.ylabel('Count')\n",
    "plt.xticks(rotation=45)\n",
    "plt.yticks(range(top_directors.max() + 1))\n",
    "plt.show()"
   ]
  },
  {
   "cell_type": "code",
   "execution_count": 31,
   "id": "c0c14ec9",
   "metadata": {
    "execution": {
     "iopub.execute_input": "2023-10-19T19:07:47.864192Z",
     "iopub.status.busy": "2023-10-19T19:07:47.863043Z",
     "iopub.status.idle": "2023-10-19T19:07:48.259079Z",
     "shell.execute_reply": "2023-10-19T19:07:48.257667Z"
    },
    "papermill": {
     "duration": 0.41377,
     "end_time": "2023-10-19T19:07:48.261641",
     "exception": false,
     "start_time": "2023-10-19T19:07:47.847871",
     "status": "completed"
    },
    "tags": []
   },
   "outputs": [
    {
     "data": {
      "image/png": "[encoded data removed]",
      "text/plain": [
       "<Figure size 2000x600 with 1 Axes>"
      ]
     },
     "metadata": {},
     "output_type": "display_data"
    }
   ],
   "source": [
    "director_counts = movie_df['director'].value_counts()\n",
    "\n",
    "top_directors = director_counts.head(10)\n",
    "\n",
    "plt.figure(figsize=(20, 6))\n",
    "top_directors.plot(kind='bar', color='darkred')\n",
    "plt.title('Director - Count of Movie')\n",
    "plt.xlabel('Director')\n",
    "plt.ylabel('Count of Movie')\n",
    "plt.xticks(rotation=45)\n",
    "plt.yticks(range(top_directors.max() + 1))\n",
    "plt.ylim(0, top_directors.max() + 1)\n",
    "\n",
    "plt.show()"
   ]
  },
  {
   "cell_type": "code",
   "execution_count": 32,
   "id": "16c465cd",
   "metadata": {
    "execution": {
     "iopub.execute_input": "2023-10-19T19:07:48.294321Z",
     "iopub.status.busy": "2023-10-19T19:07:48.293141Z",
     "iopub.status.idle": "2023-10-19T19:07:48.520600Z",
     "shell.execute_reply": "2023-10-19T19:07:48.518963Z"
    },
    "papermill": {
     "duration": 0.246758,
     "end_time": "2023-10-19T19:07:48.523552",
     "exception": false,
     "start_time": "2023-10-19T19:07:48.276794",
     "status": "completed"
    },
    "tags": []
   },
   "outputs": [],
   "source": [
    "from sklearn.feature_extraction.text import TfidfVectorizer"
   ]
  },
  {
   "cell_type": "code",
   "execution_count": 33,
   "id": "b1ccac16",
   "metadata": {
    "execution": {
     "iopub.execute_input": "2023-10-19T19:07:48.558236Z",
     "iopub.status.busy": "2023-10-19T19:07:48.557865Z",
     "iopub.status.idle": "2023-10-19T19:07:48.565125Z",
     "shell.execute_reply": "2023-10-19T19:07:48.563519Z"
    },
    "papermill": {
     "duration": 0.027878,
     "end_time": "2023-10-19T19:07:48.567887",
     "exception": false,
     "start_time": "2023-10-19T19:07:48.540009",
     "status": "completed"
    },
    "tags": []
   },
   "outputs": [
    {
     "data": {
      "text/plain": [
       "(5697, 15)"
      ]
     },
     "execution_count": 33,
     "metadata": {},
     "output_type": "execute_result"
    }
   ],
   "source": [
    "df.shape"
   ]
  },
  {
   "cell_type": "code",
   "execution_count": 34,
   "id": "0ddd8ac4",
   "metadata": {
    "execution": {
     "iopub.execute_input": "2023-10-19T19:07:48.602864Z",
     "iopub.status.busy": "2023-10-19T19:07:48.601372Z",
     "iopub.status.idle": "2023-10-19T19:07:48.799243Z",
     "shell.execute_reply": "2023-10-19T19:07:48.798087Z"
    },
    "papermill": {
     "duration": 0.217468,
     "end_time": "2023-10-19T19:07:48.801624",
     "exception": false,
     "start_time": "2023-10-19T19:07:48.584156",
     "status": "completed"
    },
    "tags": []
   },
   "outputs": [
    {
     "data": {
      "text/plain": [
       "(5697, 14765)"
      ]
     },
     "execution_count": 34,
     "metadata": {},
     "output_type": "execute_result"
    }
   ],
   "source": [
    "tfidf = TfidfVectorizer(stop_words='english')\n",
    "\n",
    "tfidf_matrix = tfidf.fit_transform(df['description'])\n",
    "\n",
    "tfidf_matrix.shape"
   ]
  },
  {
   "cell_type": "code",
   "execution_count": 35,
   "id": "d8e0ecd6",
   "metadata": {
    "execution": {
     "iopub.execute_input": "2023-10-19T19:07:48.833268Z",
     "iopub.status.busy": "2023-10-19T19:07:48.832922Z",
     "iopub.status.idle": "2023-10-19T19:07:49.475271Z",
     "shell.execute_reply": "2023-10-19T19:07:49.474343Z"
    },
    "papermill": {
     "duration": 0.661248,
     "end_time": "2023-10-19T19:07:49.477903",
     "exception": false,
     "start_time": "2023-10-19T19:07:48.816655",
     "status": "completed"
    },
    "tags": []
   },
   "outputs": [],
   "source": [
    "from sklearn.metrics.pairwise import linear_kernel\n",
    "\n",
    "cosine_sim = linear_kernel(tfidf_matrix, tfidf_matrix)"
   ]
  },
  {
   "cell_type": "code",
   "execution_count": 36,
   "id": "bd81dbf7",
   "metadata": {
    "execution": {
     "iopub.execute_input": "2023-10-19T19:07:49.512609Z",
     "iopub.status.busy": "2023-10-19T19:07:49.512199Z",
     "iopub.status.idle": "2023-10-19T19:07:49.518504Z",
     "shell.execute_reply": "2023-10-19T19:07:49.517225Z"
    },
    "papermill": {
     "duration": 0.025207,
     "end_time": "2023-10-19T19:07:49.520915",
     "exception": false,
     "start_time": "2023-10-19T19:07:49.495708",
     "status": "completed"
    },
    "tags": []
   },
   "outputs": [],
   "source": [
    "indices = pd.Series(df.index, index = df.title).drop_duplicates()"
   ]
  },
  {
   "cell_type": "code",
   "execution_count": 37,
   "id": "8d46b621",
   "metadata": {
    "execution": {
     "iopub.execute_input": "2023-10-19T19:07:49.552894Z",
     "iopub.status.busy": "2023-10-19T19:07:49.552482Z",
     "iopub.status.idle": "2023-10-19T19:07:49.561160Z",
     "shell.execute_reply": "2023-10-19T19:07:49.560198Z"
    },
    "papermill": {
     "duration": 0.026911,
     "end_time": "2023-10-19T19:07:49.563011",
     "exception": false,
     "start_time": "2023-10-19T19:07:49.536100",
     "status": "completed"
    },
    "tags": []
   },
   "outputs": [
    {
     "data": {
      "text/plain": [
       "title\n",
       "Ganglands                              2\n",
       "Midnight Mass                          5\n",
       "My Little Pony: A New Generation       6\n",
       "Sankofa                                7\n",
       "The Great British Baking Show          8\n",
       "                                    ... \n",
       "Zinzana                             8801\n",
       "Zodiac                              8802\n",
       "Zombieland                          8804\n",
       "Zoom                                8805\n",
       "Zubaan                              8806\n",
       "Length: 5697, dtype: int64"
      ]
     },
     "execution_count": 37,
     "metadata": {},
     "output_type": "execute_result"
    }
   ],
   "source": [
    "indices"
   ]
  },
  {
   "cell_type": "code",
   "execution_count": 38,
   "id": "d9792620",
   "metadata": {
    "execution": {
     "iopub.execute_input": "2023-10-19T19:07:49.600670Z",
     "iopub.status.busy": "2023-10-19T19:07:49.599793Z",
     "iopub.status.idle": "2023-10-19T19:07:49.608386Z",
     "shell.execute_reply": "2023-10-19T19:07:49.607162Z"
    },
    "papermill": {
     "duration": 0.030451,
     "end_time": "2023-10-19T19:07:49.611425",
     "exception": false,
     "start_time": "2023-10-19T19:07:49.580974",
     "status": "completed"
    },
    "tags": []
   },
   "outputs": [],
   "source": [
    "def get_recommendations(title, cosine_sim = cosine_sim):\n",
    "    idx = indices[title]\n",
    "    \n",
    "    sim_scores = list(enumerate(cosine_sim[idx]))\n",
    "    \n",
    "    sim_scores = sorted(sim_scores, key = lambda x : x[1], reverse = True)\n",
    "    \n",
    "    sim_scores = sim_scores[1:11]\n",
    "    \n",
    "    movie_indices = [i[0] for i in sim_scores]\n",
    "    \n",
    "    return df.title.iloc[movie_indices]"
   ]
  },
  {
   "cell_type": "code",
   "execution_count": 39,
   "id": "b58d32ba",
   "metadata": {
    "execution": {
     "iopub.execute_input": "2023-10-19T19:07:49.647729Z",
     "iopub.status.busy": "2023-10-19T19:07:49.647271Z",
     "iopub.status.idle": "2023-10-19T19:07:49.658757Z",
     "shell.execute_reply": "2023-10-19T19:07:49.657657Z"
    },
    "papermill": {
     "duration": 0.032926,
     "end_time": "2023-10-19T19:07:49.660701",
     "exception": false,
     "start_time": "2023-10-19T19:07:49.627775",
     "status": "completed"
    },
    "tags": []
   },
   "outputs": [
    {
     "data": {
      "text/plain": [
       "5617         Happy New Year\n",
       "6610       Dil Hai Tumhaara\n",
       "4577             Khoobsurat\n",
       "2244       Hole in the Wall\n",
       "1521                  Rabun\n",
       "4136                Dear Ex\n",
       "4422                 ABCD 2\n",
       "451                Twilight\n",
       "8396    The Lives of Others\n",
       "7866                 Rezeta\n",
       "Name: title, dtype: object"
      ]
     },
     "execution_count": 39,
     "metadata": {},
     "output_type": "execute_result"
    }
   ],
   "source": [
    "get_recommendations('The Conjuring')"
   ]
  },
  {
   "cell_type": "code",
   "execution_count": 40,
   "id": "858d685c",
   "metadata": {
    "execution": {
     "iopub.execute_input": "2023-10-19T19:07:49.692504Z",
     "iopub.status.busy": "2023-10-19T19:07:49.692142Z",
     "iopub.status.idle": "2023-10-19T19:07:49.714522Z",
     "shell.execute_reply": "2023-10-19T19:07:49.713372Z"
    },
    "papermill": {
     "duration": 0.041042,
     "end_time": "2023-10-19T19:07:49.716769",
     "exception": false,
     "start_time": "2023-10-19T19:07:49.675727",
     "status": "completed"
    },
    "tags": []
   },
   "outputs": [
    {
     "data": {
      "text/html": [
       "<div>\n",
       "<style scoped>\n",
       "    .dataframe tbody tr th:only-of-type {\n",
       "        vertical-align: middle;\n",
       "    }\n",
       "\n",
       "    .dataframe tbody tr th {\n",
       "        vertical-align: top;\n",
       "    }\n",
       "\n",
       "    .dataframe thead th {\n",
       "        text-align: right;\n",
       "    }\n",
       "</style>\n",
       "<table border=\"1\" class=\"dataframe\">\n",
       "  <thead>\n",
       "    <tr style=\"text-align: right;\">\n",
       "      <th></th>\n",
       "      <th>show_id</th>\n",
       "      <th>type</th>\n",
       "      <th>title</th>\n",
       "      <th>director</th>\n",
       "      <th>cast</th>\n",
       "      <th>country</th>\n",
       "      <th>date_added</th>\n",
       "      <th>release_year</th>\n",
       "      <th>rating</th>\n",
       "      <th>duration</th>\n",
       "      <th>listed_in</th>\n",
       "      <th>description</th>\n",
       "      <th>added_year</th>\n",
       "      <th>added_month</th>\n",
       "      <th>genre</th>\n",
       "    </tr>\n",
       "  </thead>\n",
       "  <tbody>\n",
       "    <tr>\n",
       "      <th>1283</th>\n",
       "      <td>s1284</td>\n",
       "      <td>Movie</td>\n",
       "      <td>The Conjuring</td>\n",
       "      <td>James Wan</td>\n",
       "      <td>Vera Farmiga, Patrick Wilson, Lili Taylor, Ron...</td>\n",
       "      <td>United States</td>\n",
       "      <td>February 21, 2021</td>\n",
       "      <td>2013</td>\n",
       "      <td>R</td>\n",
       "      <td>112 min</td>\n",
       "      <td>Horror Movies, Thrillers</td>\n",
       "      <td>When a family starts experiencing supernatural...</td>\n",
       "      <td>2021</td>\n",
       "      <td>February</td>\n",
       "      <td>[Horror Movies, Thrillers]</td>\n",
       "    </tr>\n",
       "    <tr>\n",
       "      <th>1284</th>\n",
       "      <td>s1285</td>\n",
       "      <td>Movie</td>\n",
       "      <td>The Conjuring 2</td>\n",
       "      <td>James Wan</td>\n",
       "      <td>Patrick Wilson, Vera Farmiga, Madison Wolfe, F...</td>\n",
       "      <td>Canada, United States, United Kingdom</td>\n",
       "      <td>February 21, 2021</td>\n",
       "      <td>2016</td>\n",
       "      <td>R</td>\n",
       "      <td>134 min</td>\n",
       "      <td>Horror Movies</td>\n",
       "      <td>After her daughter unwittingly releases a male...</td>\n",
       "      <td>2021</td>\n",
       "      <td>February</td>\n",
       "      <td>[Horror Movies]</td>\n",
       "    </tr>\n",
       "    <tr>\n",
       "      <th>6527</th>\n",
       "      <td>s6528</td>\n",
       "      <td>Movie</td>\n",
       "      <td>Conjuring Spirit</td>\n",
       "      <td>Van M. Pham</td>\n",
       "      <td>Phuong Mai, Quang Su, Hoang Phuc Nguyen, Chi P...</td>\n",
       "      <td>Vietnam</td>\n",
       "      <td>August 28, 2018</td>\n",
       "      <td>2014</td>\n",
       "      <td>TV-MA</td>\n",
       "      <td>112 min</td>\n",
       "      <td>Horror Movies, International Movies, Thrillers</td>\n",
       "      <td>In the wake of her husband's betrayal, a novel...</td>\n",
       "      <td>2018</td>\n",
       "      <td>August</td>\n",
       "      <td>[Horror Movies, International Movies, Thrillers]</td>\n",
       "    </tr>\n",
       "  </tbody>\n",
       "</table>\n",
       "</div>"
      ],
      "text/plain": [
       "     show_id   type             title     director  \\\n",
       "1283   s1284  Movie     The Conjuring    James Wan   \n",
       "1284   s1285  Movie   The Conjuring 2    James Wan   \n",
       "6527   s6528  Movie  Conjuring Spirit  Van M. Pham   \n",
       "\n",
       "                                                   cast  \\\n",
       "1283  Vera Farmiga, Patrick Wilson, Lili Taylor, Ron...   \n",
       "1284  Patrick Wilson, Vera Farmiga, Madison Wolfe, F...   \n",
       "6527  Phuong Mai, Quang Su, Hoang Phuc Nguyen, Chi P...   \n",
       "\n",
       "                                    country         date_added  release_year  \\\n",
       "1283                          United States  February 21, 2021          2013   \n",
       "1284  Canada, United States, United Kingdom  February 21, 2021          2016   \n",
       "6527                                Vietnam    August 28, 2018          2014   \n",
       "\n",
       "     rating duration                                       listed_in  \\\n",
       "1283      R  112 min                        Horror Movies, Thrillers   \n",
       "1284      R  134 min                                   Horror Movies   \n",
       "6527  TV-MA  112 min  Horror Movies, International Movies, Thrillers   \n",
       "\n",
       "                                            description  added_year  \\\n",
       "1283  When a family starts experiencing supernatural...        2021   \n",
       "1284  After her daughter unwittingly releases a male...        2021   \n",
       "6527  In the wake of her husband's betrayal, a novel...        2018   \n",
       "\n",
       "     added_month                                             genre  \n",
       "1283    February                        [Horror Movies, Thrillers]  \n",
       "1284    February                                   [Horror Movies]  \n",
       "6527      August  [Horror Movies, International Movies, Thrillers]  "
      ]
     },
     "execution_count": 40,
     "metadata": {},
     "output_type": "execute_result"
    }
   ],
   "source": [
    "df[df['title'].str.contains('conjuring', case = False)]"
   ]
  },
  {
   "cell_type": "code",
   "execution_count": 41,
   "id": "fbb9e5b2",
   "metadata": {
    "execution": {
     "iopub.execute_input": "2023-10-19T19:07:49.760715Z",
     "iopub.status.busy": "2023-10-19T19:07:49.759819Z",
     "iopub.status.idle": "2023-10-19T19:07:49.765945Z",
     "shell.execute_reply": "2023-10-19T19:07:49.764913Z"
    },
    "papermill": {
     "duration": 0.032552,
     "end_time": "2023-10-19T19:07:49.768047",
     "exception": false,
     "start_time": "2023-10-19T19:07:49.735495",
     "status": "completed"
    },
    "tags": []
   },
   "outputs": [],
   "source": [
    "def clean_data(x):\n",
    "    return str.lower(x.replace(\" \", \"\"))"
   ]
  },
  {
   "cell_type": "code",
   "execution_count": 42,
   "id": "2f03e749",
   "metadata": {
    "execution": {
     "iopub.execute_input": "2023-10-19T19:07:49.807007Z",
     "iopub.status.busy": "2023-10-19T19:07:49.806388Z",
     "iopub.status.idle": "2023-10-19T19:07:49.811649Z",
     "shell.execute_reply": "2023-10-19T19:07:49.810874Z"
    },
    "papermill": {
     "duration": 0.026613,
     "end_time": "2023-10-19T19:07:49.814373",
     "exception": false,
     "start_time": "2023-10-19T19:07:49.787760",
     "status": "completed"
    },
    "tags": []
   },
   "outputs": [
    {
     "data": {
      "text/plain": [
       "Index(['show_id', 'type', 'title', 'director', 'cast', 'country', 'date_added',\n",
       "       'release_year', 'rating', 'duration', 'listed_in', 'description',\n",
       "       'added_year', 'added_month', 'genre'],\n",
       "      dtype='object')"
      ]
     },
     "execution_count": 42,
     "metadata": {},
     "output_type": "execute_result"
    }
   ],
   "source": [
    "df.columns"
   ]
  },
  {
   "cell_type": "code",
   "execution_count": 43,
   "id": "abf057b1",
   "metadata": {
    "execution": {
     "iopub.execute_input": "2023-10-19T19:07:49.861745Z",
     "iopub.status.busy": "2023-10-19T19:07:49.861000Z",
     "iopub.status.idle": "2023-10-19T19:07:49.868023Z",
     "shell.execute_reply": "2023-10-19T19:07:49.866867Z"
    },
    "papermill": {
     "duration": 0.031916,
     "end_time": "2023-10-19T19:07:49.871247",
     "exception": false,
     "start_time": "2023-10-19T19:07:49.839331",
     "status": "completed"
    },
    "tags": []
   },
   "outputs": [],
   "source": [
    "features = ['title','director', 'cast', 'listed_in', 'description']\n",
    "df_features = df[features]"
   ]
  },
  {
   "cell_type": "code",
   "execution_count": 44,
   "id": "53da3157",
   "metadata": {
    "execution": {
     "iopub.execute_input": "2023-10-19T19:07:49.915750Z",
     "iopub.status.busy": "2023-10-19T19:07:49.915103Z",
     "iopub.status.idle": "2023-10-19T19:07:49.922177Z",
     "shell.execute_reply": "2023-10-19T19:07:49.921232Z"
    },
    "papermill": {
     "duration": 0.029403,
     "end_time": "2023-10-19T19:07:49.924662",
     "exception": false,
     "start_time": "2023-10-19T19:07:49.895259",
     "status": "completed"
    },
    "tags": []
   },
   "outputs": [],
   "source": [
    "df_features = df[features].copy()  "
   ]
  },
  {
   "cell_type": "code",
   "execution_count": 45,
   "id": "faab2779",
   "metadata": {
    "execution": {
     "iopub.execute_input": "2023-10-19T19:07:49.959837Z",
     "iopub.status.busy": "2023-10-19T19:07:49.959450Z",
     "iopub.status.idle": "2023-10-19T19:07:50.007542Z",
     "shell.execute_reply": "2023-10-19T19:07:50.006148Z"
    },
    "papermill": {
     "duration": 0.069033,
     "end_time": "2023-10-19T19:07:50.010172",
     "exception": false,
     "start_time": "2023-10-19T19:07:49.941139",
     "status": "completed"
    },
    "tags": []
   },
   "outputs": [
    {
     "data": {
      "text/html": [
       "<div>\n",
       "<style scoped>\n",
       "    .dataframe tbody tr th:only-of-type {\n",
       "        vertical-align: middle;\n",
       "    }\n",
       "\n",
       "    .dataframe tbody tr th {\n",
       "        vertical-align: top;\n",
       "    }\n",
       "\n",
       "    .dataframe thead th {\n",
       "        text-align: right;\n",
       "    }\n",
       "</style>\n",
       "<table border=\"1\" class=\"dataframe\">\n",
       "  <thead>\n",
       "    <tr style=\"text-align: right;\">\n",
       "      <th></th>\n",
       "      <th>title</th>\n",
       "      <th>director</th>\n",
       "      <th>cast</th>\n",
       "      <th>listed_in</th>\n",
       "      <th>description</th>\n",
       "    </tr>\n",
       "  </thead>\n",
       "  <tbody>\n",
       "    <tr>\n",
       "      <th>2</th>\n",
       "      <td>ganglands</td>\n",
       "      <td>julienleclercq</td>\n",
       "      <td>samibouajila,tracygotoas,samueljouy,nabihaakka...</td>\n",
       "      <td>crimetvshows,internationaltvshows,tvaction&amp;adv...</td>\n",
       "      <td>toprotecthisfamilyfromapowerfuldruglord,skille...</td>\n",
       "    </tr>\n",
       "    <tr>\n",
       "      <th>5</th>\n",
       "      <td>midnightmass</td>\n",
       "      <td>mikeflanagan</td>\n",
       "      <td>katesiegel,zachgilford,hamishlinklater,henryth...</td>\n",
       "      <td>tvdramas,tvhorror,tvmysteries</td>\n",
       "      <td>thearrivalofacharismaticyoungpriestbringsglori...</td>\n",
       "    </tr>\n",
       "    <tr>\n",
       "      <th>6</th>\n",
       "      <td>mylittlepony:anewgeneration</td>\n",
       "      <td>robertcullen,joséluisucha</td>\n",
       "      <td>vanessahudgens,kimikoglenn,jamesmarsden,sofiac...</td>\n",
       "      <td>children&amp;familymovies</td>\n",
       "      <td>equestria'sdivided.butabright-eyedherobelieves...</td>\n",
       "    </tr>\n",
       "    <tr>\n",
       "      <th>7</th>\n",
       "      <td>sankofa</td>\n",
       "      <td>hailegerima</td>\n",
       "      <td>kofighanaba,oyafunmikeogunlano,alexandraduah,n...</td>\n",
       "      <td>dramas,independentmovies,internationalmovies</td>\n",
       "      <td>onaphotoshootinghana,anamericanmodelslipsbacki...</td>\n",
       "    </tr>\n",
       "    <tr>\n",
       "      <th>8</th>\n",
       "      <td>thegreatbritishbakingshow</td>\n",
       "      <td>andydevonshire</td>\n",
       "      <td>melgiedroyc,sueperkins,maryberry,paulhollywood</td>\n",
       "      <td>britishtvshows,realitytv</td>\n",
       "      <td>atalentedbatchofamateurbakersfaceoffina10-week...</td>\n",
       "    </tr>\n",
       "  </tbody>\n",
       "</table>\n",
       "</div>"
      ],
      "text/plain": [
       "                         title                   director  \\\n",
       "2                    ganglands             julienleclercq   \n",
       "5                 midnightmass               mikeflanagan   \n",
       "6  mylittlepony:anewgeneration  robertcullen,joséluisucha   \n",
       "7                      sankofa                hailegerima   \n",
       "8    thegreatbritishbakingshow             andydevonshire   \n",
       "\n",
       "                                                cast  \\\n",
       "2  samibouajila,tracygotoas,samueljouy,nabihaakka...   \n",
       "5  katesiegel,zachgilford,hamishlinklater,henryth...   \n",
       "6  vanessahudgens,kimikoglenn,jamesmarsden,sofiac...   \n",
       "7  kofighanaba,oyafunmikeogunlano,alexandraduah,n...   \n",
       "8     melgiedroyc,sueperkins,maryberry,paulhollywood   \n",
       "\n",
       "                                           listed_in  \\\n",
       "2  crimetvshows,internationaltvshows,tvaction&adv...   \n",
       "5                      tvdramas,tvhorror,tvmysteries   \n",
       "6                              children&familymovies   \n",
       "7       dramas,independentmovies,internationalmovies   \n",
       "8                           britishtvshows,realitytv   \n",
       "\n",
       "                                         description  \n",
       "2  toprotecthisfamilyfromapowerfuldruglord,skille...  \n",
       "5  thearrivalofacharismaticyoungpriestbringsglori...  \n",
       "6  equestria'sdivided.butabright-eyedherobelieves...  \n",
       "7  onaphotoshootinghana,anamericanmodelslipsbacki...  \n",
       "8  atalentedbatchofamateurbakersfaceoffina10-week...  "
      ]
     },
     "execution_count": 45,
     "metadata": {},
     "output_type": "execute_result"
    }
   ],
   "source": [
    "for feature in features:\n",
    "    df_features[feature] = df_features[feature].apply(clean_data)\n",
    "    \n",
    "df_features.head()"
   ]
  },
  {
   "cell_type": "code",
   "execution_count": 46,
   "id": "ca225cb2",
   "metadata": {
    "execution": {
     "iopub.execute_input": "2023-10-19T19:07:50.049111Z",
     "iopub.status.busy": "2023-10-19T19:07:50.048410Z",
     "iopub.status.idle": "2023-10-19T19:07:50.055223Z",
     "shell.execute_reply": "2023-10-19T19:07:50.054272Z"
    },
    "papermill": {
     "duration": 0.027944,
     "end_time": "2023-10-19T19:07:50.057710",
     "exception": false,
     "start_time": "2023-10-19T19:07:50.029766",
     "status": "completed"
    },
    "tags": []
   },
   "outputs": [],
   "source": [
    "def create_soup(x):\n",
    "    return x['title']+ ' ' + x['director'] + ' ' + x['cast'] + ' ' + x['listed_in'] + ' '+ x['description']"
   ]
  },
  {
   "cell_type": "code",
   "execution_count": 47,
   "id": "b6aa938b",
   "metadata": {
    "execution": {
     "iopub.execute_input": "2023-10-19T19:07:50.107540Z",
     "iopub.status.busy": "2023-10-19T19:07:50.106794Z",
     "iopub.status.idle": "2023-10-19T19:07:50.215542Z",
     "shell.execute_reply": "2023-10-19T19:07:50.214315Z"
    },
    "papermill": {
     "duration": 0.130587,
     "end_time": "2023-10-19T19:07:50.217943",
     "exception": false,
     "start_time": "2023-10-19T19:07:50.087356",
     "status": "completed"
    },
    "tags": []
   },
   "outputs": [
    {
     "data": {
      "text/html": [
       "<div>\n",
       "<style scoped>\n",
       "    .dataframe tbody tr th:only-of-type {\n",
       "        vertical-align: middle;\n",
       "    }\n",
       "\n",
       "    .dataframe tbody tr th {\n",
       "        vertical-align: top;\n",
       "    }\n",
       "\n",
       "    .dataframe thead th {\n",
       "        text-align: right;\n",
       "    }\n",
       "</style>\n",
       "<table border=\"1\" class=\"dataframe\">\n",
       "  <thead>\n",
       "    <tr style=\"text-align: right;\">\n",
       "      <th></th>\n",
       "      <th>title</th>\n",
       "      <th>director</th>\n",
       "      <th>cast</th>\n",
       "      <th>listed_in</th>\n",
       "      <th>description</th>\n",
       "      <th>soup</th>\n",
       "    </tr>\n",
       "  </thead>\n",
       "  <tbody>\n",
       "    <tr>\n",
       "      <th>2</th>\n",
       "      <td>ganglands</td>\n",
       "      <td>julienleclercq</td>\n",
       "      <td>samibouajila,tracygotoas,samueljouy,nabihaakka...</td>\n",
       "      <td>crimetvshows,internationaltvshows,tvaction&amp;adv...</td>\n",
       "      <td>toprotecthisfamilyfromapowerfuldruglord,skille...</td>\n",
       "      <td>ganglands julienleclercq samibouajila,tracygot...</td>\n",
       "    </tr>\n",
       "    <tr>\n",
       "      <th>5</th>\n",
       "      <td>midnightmass</td>\n",
       "      <td>mikeflanagan</td>\n",
       "      <td>katesiegel,zachgilford,hamishlinklater,henryth...</td>\n",
       "      <td>tvdramas,tvhorror,tvmysteries</td>\n",
       "      <td>thearrivalofacharismaticyoungpriestbringsglori...</td>\n",
       "      <td>midnightmass mikeflanagan katesiegel,zachgilfo...</td>\n",
       "    </tr>\n",
       "    <tr>\n",
       "      <th>6</th>\n",
       "      <td>mylittlepony:anewgeneration</td>\n",
       "      <td>robertcullen,joséluisucha</td>\n",
       "      <td>vanessahudgens,kimikoglenn,jamesmarsden,sofiac...</td>\n",
       "      <td>children&amp;familymovies</td>\n",
       "      <td>equestria'sdivided.butabright-eyedherobelieves...</td>\n",
       "      <td>mylittlepony:anewgeneration robertcullen,josél...</td>\n",
       "    </tr>\n",
       "    <tr>\n",
       "      <th>7</th>\n",
       "      <td>sankofa</td>\n",
       "      <td>hailegerima</td>\n",
       "      <td>kofighanaba,oyafunmikeogunlano,alexandraduah,n...</td>\n",
       "      <td>dramas,independentmovies,internationalmovies</td>\n",
       "      <td>onaphotoshootinghana,anamericanmodelslipsbacki...</td>\n",
       "      <td>sankofa hailegerima kofighanaba,oyafunmikeogun...</td>\n",
       "    </tr>\n",
       "    <tr>\n",
       "      <th>8</th>\n",
       "      <td>thegreatbritishbakingshow</td>\n",
       "      <td>andydevonshire</td>\n",
       "      <td>melgiedroyc,sueperkins,maryberry,paulhollywood</td>\n",
       "      <td>britishtvshows,realitytv</td>\n",
       "      <td>atalentedbatchofamateurbakersfaceoffina10-week...</td>\n",
       "      <td>thegreatbritishbakingshow andydevonshire melgi...</td>\n",
       "    </tr>\n",
       "  </tbody>\n",
       "</table>\n",
       "</div>"
      ],
      "text/plain": [
       "                         title                   director  \\\n",
       "2                    ganglands             julienleclercq   \n",
       "5                 midnightmass               mikeflanagan   \n",
       "6  mylittlepony:anewgeneration  robertcullen,joséluisucha   \n",
       "7                      sankofa                hailegerima   \n",
       "8    thegreatbritishbakingshow             andydevonshire   \n",
       "\n",
       "                                                cast  \\\n",
       "2  samibouajila,tracygotoas,samueljouy,nabihaakka...   \n",
       "5  katesiegel,zachgilford,hamishlinklater,henryth...   \n",
       "6  vanessahudgens,kimikoglenn,jamesmarsden,sofiac...   \n",
       "7  kofighanaba,oyafunmikeogunlano,alexandraduah,n...   \n",
       "8     melgiedroyc,sueperkins,maryberry,paulhollywood   \n",
       "\n",
       "                                           listed_in  \\\n",
       "2  crimetvshows,internationaltvshows,tvaction&adv...   \n",
       "5                      tvdramas,tvhorror,tvmysteries   \n",
       "6                              children&familymovies   \n",
       "7       dramas,independentmovies,internationalmovies   \n",
       "8                           britishtvshows,realitytv   \n",
       "\n",
       "                                         description  \\\n",
       "2  toprotecthisfamilyfromapowerfuldruglord,skille...   \n",
       "5  thearrivalofacharismaticyoungpriestbringsglori...   \n",
       "6  equestria'sdivided.butabright-eyedherobelieves...   \n",
       "7  onaphotoshootinghana,anamericanmodelslipsbacki...   \n",
       "8  atalentedbatchofamateurbakersfaceoffina10-week...   \n",
       "\n",
       "                                                soup  \n",
       "2  ganglands julienleclercq samibouajila,tracygot...  \n",
       "5  midnightmass mikeflanagan katesiegel,zachgilfo...  \n",
       "6  mylittlepony:anewgeneration robertcullen,josél...  \n",
       "7  sankofa hailegerima kofighanaba,oyafunmikeogun...  \n",
       "8  thegreatbritishbakingshow andydevonshire melgi...  "
      ]
     },
     "execution_count": 47,
     "metadata": {},
     "output_type": "execute_result"
    }
   ],
   "source": [
    "df_features['soup'] = df_features.apply(create_soup, axis = 1); df_features.head()"
   ]
  },
  {
   "cell_type": "code",
   "execution_count": 48,
   "id": "e87cd9bb",
   "metadata": {
    "execution": {
     "iopub.execute_input": "2023-10-19T19:07:50.251961Z",
     "iopub.status.busy": "2023-10-19T19:07:50.251322Z",
     "iopub.status.idle": "2023-10-19T19:07:51.285450Z",
     "shell.execute_reply": "2023-10-19T19:07:51.284075Z"
    },
    "papermill": {
     "duration": 1.054321,
     "end_time": "2023-10-19T19:07:51.288179",
     "exception": false,
     "start_time": "2023-10-19T19:07:50.233858",
     "status": "completed"
    },
    "tags": []
   },
   "outputs": [],
   "source": [
    "from sklearn.feature_extraction.text import CountVectorizer\n",
    "from sklearn.metrics.pairwise import cosine_similarity\n",
    "\n",
    "count = CountVectorizer(stop_words='english')\n",
    "count_matrix = count.fit_transform(df_features['soup'])\n",
    "\n",
    "cosine_sim2 = cosine_similarity(count_matrix, count_matrix)"
   ]
  },
  {
   "cell_type": "code",
   "execution_count": 49,
   "id": "72a7c480",
   "metadata": {
    "execution": {
     "iopub.execute_input": "2023-10-19T19:07:51.322254Z",
     "iopub.status.busy": "2023-10-19T19:07:51.321882Z",
     "iopub.status.idle": "2023-10-19T19:07:51.331069Z",
     "shell.execute_reply": "2023-10-19T19:07:51.329605Z"
    },
    "papermill": {
     "duration": 0.028591,
     "end_time": "2023-10-19T19:07:51.333435",
     "exception": false,
     "start_time": "2023-10-19T19:07:51.304844",
     "status": "completed"
    },
    "tags": []
   },
   "outputs": [],
   "source": [
    "df_features = df_features.reset_index()\n",
    "indices = pd.Series(df_features.index, index = df_features['title'])"
   ]
  },
  {
   "cell_type": "code",
   "execution_count": 50,
   "id": "feda16a7",
   "metadata": {
    "execution": {
     "iopub.execute_input": "2023-10-19T19:07:51.368106Z",
     "iopub.status.busy": "2023-10-19T19:07:51.367389Z",
     "iopub.status.idle": "2023-10-19T19:07:51.374147Z",
     "shell.execute_reply": "2023-10-19T19:07:51.373198Z"
    },
    "papermill": {
     "duration": 0.026482,
     "end_time": "2023-10-19T19:07:51.376218",
     "exception": false,
     "start_time": "2023-10-19T19:07:51.349736",
     "status": "completed"
    },
    "tags": []
   },
   "outputs": [],
   "source": [
    "def get_recommendations2(title, cosine_sim = cosine_sim):\n",
    "    title = title.replace(' ', '').lower()\n",
    "    idx = indices[title]\n",
    "    \n",
    "    sim_scores = list(enumerate(cosine_sim[idx]))\n",
    "    \n",
    "    sim_scores = sorted(sim_scores, key = lambda x: x[1], reverse= True)\n",
    "    \n",
    "    sim_scores = sim_scores[1:11]\n",
    "    \n",
    "    movie_indices = [i[0] for i in sim_scores]\n",
    "    \n",
    "    return df_features['title'].str.capitalize().iloc[movie_indices]"
   ]
  },
  {
   "cell_type": "code",
   "execution_count": 51,
   "id": "7c8a353c",
   "metadata": {
    "execution": {
     "iopub.execute_input": "2023-10-19T19:07:51.416311Z",
     "iopub.status.busy": "2023-10-19T19:07:51.415363Z",
     "iopub.status.idle": "2023-10-19T19:07:51.435947Z",
     "shell.execute_reply": "2023-10-19T19:07:51.434641Z"
    },
    "papermill": {
     "duration": 0.046676,
     "end_time": "2023-10-19T19:07:51.439426",
     "exception": false,
     "start_time": "2023-10-19T19:07:51.392750",
     "status": "completed"
    },
    "tags": []
   },
   "outputs": [
    {
     "data": {
      "text/plain": [
       "712                                Insidious\n",
       "822                            Theconjuring2\n",
       "2151                          Inthetallgrass\n",
       "1199                              Thebinding\n",
       "3115                                  Creep2\n",
       "3502    Iamtheprettythingthatlivesinthehouse\n",
       "3562                                    Hush\n",
       "3831                             Backcountry\n",
       "1286                                  #alive\n",
       "639                               Homunculus\n",
       "Name: title, dtype: object"
      ]
     },
     "execution_count": 51,
     "metadata": {},
     "output_type": "execute_result"
    }
   ],
   "source": [
    "get_recommendations2('The Conjuring', cosine_sim2)"
   ]
  },
  {
   "cell_type": "code",
   "execution_count": null,
   "id": "f046efdc",
   "metadata": {
    "papermill": {
     "duration": 0.022268,
     "end_time": "2023-10-19T19:07:51.489243",
     "exception": false,
     "start_time": "2023-10-19T19:07:51.466975",
     "status": "completed"
    },
    "tags": []
   },
   "outputs": [],
   "source": []
  }
 ],
 "metadata": {
  "kernelspec": {
   "display_name": "Python 3 (ipykernel)",
   "language": "python",
   "name": "python3"
  },
  "language_info": {
   "codemirror_mode": {
    "name": "ipython",
    "version": 3
   },
   "file_extension": ".py",
   "mimetype": "text/x-python",
   "name": "python",
   "nbconvert_exporter": "python",
   "pygments_lexer": "ipython3",
   "version": "3.10.2"
  },
  "papermill": {
   "default_parameters": {},
   "duration": 11.490438,
   "end_time": "2023-10-19T19:07:52.229904",
   "environment_variables": {},
   "exception": null,
   "input_path": "__notebook__.ipynb",
   "output_path": "__notebook__.ipynb",
   "parameters": {},
   "start_time": "2023-10-19T19:07:40.739466",
   "version": "2.4.0"
  }
 },
 "nbformat": 4,
 "nbformat_minor": 5
}
