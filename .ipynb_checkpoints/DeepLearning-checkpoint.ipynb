{
 "cells": [
  {
   "cell_type": "code",
   "execution_count": 1,
   "id": "cac48f2d",
   "metadata": {
    "execution": {
     "iopub.execute_input": "2023-07-16T19:47:49.016499Z",
     "iopub.status.busy": "2023-07-16T19:47:49.016002Z",
     "iopub.status.idle": "2023-07-16T19:47:49.021733Z",
     "shell.execute_reply": "2023-07-16T19:47:49.020431Z"
    },
    "papermill": {
     "duration": 0.029704,
     "end_time": "2023-07-16T19:47:49.024285",
     "exception": false,
     "start_time": "2023-07-16T19:47:48.994581",
     "status": "completed"
    },
    "tags": []
   },
   "outputs": [],
   "source": [
    "import pandas as pd # for data manipulation\n",
    "import numpy as np # for linear algebra\n",
    "import matplotlib.pyplot as plt # for plotting"
   ]
  },
  {
   "cell_type": "markdown",
   "id": "4f041cd1",
   "metadata": {
    "papermill": {
     "duration": 0.018209,
     "end_time": "2023-07-16T19:47:49.061272",
     "exception": false,
     "start_time": "2023-07-16T19:47:49.043063",
     "status": "completed"
    },
    "tags": []
   },
   "source": [
    "# <p style= \"background-color:#428da6;font-family:Georgia;padding: 6px;color:#FFFFFF;font-size:110%;text-align:center;border-radius:30px 60px;overflow:hidden;\">Loading Dataset</p>"
   ]
  },
  {
   "cell_type": "code",
   "execution_count": 2,
   "id": "f181f40e",
   "metadata": {
    "execution": {
     "iopub.execute_input": "2023-07-16T19:47:49.101073Z",
     "iopub.status.busy": "2023-07-16T19:47:49.100293Z",
     "iopub.status.idle": "2023-07-16T19:47:49.105624Z",
     "shell.execute_reply": "2023-07-16T19:47:49.104637Z"
    },
    "papermill": {
     "duration": 0.028214,
     "end_time": "2023-07-16T19:47:49.108165",
     "exception": false,
     "start_time": "2023-07-16T19:47:49.079951",
     "status": "completed"
    },
    "tags": []
   },
   "outputs": [],
   "source": [
    "# Getting path of dataset\n",
    "dataset_path = 'train.csv'"
   ]
  },
  {
   "cell_type": "code",
   "execution_count": 3,
   "id": "f8a0975d",
   "metadata": {
    "execution": {
     "iopub.execute_input": "2023-07-16T19:47:49.147910Z",
     "iopub.status.busy": "2023-07-16T19:47:49.147175Z",
     "iopub.status.idle": "2023-07-16T19:47:49.366372Z",
     "shell.execute_reply": "2023-07-16T19:47:49.365020Z"
    },
    "papermill": {
     "duration": 0.242427,
     "end_time": "2023-07-16T19:47:49.369146",
     "exception": false,
     "start_time": "2023-07-16T19:47:49.126719",
     "status": "completed"
    },
    "tags": []
   },
   "outputs": [
    {
     "data": {
      "text/html": [
       "<div>\n",
       "<style scoped>\n",
       "    .dataframe tbody tr th:only-of-type {\n",
       "        vertical-align: middle;\n",
       "    }\n",
       "\n",
       "    .dataframe tbody tr th {\n",
       "        vertical-align: top;\n",
       "    }\n",
       "\n",
       "    .dataframe thead th {\n",
       "        text-align: right;\n",
       "    }\n",
       "</style>\n",
       "<table border=\"1\" class=\"dataframe\">\n",
       "  <thead>\n",
       "    <tr style=\"text-align: right;\">\n",
       "      <th></th>\n",
       "      <th>Unnamed: 0</th>\n",
       "      <th>show_id</th>\n",
       "      <th>type</th>\n",
       "      <th>title</th>\n",
       "      <th>director</th>\n",
       "      <th>cast</th>\n",
       "      <th>country</th>\n",
       "      <th>date_added</th>\n",
       "      <th>release_year</th>\n",
       "      <th>duration</th>\n",
       "      <th>description</th>\n",
       "      <th>genre</th>\n",
       "    </tr>\n",
       "  </thead>\n",
       "  <tbody>\n",
       "    <tr>\n",
       "      <th>0</th>\n",
       "      <td>6128</td>\n",
       "      <td>s6129</td>\n",
       "      <td>TV Show</td>\n",
       "      <td>The Big Family Cooking Showdown</td>\n",
       "      <td>NaN</td>\n",
       "      <td>Zoe Ball, Nadiya Hussain, Giorgio Locatelli, R...</td>\n",
       "      <td>United Kingdom</td>\n",
       "      <td>February 22, 2019</td>\n",
       "      <td>2018</td>\n",
       "      <td>2</td>\n",
       "      <td>In this unscripted series, families passionate...</td>\n",
       "      <td>British TV</td>\n",
       "    </tr>\n",
       "    <tr>\n",
       "      <th>1</th>\n",
       "      <td>7018</td>\n",
       "      <td>s7019</td>\n",
       "      <td>TV Show</td>\n",
       "      <td>The World's Most Extraordinary Homes</td>\n",
       "      <td>NaN</td>\n",
       "      <td>Piers Taylor, Caroline Quentin</td>\n",
       "      <td>United Kingdom</td>\n",
       "      <td>January 18, 2019</td>\n",
       "      <td>2019</td>\n",
       "      <td>3</td>\n",
       "      <td>Award-winning architect Piers Taylor and actre...</td>\n",
       "      <td>British TV</td>\n",
       "    </tr>\n",
       "    <tr>\n",
       "      <th>2</th>\n",
       "      <td>4657</td>\n",
       "      <td>s4658</td>\n",
       "      <td>TV Show</td>\n",
       "      <td>One-Punch Man</td>\n",
       "      <td>NaN</td>\n",
       "      <td>Makoto Furukawa, Kaito Ishikawa, Yuki Kaji, Ao...</td>\n",
       "      <td>Japan</td>\n",
       "      <td>March 20, 2017</td>\n",
       "      <td>2015</td>\n",
       "      <td>1</td>\n",
       "      <td>The most powerful superhero in the world can k...</td>\n",
       "      <td>Anime Series</td>\n",
       "    </tr>\n",
       "    <tr>\n",
       "      <th>3</th>\n",
       "      <td>6167</td>\n",
       "      <td>s6168</td>\n",
       "      <td>Movie</td>\n",
       "      <td>The Boy Who Harnessed the Wind</td>\n",
       "      <td>Chiwetel Ejiofor</td>\n",
       "      <td>Maxwell Simba, Chiwetel Ejiofor, Aïssa Maïga, ...</td>\n",
       "      <td>United Kingdom</td>\n",
       "      <td>March 1, 2019</td>\n",
       "      <td>2019</td>\n",
       "      <td>114</td>\n",
       "      <td>Inspired by a science book, 13-year-old Willia...</td>\n",
       "      <td>Children</td>\n",
       "    </tr>\n",
       "    <tr>\n",
       "      <th>4</th>\n",
       "      <td>3562</td>\n",
       "      <td>s3563</td>\n",
       "      <td>Movie</td>\n",
       "      <td>LeapFrog: Sing-along, Read-along</td>\n",
       "      <td>Ron Myrick</td>\n",
       "      <td>Julie Maddalena, Cindy Robinson</td>\n",
       "      <td>NaN</td>\n",
       "      <td>April 15, 2020</td>\n",
       "      <td>2011</td>\n",
       "      <td>32</td>\n",
       "      <td>Using rhythm and rhymes, a funky band and a co...</td>\n",
       "      <td>Children</td>\n",
       "    </tr>\n",
       "  </tbody>\n",
       "</table>\n",
       "</div>"
      ],
      "text/plain": [
       "   Unnamed: 0 show_id     type                                 title  \\\n",
       "0        6128   s6129  TV Show       The Big Family Cooking Showdown   \n",
       "1        7018   s7019  TV Show  The World's Most Extraordinary Homes   \n",
       "2        4657   s4658  TV Show                         One-Punch Man   \n",
       "3        6167   s6168    Movie        The Boy Who Harnessed the Wind   \n",
       "4        3562   s3563    Movie      LeapFrog: Sing-along, Read-along   \n",
       "\n",
       "           director                                               cast  \\\n",
       "0               NaN  Zoe Ball, Nadiya Hussain, Giorgio Locatelli, R...   \n",
       "1               NaN                     Piers Taylor, Caroline Quentin   \n",
       "2               NaN  Makoto Furukawa, Kaito Ishikawa, Yuki Kaji, Ao...   \n",
       "3  Chiwetel Ejiofor  Maxwell Simba, Chiwetel Ejiofor, Aïssa Maïga, ...   \n",
       "4        Ron Myrick                    Julie Maddalena, Cindy Robinson   \n",
       "\n",
       "          country         date_added  release_year  duration  \\\n",
       "0  United Kingdom  February 22, 2019          2018         2   \n",
       "1  United Kingdom   January 18, 2019          2019         3   \n",
       "2           Japan     March 20, 2017          2015         1   \n",
       "3  United Kingdom      March 1, 2019          2019       114   \n",
       "4             NaN     April 15, 2020          2011        32   \n",
       "\n",
       "                                         description         genre  \n",
       "0  In this unscripted series, families passionate...    British TV  \n",
       "1  Award-winning architect Piers Taylor and actre...    British TV  \n",
       "2  The most powerful superhero in the world can k...  Anime Series  \n",
       "3  Inspired by a science book, 13-year-old Willia...      Children  \n",
       "4  Using rhythm and rhymes, a funky band and a co...      Children  "
      ]
     },
     "execution_count": 3,
     "metadata": {},
     "output_type": "execute_result"
    }
   ],
   "source": [
    "# Loading dataset\n",
    "df = pd.read_csv(dataset_path)\n",
    "\n",
    "# Displaying our data\n",
    "df.head()"
   ]
  },
  {
   "cell_type": "markdown",
   "id": "21a62dfe",
   "metadata": {
    "papermill": {
     "duration": 0.018823,
     "end_time": "2023-07-16T19:47:49.407091",
     "exception": false,
     "start_time": "2023-07-16T19:47:49.388268",
     "status": "completed"
    },
    "tags": []
   },
   "source": [
    "# <p style= \"background-color:#428da6;font-family:Georgia;padding: 6px;color:#FFFFFF;font-size:110%;text-align:center;border-radius:30px 60px;overflow:hidden;\">Data Cleaning</p>\n"
   ]
  },
  {
   "cell_type": "code",
   "execution_count": 4,
   "id": "f748f972",
   "metadata": {
    "execution": {
     "iopub.execute_input": "2023-07-16T19:47:49.524200Z",
     "iopub.status.busy": "2023-07-16T19:47:49.523493Z",
     "iopub.status.idle": "2023-07-16T19:47:49.542564Z",
     "shell.execute_reply": "2023-07-16T19:47:49.541216Z"
    },
    "papermill": {
     "duration": 0.042601,
     "end_time": "2023-07-16T19:47:49.545257",
     "exception": false,
     "start_time": "2023-07-16T19:47:49.502656",
     "status": "completed"
    },
    "tags": []
   },
   "outputs": [
    {
     "data": {
      "text/html": [
       "<div>\n",
       "<style scoped>\n",
       "    .dataframe tbody tr th:only-of-type {\n",
       "        vertical-align: middle;\n",
       "    }\n",
       "\n",
       "    .dataframe tbody tr th {\n",
       "        vertical-align: top;\n",
       "    }\n",
       "\n",
       "    .dataframe thead th {\n",
       "        text-align: right;\n",
       "    }\n",
       "</style>\n",
       "<table border=\"1\" class=\"dataframe\">\n",
       "  <thead>\n",
       "    <tr style=\"text-align: right;\">\n",
       "      <th></th>\n",
       "      <th>Unnamed: 0</th>\n",
       "      <th>show_id</th>\n",
       "      <th>type</th>\n",
       "      <th>title</th>\n",
       "      <th>director</th>\n",
       "      <th>cast</th>\n",
       "      <th>country</th>\n",
       "      <th>date_added</th>\n",
       "      <th>release_year</th>\n",
       "      <th>duration</th>\n",
       "      <th>description</th>\n",
       "      <th>genre</th>\n",
       "    </tr>\n",
       "  </thead>\n",
       "  <tbody>\n",
       "    <tr>\n",
       "      <th>0</th>\n",
       "      <td>6128</td>\n",
       "      <td>s6129</td>\n",
       "      <td>TV Show</td>\n",
       "      <td>The Big Family Cooking Showdown</td>\n",
       "      <td>NaN</td>\n",
       "      <td>Zoe Ball, Nadiya Hussain, Giorgio Locatelli, R...</td>\n",
       "      <td>United Kingdom</td>\n",
       "      <td>February 22, 2019</td>\n",
       "      <td>2018</td>\n",
       "      <td>2</td>\n",
       "      <td>In this unscripted series, families passionate...</td>\n",
       "      <td>British TV</td>\n",
       "    </tr>\n",
       "    <tr>\n",
       "      <th>1</th>\n",
       "      <td>7018</td>\n",
       "      <td>s7019</td>\n",
       "      <td>TV Show</td>\n",
       "      <td>The World's Most Extraordinary Homes</td>\n",
       "      <td>NaN</td>\n",
       "      <td>Piers Taylor, Caroline Quentin</td>\n",
       "      <td>United Kingdom</td>\n",
       "      <td>January 18, 2019</td>\n",
       "      <td>2019</td>\n",
       "      <td>3</td>\n",
       "      <td>Award-winning architect Piers Taylor and actre...</td>\n",
       "      <td>British TV</td>\n",
       "    </tr>\n",
       "    <tr>\n",
       "      <th>2</th>\n",
       "      <td>4657</td>\n",
       "      <td>s4658</td>\n",
       "      <td>TV Show</td>\n",
       "      <td>One-Punch Man</td>\n",
       "      <td>NaN</td>\n",
       "      <td>Makoto Furukawa, Kaito Ishikawa, Yuki Kaji, Ao...</td>\n",
       "      <td>Japan</td>\n",
       "      <td>March 20, 2017</td>\n",
       "      <td>2015</td>\n",
       "      <td>1</td>\n",
       "      <td>The most powerful superhero in the world can k...</td>\n",
       "      <td>Anime Series</td>\n",
       "    </tr>\n",
       "    <tr>\n",
       "      <th>3</th>\n",
       "      <td>6167</td>\n",
       "      <td>s6168</td>\n",
       "      <td>Movie</td>\n",
       "      <td>The Boy Who Harnessed the Wind</td>\n",
       "      <td>Chiwetel Ejiofor</td>\n",
       "      <td>Maxwell Simba, Chiwetel Ejiofor, Aïssa Maïga, ...</td>\n",
       "      <td>United Kingdom</td>\n",
       "      <td>March 1, 2019</td>\n",
       "      <td>2019</td>\n",
       "      <td>114</td>\n",
       "      <td>Inspired by a science book, 13-year-old Willia...</td>\n",
       "      <td>Children</td>\n",
       "    </tr>\n",
       "    <tr>\n",
       "      <th>4</th>\n",
       "      <td>3562</td>\n",
       "      <td>s3563</td>\n",
       "      <td>Movie</td>\n",
       "      <td>LeapFrog: Sing-along, Read-along</td>\n",
       "      <td>Ron Myrick</td>\n",
       "      <td>Julie Maddalena, Cindy Robinson</td>\n",
       "      <td>NaN</td>\n",
       "      <td>April 15, 2020</td>\n",
       "      <td>2011</td>\n",
       "      <td>32</td>\n",
       "      <td>Using rhythm and rhymes, a funky band and a co...</td>\n",
       "      <td>Children</td>\n",
       "    </tr>\n",
       "  </tbody>\n",
       "</table>\n",
       "</div>"
      ],
      "text/plain": [
       "   Unnamed: 0 show_id     type                                 title  \\\n",
       "0        6128   s6129  TV Show       The Big Family Cooking Showdown   \n",
       "1        7018   s7019  TV Show  The World's Most Extraordinary Homes   \n",
       "2        4657   s4658  TV Show                         One-Punch Man   \n",
       "3        6167   s6168    Movie        The Boy Who Harnessed the Wind   \n",
       "4        3562   s3563    Movie      LeapFrog: Sing-along, Read-along   \n",
       "\n",
       "           director                                               cast  \\\n",
       "0               NaN  Zoe Ball, Nadiya Hussain, Giorgio Locatelli, R...   \n",
       "1               NaN                     Piers Taylor, Caroline Quentin   \n",
       "2               NaN  Makoto Furukawa, Kaito Ishikawa, Yuki Kaji, Ao...   \n",
       "3  Chiwetel Ejiofor  Maxwell Simba, Chiwetel Ejiofor, Aïssa Maïga, ...   \n",
       "4        Ron Myrick                    Julie Maddalena, Cindy Robinson   \n",
       "\n",
       "          country         date_added  release_year  duration  \\\n",
       "0  United Kingdom  February 22, 2019          2018         2   \n",
       "1  United Kingdom   January 18, 2019          2019         3   \n",
       "2           Japan     March 20, 2017          2015         1   \n",
       "3  United Kingdom      March 1, 2019          2019       114   \n",
       "4             NaN     April 15, 2020          2011        32   \n",
       "\n",
       "                                         description         genre  \n",
       "0  In this unscripted series, families passionate...    British TV  \n",
       "1  Award-winning architect Piers Taylor and actre...    British TV  \n",
       "2  The most powerful superhero in the world can k...  Anime Series  \n",
       "3  Inspired by a science book, 13-year-old Willia...      Children  \n",
       "4  Using rhythm and rhymes, a funky band and a co...      Children  "
      ]
     },
     "execution_count": 4,
     "metadata": {},
     "output_type": "execute_result"
    }
   ],
   "source": [
    "# Displaying our data\n",
    "df.head()"
   ]
  },
  {
   "cell_type": "code",
   "execution_count": 6,
   "id": "f12ebce0",
   "metadata": {
    "execution": {
     "iopub.execute_input": "2023-07-16T19:47:49.627866Z",
     "iopub.status.busy": "2023-07-16T19:47:49.627077Z",
     "iopub.status.idle": "2023-07-16T19:47:49.639396Z",
     "shell.execute_reply": "2023-07-16T19:47:49.637960Z"
    },
    "papermill": {
     "duration": 0.036885,
     "end_time": "2023-07-16T19:47:49.642630",
     "exception": false,
     "start_time": "2023-07-16T19:47:49.605745",
     "status": "completed"
    },
    "tags": []
   },
   "outputs": [],
   "source": [
    "# Dropping unneeded features \n",
    "df = df.drop([\"show_id\", \"date_added\",'Unnamed: 0'], axis=1) # , \"description\", \"cast\""
   ]
  },
  {
   "cell_type": "code",
   "execution_count": 7,
   "id": "4709f8c7",
   "metadata": {
    "execution": {
     "iopub.execute_input": "2023-07-16T19:47:49.684839Z",
     "iopub.status.busy": "2023-07-16T19:47:49.684083Z",
     "iopub.status.idle": "2023-07-16T19:47:49.692084Z",
     "shell.execute_reply": "2023-07-16T19:47:49.690771Z"
    },
    "papermill": {
     "duration": 0.032703,
     "end_time": "2023-07-16T19:47:49.695116",
     "exception": false,
     "start_time": "2023-07-16T19:47:49.662413",
     "status": "completed"
    },
    "tags": []
   },
   "outputs": [
    {
     "data": {
      "text/plain": [
       "(6223, 9)"
      ]
     },
     "execution_count": 7,
     "metadata": {},
     "output_type": "execute_result"
    }
   ],
   "source": [
    "# Printing shape of dataframe\n",
    "df.shape"
   ]
  },
  {
   "cell_type": "code",
   "execution_count": 8,
   "id": "1519582f",
   "metadata": {
    "execution": {
     "iopub.execute_input": "2023-07-16T19:47:49.775273Z",
     "iopub.status.busy": "2023-07-16T19:47:49.774808Z",
     "iopub.status.idle": "2023-07-16T19:47:49.796231Z",
     "shell.execute_reply": "2023-07-16T19:47:49.794800Z"
    },
    "papermill": {
     "duration": 0.045703,
     "end_time": "2023-07-16T19:47:49.799436",
     "exception": false,
     "start_time": "2023-07-16T19:47:49.753733",
     "status": "completed"
    },
    "tags": []
   },
   "outputs": [
    {
     "data": {
      "text/plain": [
       "type               0\n",
       "title              0\n",
       "director        1893\n",
       "cast             569\n",
       "country          423\n",
       "release_year       0\n",
       "duration           0\n",
       "description        0\n",
       "genre              0\n",
       "dtype: int64"
      ]
     },
     "execution_count": 8,
     "metadata": {},
     "output_type": "execute_result"
    }
   ],
   "source": [
    "# Checking number of missing values\n",
    "df.isna().sum()"
   ]
  },
  {
   "cell_type": "code",
   "execution_count": 9,
   "id": "9238eaa3",
   "metadata": {
    "execution": {
     "iopub.execute_input": "2023-07-16T19:47:49.880167Z",
     "iopub.status.busy": "2023-07-16T19:47:49.879775Z",
     "iopub.status.idle": "2023-07-16T19:47:49.913412Z",
     "shell.execute_reply": "2023-07-16T19:47:49.911949Z"
    },
    "papermill": {
     "duration": 0.057795,
     "end_time": "2023-07-16T19:47:49.916089",
     "exception": false,
     "start_time": "2023-07-16T19:47:49.858294",
     "status": "completed"
    },
    "tags": []
   },
   "outputs": [
    {
     "data": {
      "text/plain": [
       "type            0\n",
       "title           0\n",
       "director        0\n",
       "cast            0\n",
       "country         0\n",
       "release_year    0\n",
       "duration        0\n",
       "description     0\n",
       "genre           0\n",
       "dtype: int64"
      ]
     },
     "execution_count": 9,
     "metadata": {},
     "output_type": "execute_result"
    }
   ],
   "source": [
    "# Dropping missing values\n",
    "df = df.dropna()\n",
    "\n",
    "# Checking number of missing values\n",
    "df.isna().sum()"
   ]
  },
  {
   "cell_type": "code",
   "execution_count": 10,
   "id": "b9ab9029",
   "metadata": {
    "execution": {
     "iopub.execute_input": "2023-07-16T19:47:49.999309Z",
     "iopub.status.busy": "2023-07-16T19:47:49.998849Z",
     "iopub.status.idle": "2023-07-16T19:47:50.028721Z",
     "shell.execute_reply": "2023-07-16T19:47:50.027330Z"
    },
    "papermill": {
     "duration": 0.05557,
     "end_time": "2023-07-16T19:47:50.031524",
     "exception": false,
     "start_time": "2023-07-16T19:47:49.975954",
     "status": "completed"
    },
    "tags": []
   },
   "outputs": [
    {
     "data": {
      "text/plain": [
       "0"
      ]
     },
     "execution_count": 10,
     "metadata": {},
     "output_type": "execute_result"
    }
   ],
   "source": [
    "# Checking the number of identical records\n",
    "df.duplicated().sum()"
   ]
  },
  {
   "cell_type": "code",
   "execution_count": 11,
   "id": "6633c40a",
   "metadata": {
    "execution": {
     "iopub.execute_input": "2023-07-16T19:47:50.074766Z",
     "iopub.status.busy": "2023-07-16T19:47:50.073250Z",
     "iopub.status.idle": "2023-07-16T19:47:50.080981Z",
     "shell.execute_reply": "2023-07-16T19:47:50.080048Z"
    },
    "papermill": {
     "duration": 0.032072,
     "end_time": "2023-07-16T19:47:50.083664",
     "exception": false,
     "start_time": "2023-07-16T19:47:50.051592",
     "status": "completed"
    },
    "tags": []
   },
   "outputs": [
    {
     "data": {
      "text/plain": [
       "(5332, 10)"
      ]
     },
     "execution_count": 11,
     "metadata": {},
     "output_type": "execute_result"
    }
   ],
   "source": [
    "# Printing shape of dataframe\n",
    "df.shape"
   ]
  },
  {
   "cell_type": "markdown",
   "id": "a15f40ad",
   "metadata": {
    "papermill": {
     "duration": 0.020104,
     "end_time": "2023-07-16T19:47:50.124200",
     "exception": false,
     "start_time": "2023-07-16T19:47:50.104096",
     "status": "completed"
    },
    "tags": []
   },
   "source": [
    "<div style=\"background-color:#FFF3CD; color:#856404; padding:10px\">\n",
    "    <span style=\"font-weight:bold\">💡 Note:</span> As we can see by removing records with missing values we removed over 30% of our data, which is not recomened, it can be changed later for better results.\n",
    "</div>\n"
   ]
  },
  {
   "cell_type": "markdown",
   "id": "16342f2c",
   "metadata": {
    "papermill": {
     "duration": 0.019847,
     "end_time": "2023-07-16T19:47:50.165122",
     "exception": false,
     "start_time": "2023-07-16T19:47:50.145275",
     "status": "completed"
    },
    "tags": []
   },
   "source": [
    "<div style=\"background-color:#D4EDDA; color:#155724; padding:20px; border-radius:10px; text-align:center;\">\n",
    "    <h3 style=\"font-style:italic; margin-top:0;\">🔍 Search:</h3>\n",
    "    <p style=\"margin-bottom:0; background-color:#D4EDDA; display:inline-block; padding:5px; border-radius:5px; font-size:15px;\">Most basic things have been done to dataframe. Let's explore other things. Let's see if all features have correct data types</p>\n",
    "</div>"
   ]
  },
  {
   "cell_type": "code",
   "execution_count": 12,
   "id": "6253643f",
   "metadata": {
    "execution": {
     "iopub.execute_input": "2023-07-16T19:47:50.207449Z",
     "iopub.status.busy": "2023-07-16T19:47:50.206985Z",
     "iopub.status.idle": "2023-07-16T19:47:50.216831Z",
     "shell.execute_reply": "2023-07-16T19:47:50.215571Z"
    },
    "papermill": {
     "duration": 0.03429,
     "end_time": "2023-07-16T19:47:50.219607",
     "exception": false,
     "start_time": "2023-07-16T19:47:50.185317",
     "status": "completed"
    },
    "tags": []
   },
   "outputs": [
    {
     "data": {
      "text/plain": [
       "type            object\n",
       "title           object\n",
       "director        object\n",
       "cast            object\n",
       "country         object\n",
       "release_year     int64\n",
       "rating          object\n",
       "duration        object\n",
       "listed_in       object\n",
       "description     object\n",
       "dtype: object"
      ]
     },
     "execution_count": 12,
     "metadata": {},
     "output_type": "execute_result"
    }
   ],
   "source": [
    "# Checking data types\n",
    "df.dtypes"
   ]
  },
  {
   "cell_type": "code",
   "execution_count": 13,
   "id": "cb339fbf",
   "metadata": {
    "execution": {
     "iopub.execute_input": "2023-07-16T19:47:50.263481Z",
     "iopub.status.busy": "2023-07-16T19:47:50.263004Z",
     "iopub.status.idle": "2023-07-16T19:47:50.282905Z",
     "shell.execute_reply": "2023-07-16T19:47:50.281354Z"
    },
    "papermill": {
     "duration": 0.044683,
     "end_time": "2023-07-16T19:47:50.285530",
     "exception": false,
     "start_time": "2023-07-16T19:47:50.240847",
     "status": "completed"
    },
    "tags": []
   },
   "outputs": [
    {
     "data": {
      "text/html": [
       "<div>\n",
       "<style scoped>\n",
       "    .dataframe tbody tr th:only-of-type {\n",
       "        vertical-align: middle;\n",
       "    }\n",
       "\n",
       "    .dataframe tbody tr th {\n",
       "        vertical-align: top;\n",
       "    }\n",
       "\n",
       "    .dataframe thead th {\n",
       "        text-align: right;\n",
       "    }\n",
       "</style>\n",
       "<table border=\"1\" class=\"dataframe\">\n",
       "  <thead>\n",
       "    <tr style=\"text-align: right;\">\n",
       "      <th></th>\n",
       "      <th>type</th>\n",
       "      <th>title</th>\n",
       "      <th>director</th>\n",
       "      <th>cast</th>\n",
       "      <th>country</th>\n",
       "      <th>release_year</th>\n",
       "      <th>rating</th>\n",
       "      <th>duration</th>\n",
       "      <th>listed_in</th>\n",
       "      <th>description</th>\n",
       "    </tr>\n",
       "  </thead>\n",
       "  <tbody>\n",
       "    <tr>\n",
       "      <th>7</th>\n",
       "      <td>Movie</td>\n",
       "      <td>Sankofa</td>\n",
       "      <td>Haile Gerima</td>\n",
       "      <td>Kofi Ghanaba, Oyafunmike Ogunlano, Alexandra D...</td>\n",
       "      <td>United States, Ghana, Burkina Faso, United Kin...</td>\n",
       "      <td>1993</td>\n",
       "      <td>TV-MA</td>\n",
       "      <td>125 min</td>\n",
       "      <td>Dramas, Independent Movies, International Movies</td>\n",
       "      <td>On a photo shoot in Ghana, an American model s...</td>\n",
       "    </tr>\n",
       "    <tr>\n",
       "      <th>8</th>\n",
       "      <td>TV Show</td>\n",
       "      <td>The Great British Baking Show</td>\n",
       "      <td>Andy Devonshire</td>\n",
       "      <td>Mel Giedroyc, Sue Perkins, Mary Berry, Paul Ho...</td>\n",
       "      <td>United Kingdom</td>\n",
       "      <td>2021</td>\n",
       "      <td>TV-14</td>\n",
       "      <td>9 Seasons</td>\n",
       "      <td>British TV Shows, Reality TV</td>\n",
       "      <td>A talented batch of amateur bakers face off in...</td>\n",
       "    </tr>\n",
       "    <tr>\n",
       "      <th>9</th>\n",
       "      <td>Movie</td>\n",
       "      <td>The Starling</td>\n",
       "      <td>Theodore Melfi</td>\n",
       "      <td>Melissa McCarthy, Chris O'Dowd, Kevin Kline, T...</td>\n",
       "      <td>United States</td>\n",
       "      <td>2021</td>\n",
       "      <td>PG-13</td>\n",
       "      <td>104 min</td>\n",
       "      <td>Comedies, Dramas</td>\n",
       "      <td>A woman adjusting to life after a loss contend...</td>\n",
       "    </tr>\n",
       "    <tr>\n",
       "      <th>12</th>\n",
       "      <td>Movie</td>\n",
       "      <td>Je Suis Karl</td>\n",
       "      <td>Christian Schwochow</td>\n",
       "      <td>Luna Wedler, Jannis Niewöhner, Milan Peschel, ...</td>\n",
       "      <td>Germany, Czech Republic</td>\n",
       "      <td>2021</td>\n",
       "      <td>TV-MA</td>\n",
       "      <td>127 min</td>\n",
       "      <td>Dramas, International Movies</td>\n",
       "      <td>After most of her family is murdered in a terr...</td>\n",
       "    </tr>\n",
       "    <tr>\n",
       "      <th>24</th>\n",
       "      <td>Movie</td>\n",
       "      <td>Jeans</td>\n",
       "      <td>S. Shankar</td>\n",
       "      <td>Prashanth, Aishwarya Rai Bachchan, Sri Lakshmi...</td>\n",
       "      <td>India</td>\n",
       "      <td>1998</td>\n",
       "      <td>TV-14</td>\n",
       "      <td>166 min</td>\n",
       "      <td>Comedies, International Movies, Romantic Movies</td>\n",
       "      <td>When the father of the man she loves insists t...</td>\n",
       "    </tr>\n",
       "  </tbody>\n",
       "</table>\n",
       "</div>"
      ],
      "text/plain": [
       "       type                          title             director  \\\n",
       "7     Movie                        Sankofa         Haile Gerima   \n",
       "8   TV Show  The Great British Baking Show      Andy Devonshire   \n",
       "9     Movie                   The Starling       Theodore Melfi   \n",
       "12    Movie                   Je Suis Karl  Christian Schwochow   \n",
       "24    Movie                          Jeans           S. Shankar   \n",
       "\n",
       "                                                 cast  \\\n",
       "7   Kofi Ghanaba, Oyafunmike Ogunlano, Alexandra D...   \n",
       "8   Mel Giedroyc, Sue Perkins, Mary Berry, Paul Ho...   \n",
       "9   Melissa McCarthy, Chris O'Dowd, Kevin Kline, T...   \n",
       "12  Luna Wedler, Jannis Niewöhner, Milan Peschel, ...   \n",
       "24  Prashanth, Aishwarya Rai Bachchan, Sri Lakshmi...   \n",
       "\n",
       "                                              country  release_year rating  \\\n",
       "7   United States, Ghana, Burkina Faso, United Kin...          1993  TV-MA   \n",
       "8                                      United Kingdom          2021  TV-14   \n",
       "9                                       United States          2021  PG-13   \n",
       "12                            Germany, Czech Republic          2021  TV-MA   \n",
       "24                                              India          1998  TV-14   \n",
       "\n",
       "     duration                                         listed_in  \\\n",
       "7     125 min  Dramas, Independent Movies, International Movies   \n",
       "8   9 Seasons                      British TV Shows, Reality TV   \n",
       "9     104 min                                  Comedies, Dramas   \n",
       "12    127 min                      Dramas, International Movies   \n",
       "24    166 min   Comedies, International Movies, Romantic Movies   \n",
       "\n",
       "                                          description  \n",
       "7   On a photo shoot in Ghana, an American model s...  \n",
       "8   A talented batch of amateur bakers face off in...  \n",
       "9   A woman adjusting to life after a loss contend...  \n",
       "12  After most of her family is murdered in a terr...  \n",
       "24  When the father of the man she loves insists t...  "
      ]
     },
     "execution_count": 13,
     "metadata": {},
     "output_type": "execute_result"
    }
   ],
   "source": [
    "# Displaying our data\n",
    "df.head()"
   ]
  },
  {
   "cell_type": "markdown",
   "id": "da79b3a5",
   "metadata": {
    "papermill": {
     "duration": 0.020768,
     "end_time": "2023-07-16T19:47:50.328160",
     "exception": false,
     "start_time": "2023-07-16T19:47:50.307392",
     "status": "completed"
    },
    "tags": []
   },
   "source": [
    "<div style=\"background-color:#cce5ff; color:#1c2e4a; padding:10px\">\n",
    "    <span style=\"font-weight:bold\">💬 Info:</span> Data types are correct, besides duration feaute. It is time feature that contains number with indicator of units at the end. Lets see how many units are used there.\n",
    "</div>"
   ]
  },
  {
   "cell_type": "code",
   "execution_count": 14,
   "id": "01918b8d",
   "metadata": {
    "execution": {
     "iopub.execute_input": "2023-07-16T19:47:50.372000Z",
     "iopub.status.busy": "2023-07-16T19:47:50.371552Z",
     "iopub.status.idle": "2023-07-16T19:47:50.381179Z",
     "shell.execute_reply": "2023-07-16T19:47:50.379905Z"
    },
    "papermill": {
     "duration": 0.034917,
     "end_time": "2023-07-16T19:47:50.383947",
     "exception": false,
     "start_time": "2023-07-16T19:47:50.349030",
     "status": "completed"
    },
    "tags": []
   },
   "outputs": [
    {
     "data": {
      "text/plain": [
       "7       125 min\n",
       "8     9 Seasons\n",
       "9       104 min\n",
       "12      127 min\n",
       "24      166 min\n",
       "Name: duration, dtype: object"
      ]
     },
     "execution_count": 14,
     "metadata": {},
     "output_type": "execute_result"
    }
   ],
   "source": [
    "# Displaying feature\n",
    "df.duration.head()"
   ]
  },
  {
   "cell_type": "code",
   "execution_count": 15,
   "id": "e449e653",
   "metadata": {
    "execution": {
     "iopub.execute_input": "2023-07-16T19:47:50.428210Z",
     "iopub.status.busy": "2023-07-16T19:47:50.427754Z",
     "iopub.status.idle": "2023-07-16T19:47:50.446895Z",
     "shell.execute_reply": "2023-07-16T19:47:50.444806Z"
    },
    "papermill": {
     "duration": 0.044308,
     "end_time": "2023-07-16T19:47:50.449558",
     "exception": false,
     "start_time": "2023-07-16T19:47:50.405250",
     "status": "completed"
    },
    "tags": []
   },
   "outputs": [
    {
     "name": "stdout",
     "output_type": "stream",
     "text": [
      "{'Seasons', 'Season', 'min'}\n"
     ]
    }
   ],
   "source": [
    "# Checking unique units in duration feature\n",
    "unique_durations = set([x[1] for x in df.duration.str.split()])\n",
    "\n",
    "print(unique_durations)"
   ]
  },
  {
   "cell_type": "markdown",
   "id": "49c8db8b",
   "metadata": {
    "papermill": {
     "duration": 0.021064,
     "end_time": "2023-07-16T19:47:50.492031",
     "exception": false,
     "start_time": "2023-07-16T19:47:50.470967",
     "status": "completed"
    },
    "tags": []
   },
   "source": [
    "<div style=\"background-color:#cce5ff; color:#1c2e4a; padding:10px\">\n",
    "    <span style=\"font-weight:bold\">💬 Info:</span> As we can notice there are 3 types of records: 'min', 'Season' and 'Seasons' as units.<br>\n",
    "I have descided to transform all of it into minutes.<br>\n",
    "Knowing from google that typical season has 20 episodes where each episode lasts about 20 minutes I multiply seasons by 400 to get minutes.\n",
    "</div>"
   ]
  },
  {
   "cell_type": "code",
   "execution_count": 16,
   "id": "c9ee10e1",
   "metadata": {
    "execution": {
     "iopub.execute_input": "2023-07-16T19:47:50.538694Z",
     "iopub.status.busy": "2023-07-16T19:47:50.538180Z",
     "iopub.status.idle": "2023-07-16T19:47:50.559558Z",
     "shell.execute_reply": "2023-07-16T19:47:50.558529Z"
    },
    "papermill": {
     "duration": 0.047591,
     "end_time": "2023-07-16T19:47:50.562089",
     "exception": false,
     "start_time": "2023-07-16T19:47:50.514498",
     "status": "completed"
    },
    "tags": []
   },
   "outputs": [
    {
     "data": {
      "text/plain": [
       "7        125\n",
       "8       3600\n",
       "9        104\n",
       "12       127\n",
       "24       166\n",
       "        ... \n",
       "8801      96\n",
       "8802     158\n",
       "8804      88\n",
       "8805      88\n",
       "8806     111\n",
       "Name: duration, Length: 5332, dtype: int64"
      ]
     },
     "execution_count": 16,
     "metadata": {},
     "output_type": "execute_result"
    }
   ],
   "source": [
    "# defining a function to convert duration to minutes\n",
    "def converting_to_minutes(duration):\n",
    "    if \"Season\" in duration:\n",
    "        num_seasons = int(duration.split()[0])\n",
    "        return num_seasons * 400\n",
    "    else:\n",
    "        return int(duration.split()[0])\n",
    "\n",
    "# Applying the function to the duration column\n",
    "df['duration'] = df['duration'].apply(converting_to_minutes)\n",
    "\n",
    "# Printing results\n",
    "df['duration']"
   ]
  },
  {
   "cell_type": "markdown",
   "id": "cc25b790",
   "metadata": {
    "execution": {
     "iopub.execute_input": "2023-07-15T19:46:15.912057Z",
     "iopub.status.busy": "2023-07-15T19:46:15.911570Z",
     "iopub.status.idle": "2023-07-15T19:46:15.921763Z",
     "shell.execute_reply": "2023-07-15T19:46:15.919504Z",
     "shell.execute_reply.started": "2023-07-15T19:46:15.912016Z"
    },
    "papermill": {
     "duration": 0.020958,
     "end_time": "2023-07-16T19:47:50.605629",
     "exception": false,
     "start_time": "2023-07-16T19:47:50.584671",
     "status": "completed"
    },
    "tags": []
   },
   "source": [
    "<div style=\"background-color:#D4EDDA; color:#155724; padding:20px; border-radius:10px; display:flex;\">\n",
    "    <div style=\"flex:1;\">\n",
    "        <h3 style=\"font-weight:bold; margin-top:0;\">✅ Success:</h3>\n",
    "    </div>\n",
    "    <div style=\"flex:2;\">\n",
    "        <p style=\"margin-bottom:0; font-size:15px;\">Duration feature has been fixed, dataframe is cleaned and ready for preprocessing.</p>\n",
    "    </div>\n",
    "</div>\n"
   ]
  },
  {
   "cell_type": "markdown",
   "id": "a557edb7",
   "metadata": {
    "papermill": {
     "duration": 0.021816,
     "end_time": "2023-07-16T19:47:50.648672",
     "exception": false,
     "start_time": "2023-07-16T19:47:50.626856",
     "status": "completed"
    },
    "tags": []
   },
   "source": [
    "# <p style= \"background-color:#428da6;font-family:Georgia;padding: 6px;color:#FFFFFF;font-size:110%;text-align:center;border-radius:30px 60px;overflow:hidden;\">Preprocessing</p>"
   ]
  },
  {
   "cell_type": "markdown",
   "id": "cfe4fda1",
   "metadata": {
    "execution": {
     "iopub.execute_input": "2023-07-15T19:51:09.790424Z",
     "iopub.status.busy": "2023-07-15T19:51:09.789591Z",
     "iopub.status.idle": "2023-07-15T19:51:09.800223Z",
     "shell.execute_reply": "2023-07-15T19:51:09.798364Z",
     "shell.execute_reply.started": "2023-07-15T19:51:09.790350Z"
    },
    "papermill": {
     "duration": 0.021185,
     "end_time": "2023-07-16T19:47:50.692008",
     "exception": false,
     "start_time": "2023-07-16T19:47:50.670823",
     "status": "completed"
    },
    "tags": []
   },
   "source": [
    "<div style=\"background-color:#cce5ff; color:#1c2e4a; padding:20px; border-radius:10px; text-align:center;\">\n",
    "    <h3 style=\"font-style:bold; margin-top:0;\">💬 Info:</h3>\n",
    "    <p style=\"margin-bottom:0; background-color:#4B008; display:inline-block; padding:5px; border-radius:5px; font-size:15px;\">In preprocessing step we will have to split features and \"title\" for simplicity and perform some kind of encoding and scaling of our features so they can be passed to machine learning algorythm.</p>\n",
    "</div>"
   ]
  },
  {
   "cell_type": "markdown",
   "id": "a456d533",
   "metadata": {
    "papermill": {
     "duration": 0.020997,
     "end_time": "2023-07-16T19:47:50.735666",
     "exception": false,
     "start_time": "2023-07-16T19:47:50.714669",
     "status": "completed"
    },
    "tags": []
   },
   "source": [
    "### Extracting features"
   ]
  },
  {
   "cell_type": "code",
   "execution_count": 17,
   "id": "f434b6ef",
   "metadata": {
    "execution": {
     "iopub.execute_input": "2023-07-16T19:47:50.780903Z",
     "iopub.status.busy": "2023-07-16T19:47:50.780399Z",
     "iopub.status.idle": "2023-07-16T19:47:50.788586Z",
     "shell.execute_reply": "2023-07-16T19:47:50.787499Z"
    },
    "papermill": {
     "duration": 0.034253,
     "end_time": "2023-07-16T19:47:50.791189",
     "exception": false,
     "start_time": "2023-07-16T19:47:50.756936",
     "status": "completed"
    },
    "tags": []
   },
   "outputs": [],
   "source": [
    "# Splitting data into X and target\n",
    "X = df.drop('title', axis=1)\n",
    "title = df['title']"
   ]
  },
  {
   "cell_type": "markdown",
   "id": "2629838e",
   "metadata": {
    "papermill": {
     "duration": 0.020802,
     "end_time": "2023-07-16T19:47:50.833113",
     "exception": false,
     "start_time": "2023-07-16T19:47:50.812311",
     "status": "completed"
    },
    "tags": []
   },
   "source": [
    "### Encoding and scaling all features"
   ]
  },
  {
   "cell_type": "code",
   "execution_count": 18,
   "id": "0ac69d1b",
   "metadata": {
    "execution": {
     "iopub.execute_input": "2023-07-16T19:47:50.877867Z",
     "iopub.status.busy": "2023-07-16T19:47:50.877325Z",
     "iopub.status.idle": "2023-07-16T19:47:50.995315Z",
     "shell.execute_reply": "2023-07-16T19:47:50.994007Z"
    },
    "jupyter": {
     "source_hidden": true
    },
    "papermill": {
     "duration": 0.144102,
     "end_time": "2023-07-16T19:47:50.998567",
     "exception": false,
     "start_time": "2023-07-16T19:47:50.854465",
     "status": "completed"
    },
    "tags": []
   },
   "outputs": [
    {
     "data": {
      "text/html": [
       "<style type=\"text/css\">\n",
       "#T_afd75_row0_col0, #T_afd75_row0_col1, #T_afd75_row0_col2, #T_afd75_row0_col3, #T_afd75_row0_col5, #T_afd75_row0_col7, #T_afd75_row0_col8, #T_afd75_row1_col0, #T_afd75_row1_col1, #T_afd75_row1_col2, #T_afd75_row1_col3, #T_afd75_row1_col5, #T_afd75_row1_col7, #T_afd75_row1_col8 {\n",
       "  background-color: lightyellow;\n",
       "}\n",
       "#T_afd75_row0_col4, #T_afd75_row0_col6, #T_afd75_row1_col4, #T_afd75_row1_col6 {\n",
       "  background-color: lightblue;\n",
       "}\n",
       "</style>\n",
       "<table id=\"T_afd75_\">\n",
       "  <thead>\n",
       "    <tr>\n",
       "      <th class=\"blank level0\" >&nbsp;</th>\n",
       "      <th class=\"col_heading level0 col0\" >type</th>\n",
       "      <th class=\"col_heading level0 col1\" >director</th>\n",
       "      <th class=\"col_heading level0 col2\" >cast</th>\n",
       "      <th class=\"col_heading level0 col3\" >country</th>\n",
       "      <th class=\"col_heading level0 col4\" >release_year</th>\n",
       "      <th class=\"col_heading level0 col5\" >rating</th>\n",
       "      <th class=\"col_heading level0 col6\" >duration</th>\n",
       "      <th class=\"col_heading level0 col7\" >listed_in</th>\n",
       "      <th class=\"col_heading level0 col8\" >description</th>\n",
       "    </tr>\n",
       "  </thead>\n",
       "  <tbody>\n",
       "    <tr>\n",
       "      <th id=\"T_afd75_level0_row0\" class=\"row_heading level0 row0\" >7</th>\n",
       "      <td id=\"T_afd75_row0_col0\" class=\"data row0 col0\" >Movie</td>\n",
       "      <td id=\"T_afd75_row0_col1\" class=\"data row0 col1\" >Haile Gerima</td>\n",
       "      <td id=\"T_afd75_row0_col2\" class=\"data row0 col2\" >Kofi Ghanaba, Oyafunmike Ogunlano, Alexandra Duah, Nick Medley, Mutabaruka, Afemo Omilami, Reggie Carter, Mzuri</td>\n",
       "      <td id=\"T_afd75_row0_col3\" class=\"data row0 col3\" >United States, Ghana, Burkina Faso, United Kingdom, Germany, Ethiopia</td>\n",
       "      <td id=\"T_afd75_row0_col4\" class=\"data row0 col4\" >1993</td>\n",
       "      <td id=\"T_afd75_row0_col5\" class=\"data row0 col5\" >TV-MA</td>\n",
       "      <td id=\"T_afd75_row0_col6\" class=\"data row0 col6\" >125</td>\n",
       "      <td id=\"T_afd75_row0_col7\" class=\"data row0 col7\" >Dramas, Independent Movies, International Movies</td>\n",
       "      <td id=\"T_afd75_row0_col8\" class=\"data row0 col8\" >On a photo shoot in Ghana, an American model slips back in time, becomes enslaved on a plantation and bears witness to the agony of her ancestral past.</td>\n",
       "    </tr>\n",
       "    <tr>\n",
       "      <th id=\"T_afd75_level0_row1\" class=\"row_heading level0 row1\" >8</th>\n",
       "      <td id=\"T_afd75_row1_col0\" class=\"data row1 col0\" >TV Show</td>\n",
       "      <td id=\"T_afd75_row1_col1\" class=\"data row1 col1\" >Andy Devonshire</td>\n",
       "      <td id=\"T_afd75_row1_col2\" class=\"data row1 col2\" >Mel Giedroyc, Sue Perkins, Mary Berry, Paul Hollywood</td>\n",
       "      <td id=\"T_afd75_row1_col3\" class=\"data row1 col3\" >United Kingdom</td>\n",
       "      <td id=\"T_afd75_row1_col4\" class=\"data row1 col4\" >2021</td>\n",
       "      <td id=\"T_afd75_row1_col5\" class=\"data row1 col5\" >TV-14</td>\n",
       "      <td id=\"T_afd75_row1_col6\" class=\"data row1 col6\" >3600</td>\n",
       "      <td id=\"T_afd75_row1_col7\" class=\"data row1 col7\" >British TV Shows, Reality TV</td>\n",
       "      <td id=\"T_afd75_row1_col8\" class=\"data row1 col8\" >A talented batch of amateur bakers face off in a 10-week competition, whipping up their best dishes in the hopes of being named the U.K.'s best.</td>\n",
       "    </tr>\n",
       "  </tbody>\n",
       "</table>\n"
      ],
      "text/plain": [
       "<pandas.io.formats.style.Styler at 0x7960eb34bad0>"
      ]
     },
     "execution_count": 18,
     "metadata": {},
     "output_type": "execute_result"
    }
   ],
   "source": [
    "styles = {'type': 'background-color: lightyellow',\n",
    "          'director': 'background-color: lightyellow',\n",
    "          'cast': 'background-color: lightyellow',\n",
    "          'country': 'background-color: lightyellow',\n",
    "          'release_year': 'background-color: lightblue',\n",
    "          'rating': 'background-color: lightyellow',\n",
    "          'duration': 'background-color: lightblue',\n",
    "          'listed_in': 'background-color: lightyellow',\n",
    "          'description': 'background-color: lightyellow',\n",
    "         }\n",
    "\n",
    "X.head(2).style.apply(lambda x: [styles.get(col, '') for col in x.index], axis=1)"
   ]
  },
  {
   "cell_type": "markdown",
   "id": "952cde6c",
   "metadata": {
    "execution": {
     "iopub.execute_input": "2023-07-15T19:54:36.952467Z",
     "iopub.status.busy": "2023-07-15T19:54:36.951922Z",
     "iopub.status.idle": "2023-07-15T19:54:36.962818Z",
     "shell.execute_reply": "2023-07-15T19:54:36.960904Z",
     "shell.execute_reply.started": "2023-07-15T19:54:36.952392Z"
    },
    "papermill": {
     "duration": 0.021325,
     "end_time": "2023-07-16T19:47:51.041834",
     "exception": false,
     "start_time": "2023-07-16T19:47:51.020509",
     "status": "completed"
    },
    "tags": []
   },
   "source": [
    "<div style=\"background-color:#cce5ff; color:#1c2e4a; padding:10px\">\n",
    "    <span style=\"font-size:22px;\">💬 Info:</span>\n",
    "    \n",
    "##### X Features need different type of preprocessing. Categorical features need to be encoded and numerical need to be scaled. Below I choosed what transformations I am gonna use.\n",
    "\n",
    "#### numerical features:\n",
    "- **release_year** (StandardScaler)\n",
    "- **duration** (StandardScaler)\n",
    "\n",
    "#### categorical features:\n",
    "- **type** (OHE encoding)\n",
    "- **director** (OHE encoding)\n",
    "- **rating** (OHE encoding)\n",
    "- **cast** (CountVectorizer)\n",
    "- **country** (CountVectorizer)\n",
    "- **listed_in** (CountVectorizer)\n",
    "- **description** (CountVectorizer)\n",
    "</div>"
   ]
  },
  {
   "cell_type": "markdown",
   "id": "b7d98766",
   "metadata": {
    "papermill": {
     "duration": 0.021506,
     "end_time": "2023-07-16T19:47:51.084825",
     "exception": false,
     "start_time": "2023-07-16T19:47:51.063319",
     "status": "completed"
    },
    "tags": []
   },
   "source": [
    "<div style=\"background-color:#f2f2f2; color:#000; padding:10px\">\n",
    "    <span style=\"font-weight:bold\">👉 Tip:</span> <span style=\"font-style:italic\">To perform this transformation automatically on multiple columns I am gonna use column_transformer from sklearn. </span>\n",
    "</div>"
   ]
  },
  {
   "cell_type": "code",
   "execution_count": 19,
   "id": "16698bb6",
   "metadata": {
    "execution": {
     "iopub.execute_input": "2023-07-16T19:47:51.131905Z",
     "iopub.status.busy": "2023-07-16T19:47:51.130551Z",
     "iopub.status.idle": "2023-07-16T19:47:52.456855Z",
     "shell.execute_reply": "2023-07-16T19:47:52.455718Z"
    },
    "papermill": {
     "duration": 1.353103,
     "end_time": "2023-07-16T19:47:52.460020",
     "exception": false,
     "start_time": "2023-07-16T19:47:51.106917",
     "status": "completed"
    },
    "tags": []
   },
   "outputs": [
    {
     "data": {
      "text/plain": [
       "<5332x4126 sparse matrix of type '<class 'numpy.float64'>'\n",
       "\twith 50210 stored elements in Compressed Sparse Row format>"
      ]
     },
     "execution_count": 19,
     "metadata": {},
     "output_type": "execute_result"
    }
   ],
   "source": [
    "from sklearn.preprocessing import OneHotEncoder, MinMaxScaler\n",
    "from sklearn.feature_extraction.text import CountVectorizer\n",
    "from sklearn.compose import make_column_transformer\n",
    "\n",
    "# Creating an instance of the preprocessing classes\n",
    "mms = MinMaxScaler()\n",
    "ohe = OneHotEncoder(drop='first')\n",
    "ctv = CountVectorizer()\n",
    "\n",
    "# Creating a make_column_transformer object\n",
    "preprocessor = make_column_transformer(\n",
    "    (mms, ['release_year']),\n",
    "    (mms, ['duration']),\n",
    "    (ohe, ['type', 'director', 'rating']),\n",
    "    (ctv, 'country'),\n",
    "    (ctv, 'listed_in')\n",
    ")\n",
    "\n",
    "# Performing the preprocessing operation\n",
    "X_processed  = preprocessor.fit_transform(X)\n",
    "\n",
    "X_processed "
   ]
  },
  {
   "cell_type": "code",
   "execution_count": 20,
   "id": "8a5cc9ac",
   "metadata": {
    "execution": {
     "iopub.execute_input": "2023-07-16T19:47:52.510013Z",
     "iopub.status.busy": "2023-07-16T19:47:52.509541Z",
     "iopub.status.idle": "2023-07-16T19:47:52.598624Z",
     "shell.execute_reply": "2023-07-16T19:47:52.596924Z"
    },
    "papermill": {
     "duration": 0.119116,
     "end_time": "2023-07-16T19:47:52.602133",
     "exception": false,
     "start_time": "2023-07-16T19:47:52.483017",
     "status": "completed"
    },
    "tags": []
   },
   "outputs": [
    {
     "data": {
      "text/plain": [
       "array([[0.64556962, 0.01952603, 0.        , ..., 0.        , 0.        ,\n",
       "        0.        ],\n",
       "       [1.        , 0.59946595, 1.        , ..., 0.        , 2.        ,\n",
       "        0.        ],\n",
       "       [1.        , 0.01602136, 0.        , ..., 0.        , 0.        ,\n",
       "        0.        ],\n",
       "       ...,\n",
       "       [0.84810127, 0.01335113, 0.        , ..., 0.        , 0.        ,\n",
       "        0.        ],\n",
       "       [0.81012658, 0.01335113, 0.        , ..., 0.        , 0.        ,\n",
       "        0.        ],\n",
       "       [0.92405063, 0.01718959, 0.        , ..., 0.        , 0.        ,\n",
       "        0.        ]])"
      ]
     },
     "execution_count": 20,
     "metadata": {},
     "output_type": "execute_result"
    }
   ],
   "source": [
    "# Converting sparse matrix to normal array\n",
    "X_processed = X_processed.toarray()\n",
    "\n",
    "X_processed"
   ]
  },
  {
   "cell_type": "markdown",
   "id": "11cf6ae1",
   "metadata": {
    "papermill": {
     "duration": 0.022457,
     "end_time": "2023-07-16T19:47:52.647524",
     "exception": false,
     "start_time": "2023-07-16T19:47:52.625067",
     "status": "completed"
    },
    "tags": []
   },
   "source": [
    "# <p style= \"background-color:#428da6;font-family:Georgia;padding: 6px;color:#FFFFFF;font-size:110%;text-align:center;border-radius:30px 60px;overflow:hidden;\">Building Autoencoder</p>"
   ]
  },
  {
   "cell_type": "markdown",
   "id": "9f8b6760",
   "metadata": {
    "papermill": {
     "duration": 0.022767,
     "end_time": "2023-07-16T19:47:52.692716",
     "exception": false,
     "start_time": "2023-07-16T19:47:52.669949",
     "status": "completed"
    },
    "tags": []
   },
   "source": [
    "<div style=\"background-color:#cce5ff; color:#1c2e4a; padding:20px; border-radius:10px; text-align:center;\">\n",
    "    <h3 style=\"font-style:bold; margin-top:0;\">💬 Info:</h3>\n",
    "    <p style=\"margin-bottom:0; background-color:#4B008; display:inline-block; padding:5px; border-radius:5px; font-size:15px;\">In this step, we will search for the best model using Bayesian Optimization with Keras Tuner, which helps to find the optimal hyperparameters for the autoencoder. Once the best model is identified, we will train it on the entire dataset to ensure it learns from the full range of available data. This step allows the autoencoder to capture meaningful representations of the input data and optimize its performance for subsequent tasks, such as generating recommendations or reconstructing the input.</p>\n",
    "</div>"
   ]
  },
  {
   "cell_type": "code",
   "execution_count": 21,
   "id": "b5e38d35",
   "metadata": {
    "collapsed": true,
    "execution": {
     "iopub.execute_input": "2023-07-16T19:47:52.749677Z",
     "iopub.status.busy": "2023-07-16T19:47:52.748579Z",
     "iopub.status.idle": "2023-07-16T19:48:07.927507Z",
     "shell.execute_reply": "2023-07-16T19:48:07.925992Z"
    },
    "jupyter": {
     "outputs_hidden": true
    },
    "papermill": {
     "duration": 15.211833,
     "end_time": "2023-07-16T19:48:07.930752",
     "exception": false,
     "start_time": "2023-07-16T19:47:52.718919",
     "status": "completed"
    },
    "tags": []
   },
   "outputs": [
    {
     "name": "stdout",
     "output_type": "stream",
     "text": [
      "Requirement already satisfied: keras-tuner in /opt/conda/lib/python3.7/site-packages (1.1.3)\r\n",
      "Requirement already satisfied: tensorboard in /opt/conda/lib/python3.7/site-packages (from keras-tuner) (2.11.2)\r\n",
      "Requirement already satisfied: packaging in /opt/conda/lib/python3.7/site-packages (from keras-tuner) (23.0)\r\n",
      "Requirement already satisfied: ipython in /opt/conda/lib/python3.7/site-packages (from keras-tuner) (7.34.0)\r\n",
      "Requirement already satisfied: numpy in /opt/conda/lib/python3.7/site-packages (from keras-tuner) (1.21.6)\r\n",
      "Requirement already satisfied: requests in /opt/conda/lib/python3.7/site-packages (from keras-tuner) (2.28.2)\r\n",
      "Requirement already satisfied: kt-legacy in /opt/conda/lib/python3.7/site-packages (from keras-tuner) (1.0.4)\r\n",
      "Requirement already satisfied: pickleshare in /opt/conda/lib/python3.7/site-packages (from ipython->keras-tuner) (0.7.5)\r\n",
      "Requirement already satisfied: pygments in /opt/conda/lib/python3.7/site-packages (from ipython->keras-tuner) (2.14.0)\r\n",
      "Requirement already satisfied: prompt-toolkit!=3.0.0,!=3.0.1,<3.1.0,>=2.0.0 in /opt/conda/lib/python3.7/site-packages (from ipython->keras-tuner) (3.0.36)\r\n",
      "Requirement already satisfied: matplotlib-inline in /opt/conda/lib/python3.7/site-packages (from ipython->keras-tuner) (0.1.6)\r\n",
      "Requirement already satisfied: decorator in /opt/conda/lib/python3.7/site-packages (from ipython->keras-tuner) (5.1.1)\r\n",
      "Requirement already satisfied: setuptools>=18.5 in /opt/conda/lib/python3.7/site-packages (from ipython->keras-tuner) (59.8.0)\r\n",
      "Requirement already satisfied: backcall in /opt/conda/lib/python3.7/site-packages (from ipython->keras-tuner) (0.2.0)\r\n",
      "Requirement already satisfied: jedi>=0.16 in /opt/conda/lib/python3.7/site-packages (from ipython->keras-tuner) (0.18.2)\r\n",
      "Requirement already satisfied: traitlets>=4.2 in /opt/conda/lib/python3.7/site-packages (from ipython->keras-tuner) (5.8.1)\r\n",
      "Requirement already satisfied: pexpect>4.3 in /opt/conda/lib/python3.7/site-packages (from ipython->keras-tuner) (4.8.0)\r\n",
      "Requirement already satisfied: urllib3<1.27,>=1.21.1 in /opt/conda/lib/python3.7/site-packages (from requests->keras-tuner) (1.26.14)\r\n",
      "Requirement already satisfied: idna<4,>=2.5 in /opt/conda/lib/python3.7/site-packages (from requests->keras-tuner) (3.4)\r\n",
      "Requirement already satisfied: charset-normalizer<4,>=2 in /opt/conda/lib/python3.7/site-packages (from requests->keras-tuner) (2.1.1)\r\n",
      "Requirement already satisfied: certifi>=2017.4.17 in /opt/conda/lib/python3.7/site-packages (from requests->keras-tuner) (2022.12.7)\r\n",
      "Requirement already satisfied: grpcio>=1.24.3 in /opt/conda/lib/python3.7/site-packages (from tensorboard->keras-tuner) (1.51.1)\r\n",
      "Requirement already satisfied: google-auth<3,>=1.6.3 in /opt/conda/lib/python3.7/site-packages (from tensorboard->keras-tuner) (1.35.0)\r\n",
      "Requirement already satisfied: google-auth-oauthlib<0.5,>=0.4.1 in /opt/conda/lib/python3.7/site-packages (from tensorboard->keras-tuner) (0.4.6)\r\n",
      "Requirement already satisfied: markdown>=2.6.8 in /opt/conda/lib/python3.7/site-packages (from tensorboard->keras-tuner) (3.4.1)\r\n",
      "Requirement already satisfied: absl-py>=0.4 in /opt/conda/lib/python3.7/site-packages (from tensorboard->keras-tuner) (1.4.0)\r\n",
      "Requirement already satisfied: tensorboard-data-server<0.7.0,>=0.6.0 in /opt/conda/lib/python3.7/site-packages (from tensorboard->keras-tuner) (0.6.1)\r\n",
      "Requirement already satisfied: tensorboard-plugin-wit>=1.6.0 in /opt/conda/lib/python3.7/site-packages (from tensorboard->keras-tuner) (1.8.1)\r\n",
      "Requirement already satisfied: wheel>=0.26 in /opt/conda/lib/python3.7/site-packages (from tensorboard->keras-tuner) (0.38.4)\r\n",
      "Requirement already satisfied: werkzeug>=1.0.1 in /opt/conda/lib/python3.7/site-packages (from tensorboard->keras-tuner) (2.2.3)\r\n",
      "Requirement already satisfied: protobuf<4,>=3.9.2 in /opt/conda/lib/python3.7/site-packages (from tensorboard->keras-tuner) (3.20.3)\r\n",
      "Requirement already satisfied: cachetools<5.0,>=2.0.0 in /opt/conda/lib/python3.7/site-packages (from google-auth<3,>=1.6.3->tensorboard->keras-tuner) (4.2.4)\r\n",
      "Requirement already satisfied: six>=1.9.0 in /opt/conda/lib/python3.7/site-packages (from google-auth<3,>=1.6.3->tensorboard->keras-tuner) (1.16.0)\r\n",
      "Requirement already satisfied: pyasn1-modules>=0.2.1 in /opt/conda/lib/python3.7/site-packages (from google-auth<3,>=1.6.3->tensorboard->keras-tuner) (0.2.8)\r\n",
      "Requirement already satisfied: rsa<5,>=3.1.4 in /opt/conda/lib/python3.7/site-packages (from google-auth<3,>=1.6.3->tensorboard->keras-tuner) (4.9)\r\n",
      "Requirement already satisfied: requests-oauthlib>=0.7.0 in /opt/conda/lib/python3.7/site-packages (from google-auth-oauthlib<0.5,>=0.4.1->tensorboard->keras-tuner) (1.3.1)\r\n",
      "Requirement already satisfied: parso<0.9.0,>=0.8.0 in /opt/conda/lib/python3.7/site-packages (from jedi>=0.16->ipython->keras-tuner) (0.8.3)\r\n",
      "Requirement already satisfied: importlib-metadata>=4.4 in /opt/conda/lib/python3.7/site-packages (from markdown>=2.6.8->tensorboard->keras-tuner) (4.11.4)\r\n",
      "Requirement already satisfied: ptyprocess>=0.5 in /opt/conda/lib/python3.7/site-packages (from pexpect>4.3->ipython->keras-tuner) (0.7.0)\r\n",
      "Requirement already satisfied: wcwidth in /opt/conda/lib/python3.7/site-packages (from prompt-toolkit!=3.0.0,!=3.0.1,<3.1.0,>=2.0.0->ipython->keras-tuner) (0.2.6)\r\n",
      "Requirement already satisfied: MarkupSafe>=2.1.1 in /opt/conda/lib/python3.7/site-packages (from werkzeug>=1.0.1->tensorboard->keras-tuner) (2.1.1)\r\n",
      "Requirement already satisfied: zipp>=0.5 in /opt/conda/lib/python3.7/site-packages (from importlib-metadata>=4.4->markdown>=2.6.8->tensorboard->keras-tuner) (3.11.0)\r\n",
      "Requirement already satisfied: typing-extensions>=3.6.4 in /opt/conda/lib/python3.7/site-packages (from importlib-metadata>=4.4->markdown>=2.6.8->tensorboard->keras-tuner) (4.4.0)\r\n",
      "Requirement already satisfied: pyasn1<0.5.0,>=0.4.6 in /opt/conda/lib/python3.7/site-packages (from pyasn1-modules>=0.2.1->google-auth<3,>=1.6.3->tensorboard->keras-tuner) (0.4.8)\r\n",
      "Requirement already satisfied: oauthlib>=3.0.0 in /opt/conda/lib/python3.7/site-packages (from requests-oauthlib>=0.7.0->google-auth-oauthlib<0.5,>=0.4.1->tensorboard->keras-tuner) (3.2.2)\r\n",
      "\u001b[33mWARNING: Running pip as the 'root' user can result in broken permissions and conflicting behaviour with the system package manager. It is recommended to use a virtual environment instead: https://pip.pypa.io/warnings/venv\u001b[0m\u001b[33m\r\n",
      "\u001b[0m"
     ]
    }
   ],
   "source": [
    "# Installing keras-tuner\n",
    "!pip install keras-tuner"
   ]
  },
  {
   "cell_type": "code",
   "execution_count": 22,
   "id": "758d762e",
   "metadata": {
    "execution": {
     "iopub.execute_input": "2023-07-16T19:48:07.981684Z",
     "iopub.status.busy": "2023-07-16T19:48:07.980304Z",
     "iopub.status.idle": "2023-07-16T19:48:16.554441Z",
     "shell.execute_reply": "2023-07-16T19:48:16.552963Z"
    },
    "papermill": {
     "duration": 8.603162,
     "end_time": "2023-07-16T19:48:16.557837",
     "exception": false,
     "start_time": "2023-07-16T19:48:07.954675",
     "status": "completed"
    },
    "tags": []
   },
   "outputs": [],
   "source": [
    "from keras.metrics import cosine_similarity\n",
    "from keras.layers import Input, Dense\n",
    "from keras.models import Model\n",
    "import tensorflow as tf\n",
    "\n",
    "# Metric to test the accuracy of reconstructed features\n",
    "def cosine_similarity_metric(y_true, y_pred):\n",
    "    return tf.reduce_mean(cosine_similarity(y_true, y_pred))\n",
    "\n",
    "# Function for building diffrent models using keras_tuner\n",
    "def build_model(hp):\n",
    "    input_shape = X_processed.shape[1]\n",
    "    input_layer = Input(shape=(input_shape,))\n",
    "    \n",
    "    outer_units = hp.Int('outer_units', min_value=128, max_value=256, step=64)\n",
    "    inner_units = hp.Int('inner_units', min_value=32, max_value=128, step=32)\n",
    "    bottleneck = hp.Int('bottleneck', min_value=8, max_value=32, step=8)\n",
    "\n",
    "    hidden_layer1 = Dense(units=outer_units, activation='relu')(input_layer)\n",
    "    hidden_layer2 = Dense(units=inner_units, activation='relu')(hidden_layer1)\n",
    "    hidden_layer3 = Dense(units=bottleneck, activation='relu')(hidden_layer2)\n",
    "    hidden_layer4 = Dense(units=inner_units, activation='relu')(hidden_layer3)\n",
    "    hidden_layer5 = Dense(units=outer_units, activation='relu')(hidden_layer4)\n",
    "    \n",
    "    output_layer = Dense(units=input_shape, activation='sigmoid')(hidden_layer5)\n",
    "    \n",
    "    model = Model(inputs=input_layer, outputs=output_layer)\n",
    "    model.compile(optimizer='adam', loss='mse', metrics=[cosine_similarity_metric])\n",
    "    \n",
    "    return model"
   ]
  },
  {
   "cell_type": "code",
   "execution_count": 23,
   "id": "b21556b9",
   "metadata": {
    "execution": {
     "iopub.execute_input": "2023-07-16T19:48:16.606973Z",
     "iopub.status.busy": "2023-07-16T19:48:16.606060Z",
     "iopub.status.idle": "2023-07-16T19:48:17.714835Z",
     "shell.execute_reply": "2023-07-16T19:48:17.713375Z"
    },
    "papermill": {
     "duration": 1.137028,
     "end_time": "2023-07-16T19:48:17.718044",
     "exception": false,
     "start_time": "2023-07-16T19:48:16.581016",
     "status": "completed"
    },
    "tags": []
   },
   "outputs": [],
   "source": [
    "from keras_tuner import BayesianOptimization\n",
    "\n",
    "# Creating BayesianOptimization instance\n",
    "tuner = BayesianOptimization(\n",
    "    build_model,\n",
    "    objective='val_loss',\n",
    "    max_trials=5, # number of different architectures\n",
    "    executions_per_trial=2) # number of repeats given architecture"
   ]
  },
  {
   "cell_type": "code",
   "execution_count": 24,
   "id": "3a3d98cb",
   "metadata": {
    "execution": {
     "iopub.execute_input": "2023-07-16T19:48:17.766679Z",
     "iopub.status.busy": "2023-07-16T19:48:17.766201Z",
     "iopub.status.idle": "2023-07-16T19:48:17.772538Z",
     "shell.execute_reply": "2023-07-16T19:48:17.771122Z"
    },
    "papermill": {
     "duration": 0.035156,
     "end_time": "2023-07-16T19:48:17.776441",
     "exception": false,
     "start_time": "2023-07-16T19:48:17.741285",
     "status": "completed"
    },
    "tags": []
   },
   "outputs": [
    {
     "name": "stdout",
     "output_type": "stream",
     "text": [
      "Search space summary\n",
      "Default search space size: 3\n",
      "outer_units (Int)\n",
      "{'default': None, 'conditions': [], 'min_value': 128, 'max_value': 256, 'step': 64, 'sampling': None}\n",
      "inner_units (Int)\n",
      "{'default': None, 'conditions': [], 'min_value': 32, 'max_value': 128, 'step': 32, 'sampling': None}\n",
      "bottleneck (Int)\n",
      "{'default': None, 'conditions': [], 'min_value': 8, 'max_value': 32, 'step': 8, 'sampling': None}\n"
     ]
    }
   ],
   "source": [
    "# Information about what space of parameters are search for\n",
    "tuner.search_space_summary()"
   ]
  },
  {
   "cell_type": "code",
   "execution_count": 25,
   "id": "16d2f790",
   "metadata": {
    "execution": {
     "iopub.execute_input": "2023-07-16T19:48:17.826266Z",
     "iopub.status.busy": "2023-07-16T19:48:17.825825Z",
     "iopub.status.idle": "2023-07-16T19:56:05.107305Z",
     "shell.execute_reply": "2023-07-16T19:56:05.105823Z"
    },
    "papermill": {
     "duration": 467.309983,
     "end_time": "2023-07-16T19:56:05.110480",
     "exception": false,
     "start_time": "2023-07-16T19:48:17.800497",
     "status": "completed"
    },
    "tags": []
   },
   "outputs": [
    {
     "name": "stdout",
     "output_type": "stream",
     "text": [
      "Trial 5 Complete [00h 01m 21s]\n",
      "val_loss: 0.0009025410399772227\n",
      "\n",
      "Best val_loss So Far: 0.0009025410399772227\n",
      "Total elapsed time: 00h 07m 47s\n"
     ]
    }
   ],
   "source": [
    "# Running BayesianOptimization tuner\n",
    "tuner.search(X_processed, X_processed, validation_split=0.2, epochs=20, batch_size=32, verbose=1)"
   ]
  },
  {
   "cell_type": "markdown",
   "id": "cf26c37c",
   "metadata": {
    "execution": {
     "iopub.execute_input": "2023-07-16T18:54:27.908562Z",
     "iopub.status.busy": "2023-07-16T18:54:27.908129Z",
     "iopub.status.idle": "2023-07-16T18:54:27.952337Z",
     "shell.execute_reply": "2023-07-16T18:54:27.950668Z",
     "shell.execute_reply.started": "2023-07-16T18:54:27.908525Z"
    },
    "papermill": {
     "duration": 0.023233,
     "end_time": "2023-07-16T19:56:05.157918",
     "exception": false,
     "start_time": "2023-07-16T19:56:05.134685",
     "status": "completed"
    },
    "tags": []
   },
   "source": [
    "<div style=\"background-color:#cce5ff; color:#1c2e4a; padding:10px\">\n",
    "    <span style=\"font-weight:bold\">💬 Info:</span> Now we are goona take best model an retrain it on whole dataframe.\n",
    "</div>"
   ]
  },
  {
   "cell_type": "code",
   "execution_count": 26,
   "id": "1f66f24a",
   "metadata": {
    "execution": {
     "iopub.execute_input": "2023-07-16T19:56:05.209538Z",
     "iopub.status.busy": "2023-07-16T19:56:05.208033Z",
     "iopub.status.idle": "2023-07-16T19:56:06.026467Z",
     "shell.execute_reply": "2023-07-16T19:56:06.024843Z"
    },
    "papermill": {
     "duration": 0.847936,
     "end_time": "2023-07-16T19:56:06.029730",
     "exception": false,
     "start_time": "2023-07-16T19:56:05.181794",
     "status": "completed"
    },
    "tags": []
   },
   "outputs": [
    {
     "data": {
      "image/png": "[encoded data removed]",
      "text/plain": [
       "<IPython.core.display.Image object>"
      ]
     },
     "execution_count": 26,
     "metadata": {},
     "output_type": "execute_result"
    }
   ],
   "source": [
    "from tensorflow.keras.utils import plot_model\n",
    "\n",
    "# Loading best model\n",
    "autoencoder = tuner.get_best_models(num_models=1)[0]\n",
    "\n",
    "# Displaying a graphical representation of the best model\n",
    "plot_model(autoencoder, show_shapes=True, show_layer_activations=True)"
   ]
  },
  {
   "cell_type": "markdown",
   "id": "5ed58968",
   "metadata": {
    "papermill": {
     "duration": 0.024494,
     "end_time": "2023-07-16T19:56:06.079617",
     "exception": false,
     "start_time": "2023-07-16T19:56:06.055123",
     "status": "completed"
    },
    "tags": []
   },
   "source": [
    "### Retraining Best model"
   ]
  },
  {
   "cell_type": "code",
   "execution_count": 27,
   "id": "e1ed4e42",
   "metadata": {
    "execution": {
     "iopub.execute_input": "2023-07-16T19:56:06.133201Z",
     "iopub.status.busy": "2023-07-16T19:56:06.131686Z",
     "iopub.status.idle": "2023-07-16T19:57:52.086230Z",
     "shell.execute_reply": "2023-07-16T19:57:52.084728Z"
    },
    "papermill": {
     "duration": 105.985103,
     "end_time": "2023-07-16T19:57:52.089495",
     "exception": false,
     "start_time": "2023-07-16T19:56:06.104392",
     "status": "completed"
    },
    "tags": []
   },
   "outputs": [
    {
     "name": "stdout",
     "output_type": "stream",
     "text": [
      "Epoch 1/50\n",
      "167/167 [==============================] - 3s 12ms/step - loss: 7.8987e-04 - cosine_similarity_metric: 0.8078\n",
      "Epoch 2/50\n",
      "167/167 [==============================] - 2s 12ms/step - loss: 7.6862e-04 - cosine_similarity_metric: 0.8139\n",
      "Epoch 3/50\n",
      "167/167 [==============================] - 2s 13ms/step - loss: 7.5341e-04 - cosine_similarity_metric: 0.8183\n",
      "Epoch 4/50\n",
      "167/167 [==============================] - 2s 12ms/step - loss: 7.3375e-04 - cosine_similarity_metric: 0.8239\n",
      "Epoch 5/50\n",
      "167/167 [==============================] - 2s 12ms/step - loss: 7.0254e-04 - cosine_similarity_metric: 0.8330\n",
      "Epoch 6/50\n",
      "167/167 [==============================] - 2s 12ms/step - loss: 6.7974e-04 - cosine_similarity_metric: 0.8396\n",
      "Epoch 7/50\n",
      "167/167 [==============================] - 2s 12ms/step - loss: 6.6712e-04 - cosine_similarity_metric: 0.8431\n",
      "Epoch 8/50\n",
      "167/167 [==============================] - 2s 13ms/step - loss: 6.5602e-04 - cosine_similarity_metric: 0.8462\n",
      "Epoch 9/50\n",
      "167/167 [==============================] - 2s 12ms/step - loss: 6.4631e-04 - cosine_similarity_metric: 0.8488\n",
      "Epoch 10/50\n",
      "167/167 [==============================] - 2s 12ms/step - loss: 6.3751e-04 - cosine_similarity_metric: 0.8510\n",
      "Epoch 11/50\n",
      "167/167 [==============================] - 2s 12ms/step - loss: 6.2906e-04 - cosine_similarity_metric: 0.8533\n",
      "Epoch 12/50\n",
      "167/167 [==============================] - 2s 12ms/step - loss: 6.2455e-04 - cosine_similarity_metric: 0.8545\n",
      "Epoch 13/50\n",
      "167/167 [==============================] - 2s 12ms/step - loss: 6.1862e-04 - cosine_similarity_metric: 0.8561\n",
      "Epoch 14/50\n",
      "167/167 [==============================] - 2s 12ms/step - loss: 6.1441e-04 - cosine_similarity_metric: 0.8574\n",
      "Epoch 15/50\n",
      "167/167 [==============================] - 2s 12ms/step - loss: 6.1077e-04 - cosine_similarity_metric: 0.8583\n",
      "Epoch 16/50\n",
      "167/167 [==============================] - 2s 12ms/step - loss: 6.0815e-04 - cosine_similarity_metric: 0.8590\n",
      "Epoch 17/50\n",
      "167/167 [==============================] - 2s 12ms/step - loss: 6.0635e-04 - cosine_similarity_metric: 0.8594\n",
      "Epoch 18/50\n",
      "167/167 [==============================] - 2s 12ms/step - loss: 6.0474e-04 - cosine_similarity_metric: 0.8597\n",
      "Epoch 19/50\n",
      "167/167 [==============================] - 2s 12ms/step - loss: 6.0361e-04 - cosine_similarity_metric: 0.8601\n",
      "Epoch 20/50\n",
      "167/167 [==============================] - 2s 12ms/step - loss: 6.0206e-04 - cosine_similarity_metric: 0.8605\n",
      "Epoch 21/50\n",
      "167/167 [==============================] - 2s 12ms/step - loss: 5.9992e-04 - cosine_similarity_metric: 0.8610\n",
      "Epoch 22/50\n",
      "167/167 [==============================] - 2s 12ms/step - loss: 5.9866e-04 - cosine_similarity_metric: 0.8614\n",
      "Epoch 23/50\n",
      "167/167 [==============================] - 2s 12ms/step - loss: 5.9451e-04 - cosine_similarity_metric: 0.8624\n",
      "Epoch 24/50\n",
      "167/167 [==============================] - 2s 14ms/step - loss: 5.9234e-04 - cosine_similarity_metric: 0.8629\n",
      "Epoch 25/50\n",
      "167/167 [==============================] - 2s 12ms/step - loss: 5.9100e-04 - cosine_similarity_metric: 0.8634\n",
      "Epoch 26/50\n",
      "167/167 [==============================] - 2s 12ms/step - loss: 5.9108e-04 - cosine_similarity_metric: 0.8634\n",
      "Epoch 27/50\n",
      "167/167 [==============================] - 2s 12ms/step - loss: 5.8919e-04 - cosine_similarity_metric: 0.8639\n",
      "Epoch 28/50\n",
      "167/167 [==============================] - 2s 12ms/step - loss: 5.8867e-04 - cosine_similarity_metric: 0.8640\n",
      "Epoch 29/50\n",
      "167/167 [==============================] - 2s 12ms/step - loss: 5.8832e-04 - cosine_similarity_metric: 0.8641\n",
      "Epoch 30/50\n",
      "167/167 [==============================] - 2s 12ms/step - loss: 5.8439e-04 - cosine_similarity_metric: 0.8650\n",
      "Epoch 31/50\n",
      "167/167 [==============================] - 2s 12ms/step - loss: 5.8275e-04 - cosine_similarity_metric: 0.8655\n",
      "Epoch 32/50\n",
      "167/167 [==============================] - 2s 12ms/step - loss: 5.8257e-04 - cosine_similarity_metric: 0.8655\n",
      "Epoch 33/50\n",
      "167/167 [==============================] - 2s 13ms/step - loss: 5.8105e-04 - cosine_similarity_metric: 0.8659\n",
      "Epoch 34/50\n",
      "167/167 [==============================] - 2s 12ms/step - loss: 5.7898e-04 - cosine_similarity_metric: 0.8663\n",
      "Epoch 35/50\n",
      "167/167 [==============================] - 2s 12ms/step - loss: 5.7821e-04 - cosine_similarity_metric: 0.8667\n",
      "Epoch 36/50\n",
      "167/167 [==============================] - 2s 12ms/step - loss: 5.7693e-04 - cosine_similarity_metric: 0.8670\n",
      "Epoch 37/50\n",
      "167/167 [==============================] - 2s 12ms/step - loss: 5.7758e-04 - cosine_similarity_metric: 0.8668\n",
      "Epoch 38/50\n",
      "167/167 [==============================] - 2s 12ms/step - loss: 5.7429e-04 - cosine_similarity_metric: 0.8677\n",
      "Epoch 39/50\n",
      "167/167 [==============================] - 2s 13ms/step - loss: 5.7186e-04 - cosine_similarity_metric: 0.8682\n",
      "Epoch 40/50\n",
      "167/167 [==============================] - 2s 14ms/step - loss: 5.6918e-04 - cosine_similarity_metric: 0.8690\n",
      "Epoch 41/50\n",
      "167/167 [==============================] - 2s 14ms/step - loss: 5.6745e-04 - cosine_similarity_metric: 0.8695\n",
      "Epoch 42/50\n",
      "167/167 [==============================] - 2s 14ms/step - loss: 5.6737e-04 - cosine_similarity_metric: 0.8695\n",
      "Epoch 43/50\n",
      "167/167 [==============================] - 2s 14ms/step - loss: 5.6692e-04 - cosine_similarity_metric: 0.8695\n",
      "Epoch 44/50\n",
      "167/167 [==============================] - 2s 13ms/step - loss: 5.6555e-04 - cosine_similarity_metric: 0.8700\n",
      "Epoch 45/50\n",
      "167/167 [==============================] - 2s 14ms/step - loss: 5.6365e-04 - cosine_similarity_metric: 0.8704\n",
      "Epoch 46/50\n",
      "167/167 [==============================] - 2s 13ms/step - loss: 5.6340e-04 - cosine_similarity_metric: 0.8705\n",
      "Epoch 47/50\n",
      "167/167 [==============================] - 2s 13ms/step - loss: 5.6506e-04 - cosine_similarity_metric: 0.8703\n",
      "Epoch 48/50\n",
      "167/167 [==============================] - 2s 12ms/step - loss: 5.5984e-04 - cosine_similarity_metric: 0.8716\n",
      "Epoch 49/50\n",
      "167/167 [==============================] - 2s 12ms/step - loss: 5.5924e-04 - cosine_similarity_metric: 0.8717\n",
      "Epoch 50/50\n",
      "167/167 [==============================] - 2s 12ms/step - loss: 5.5679e-04 - cosine_similarity_metric: 0.8724\n"
     ]
    }
   ],
   "source": [
    "# Training best architecture\n",
    "history = autoencoder.fit(X_processed, X_processed, epochs=50)"
   ]
  },
  {
   "cell_type": "code",
   "execution_count": 28,
   "id": "7cb22af7",
   "metadata": {
    "execution": {
     "iopub.execute_input": "2023-07-16T19:57:52.508577Z",
     "iopub.status.busy": "2023-07-16T19:57:52.507231Z",
     "iopub.status.idle": "2023-07-16T19:57:52.791734Z",
     "shell.execute_reply": "2023-07-16T19:57:52.790236Z"
    },
    "papermill": {
     "duration": 0.497492,
     "end_time": "2023-07-16T19:57:52.795229",
     "exception": false,
     "start_time": "2023-07-16T19:57:52.297737",
     "status": "completed"
    },
    "tags": []
   },
   "outputs": [
    {
     "data": {
      "image/png": "[encoded data removed]",
      "text/plain": [
       "<Figure size 640x480 with 1 Axes>"
      ]
     },
     "metadata": {},
     "output_type": "display_data"
    }
   ],
   "source": [
    "# Plotting loss\n",
    "plt.plot(history.history['loss'], label='loss')\n",
    "plt.title('Loss')\n",
    "plt.xlabel('Epochs')\n",
    "plt.ylabel('Value')\n",
    "plt.legend()\n",
    "plt.show()"
   ]
  },
  {
   "cell_type": "code",
   "execution_count": 29,
   "id": "42eaba44",
   "metadata": {
    "execution": {
     "iopub.execute_input": "2023-07-16T19:57:53.208899Z",
     "iopub.status.busy": "2023-07-16T19:57:53.208442Z",
     "iopub.status.idle": "2023-07-16T19:57:53.462248Z",
     "shell.execute_reply": "2023-07-16T19:57:53.460916Z"
    },
    "papermill": {
     "duration": 0.465233,
     "end_time": "2023-07-16T19:57:53.465360",
     "exception": false,
     "start_time": "2023-07-16T19:57:53.000127",
     "status": "completed"
    },
    "tags": []
   },
   "outputs": [
    {
     "data": {
      "image/png": "[encoded data removed]",
      "text/plain": [
       "<Figure size 640x480 with 1 Axes>"
      ]
     },
     "metadata": {},
     "output_type": "display_data"
    }
   ],
   "source": [
    "# Plotting cosine_similarity_metric\n",
    "plt.plot(history.history['cosine_similarity_metric'], label='Accuracy of Reconstruction')\n",
    "plt.title('Similarity')\n",
    "plt.xlabel('Epochs')\n",
    "plt.ylabel('Value')\n",
    "plt.legend()\n",
    "plt.show()"
   ]
  },
  {
   "cell_type": "markdown",
   "id": "119354b6",
   "metadata": {
    "execution": {
     "iopub.execute_input": "2023-07-16T18:57:57.720783Z",
     "iopub.status.busy": "2023-07-16T18:57:57.720366Z",
     "iopub.status.idle": "2023-07-16T18:57:57.729868Z",
     "shell.execute_reply": "2023-07-16T18:57:57.728435Z",
     "shell.execute_reply.started": "2023-07-16T18:57:57.720749Z"
    },
    "papermill": {
     "duration": 0.209504,
     "end_time": "2023-07-16T19:57:53.888123",
     "exception": false,
     "start_time": "2023-07-16T19:57:53.678619",
     "status": "completed"
    },
    "tags": []
   },
   "source": [
    "<div style=\"background-color:#D4EDDA; color:#155724; padding:20px; border-radius:10px; display:flex;\">\n",
    "    <div style=\"flex:1;\">\n",
    "        <h3 style=\"font-weight:bold; margin-top:0;\">✅ Success:</h3>\n",
    "    </div>\n",
    "    <div style=\"flex:2;\">\n",
    "        <p style=\"margin-bottom:0; font-size:15px;\">We succesfully found and retrained the best model.</p>\n",
    "    </div>\n",
    "</div>\n"
   ]
  },
  {
   "cell_type": "markdown",
   "id": "8480312d",
   "metadata": {
    "papermill": {
     "duration": 0.208201,
     "end_time": "2023-07-16T19:57:54.305745",
     "exception": false,
     "start_time": "2023-07-16T19:57:54.097544",
     "status": "completed"
    },
    "tags": []
   },
   "source": [
    "# <p style= \"background-color:#428da6;font-family:Georgia;padding: 6px;color:#FFFFFF;font-size:110%;text-align:center;border-radius:30px 60px;overflow:hidden;\">Recomending movies</p>"
   ]
  },
  {
   "cell_type": "markdown",
   "id": "2d7e0648",
   "metadata": {
    "papermill": {
     "duration": 0.210462,
     "end_time": "2023-07-16T19:57:54.729819",
     "exception": false,
     "start_time": "2023-07-16T19:57:54.519357",
     "status": "completed"
    },
    "tags": []
   },
   "source": [
    "<div style=\"background-color:#cce5ff; color:#1c2e4a; padding:20px; border-radius:10px; text-align:center;\">\n",
    "    <h3 style=\"font-style:bold; margin-top:0;\">💬 Info:</h3>\n",
    "    <p style=\"margin-bottom:0; background-color:#4B008; display:inline-block; padding:5px; border-radius:5px; font-size:15px;\">In this step we are gonna use trained autoencoder and cosine similarity metric to recomend which movies to watch next based on choosen movie.</p>\n",
    "</div>"
   ]
  },
  {
   "cell_type": "markdown",
   "id": "eac64955",
   "metadata": {
    "papermill": {
     "duration": 0.206264,
     "end_time": "2023-07-16T19:57:55.145828",
     "exception": false,
     "start_time": "2023-07-16T19:57:54.939564",
     "status": "completed"
    },
    "tags": []
   },
   "source": [
    "#### In this step i am using trained autoencoder and cosine similarity metric to recomend which movies to watch next."
   ]
  },
  {
   "cell_type": "code",
   "execution_count": 30,
   "id": "1acd741b",
   "metadata": {
    "execution": {
     "iopub.execute_input": "2023-07-16T19:57:55.558381Z",
     "iopub.status.busy": "2023-07-16T19:57:55.557073Z",
     "iopub.status.idle": "2023-07-16T19:57:55.568430Z",
     "shell.execute_reply": "2023-07-16T19:57:55.567310Z"
    },
    "papermill": {
     "duration": 0.220159,
     "end_time": "2023-07-16T19:57:55.571184",
     "exception": false,
     "start_time": "2023-07-16T19:57:55.351025",
     "status": "completed"
    },
    "tags": []
   },
   "outputs": [
    {
     "data": {
      "text/plain": [
       "array([0.78481013, 0.01451936, 0.        , ..., 0.        , 0.        ,\n",
       "       0.        ])"
      ]
     },
     "execution_count": 30,
     "metadata": {},
     "output_type": "execute_result"
    }
   ],
   "source": [
    "# Choosing a movie\n",
    "movie = \"Jaws\" \n",
    "\n",
    "# Getting index of a movie\n",
    "movie_index = title.index[title == movie][0] \n",
    "\n",
    "# Getting features of that movie\n",
    "movie_features = X_processed[movie_index] \n",
    "\n",
    "movie_features"
   ]
  },
  {
   "cell_type": "code",
   "execution_count": 31,
   "id": "a8c3e412",
   "metadata": {
    "execution": {
     "iopub.execute_input": "2023-07-16T19:57:55.989529Z",
     "iopub.status.busy": "2023-07-16T19:57:55.988577Z",
     "iopub.status.idle": "2023-07-16T19:57:56.358071Z",
     "shell.execute_reply": "2023-07-16T19:57:56.356182Z"
    },
    "papermill": {
     "duration": 0.583028,
     "end_time": "2023-07-16T19:57:56.362906",
     "exception": false,
     "start_time": "2023-07-16T19:57:55.779878",
     "status": "completed"
    },
    "tags": []
   },
   "outputs": [
    {
     "name": "stdout",
     "output_type": "stream",
     "text": [
      "1/1 [==============================] - 0s 150ms/step\n"
     ]
    },
    {
     "data": {
      "text/plain": [
       "array([[ 161],\n",
       "       [4381],\n",
       "       [ 734],\n",
       "       [2345],\n",
       "       [  72],\n",
       "       [ 309],\n",
       "       [1443],\n",
       "       [ 202],\n",
       "       [ 687],\n",
       "       [4432]])"
      ]
     },
     "execution_count": 31,
     "metadata": {},
     "output_type": "execute_result"
    }
   ],
   "source": [
    "from sklearn.metrics.pairwise import cosine_similarity\n",
    "\n",
    "# How many movies to recomend\n",
    "N_movies = 10\n",
    "\n",
    "# Generating reconstruction of features using autoencoder\n",
    "reconstructed_movie = autoencoder.predict(np.array([movie_features]))[0]\n",
    "\n",
    "# Comparing choosen movie to the rest\n",
    "similarities = cosine_similarity(X_processed, [reconstructed_movie])\n",
    "similarities[movie_index] = -1  # Making sure the original movie will not be recomended\n",
    "most_similar_indices = np.argsort(similarities, axis=0)[::-1][:N_movies]  # Getting Indexes of 10 most similar movies\n",
    "\n",
    "most_similar_indices"
   ]
  },
  {
   "cell_type": "code",
   "execution_count": 32,
   "id": "db140407",
   "metadata": {
    "execution": {
     "iopub.execute_input": "2023-07-16T19:57:56.835089Z",
     "iopub.status.busy": "2023-07-16T19:57:56.834600Z",
     "iopub.status.idle": "2023-07-16T19:57:56.841298Z",
     "shell.execute_reply": "2023-07-16T19:57:56.840365Z"
    },
    "papermill": {
     "duration": 0.217295,
     "end_time": "2023-07-16T19:57:56.844249",
     "exception": false,
     "start_time": "2023-07-16T19:57:56.626954",
     "status": "completed"
    },
    "tags": []
   },
   "outputs": [
    {
     "name": "stdout",
     "output_type": "stream",
     "text": [
      "Open Season: Scared Silly\n",
      "Mirror Mirror\n",
      "Rango\n",
      "Puppy Star Christmas\n",
      "Open Season 2\n",
      "Wish Dragon\n",
      "The Willoughbys\n",
      "Surf's Up\n",
      "Penguins of Madagascar: The Movie\n",
      "Muppets Most Wanted\n"
     ]
    }
   ],
   "source": [
    "# Printing recomended movies\n",
    "for recomended_movie in most_similar_indices:\n",
    "    print(*title.values[recomended_movie]) "
   ]
  },
  {
   "cell_type": "markdown",
   "id": "b4e66ffa",
   "metadata": {
    "papermill": {
     "duration": 0.208097,
     "end_time": "2023-07-16T19:57:57.259252",
     "exception": false,
     "start_time": "2023-07-16T19:57:57.051155",
     "status": "completed"
    },
    "tags": []
   },
   "source": [
    "<div style=\"background-color:#D4EDDA; color:#155724; padding:20px; border-radius:10px; display:flex;\">\n",
    "    <div style=\"flex:1;\">\n",
    "        <h3 style=\"font-weight:bold; margin-top:0;\">✅ Success:</h3>\n",
    "    </div>\n",
    "    <div style=\"flex:2;\">\n",
    "        <p style=\"margin-bottom:0; font-size:15px;\">We have successfully completed the task and accurately recommended new movies using the autoencoder.</p>\n",
    "    </div>\n",
    "</div>\n"
   ]
  },
  {
   "cell_type": "markdown",
   "id": "042bcdc6",
   "metadata": {
    "execution": {
     "iopub.execute_input": "2023-04-03T16:14:54.252171Z",
     "iopub.status.busy": "2023-04-03T16:14:54.251687Z",
     "iopub.status.idle": "2023-04-03T16:14:54.289576Z",
     "shell.execute_reply": "2023-04-03T16:14:54.287933Z",
     "shell.execute_reply.started": "2023-04-03T16:14:54.252127Z"
    },
    "papermill": {
     "duration": 0.211519,
     "end_time": "2023-07-16T19:57:57.676729",
     "exception": false,
     "start_time": "2023-07-16T19:57:57.465210",
     "status": "completed"
    },
    "tags": []
   },
   "source": [
    "# <p style= \"background-color:#428da6;font-family:Georgia;padding: 6px;color:#FFFFFF;font-size:110%;text-align:center;border-radius:30px 60px;overflow:hidden;\">Conclusion</p>"
   ]
  },
  {
   "cell_type": "markdown",
   "id": "4885fb15",
   "metadata": {
    "papermill": {
     "duration": 0.207422,
     "end_time": "2023-07-16T19:57:58.091876",
     "exception": false,
     "start_time": "2023-07-16T19:57:57.884454",
     "status": "completed"
    },
    "tags": []
   },
   "source": [
    "<div style=\"font-family:Charter; font-size:16px; background-color:#e9eff7; color:#040504; padding:20px; border-radius:10px; text-align:center; box-shadow: 5px 5px #888888;\">\n",
    "    <p style=\"margin-bottom:0;\">Throughout this notebook, we have explored the process of building a movie recommendation system using an autoencoder and cosine similarity. By leveraging the power of deep learning and similarity metrics, we were able to develop a functional and accurate recommendation system that provides personalized movie suggestions based on users' preferences.<br><br>Our approach involved data preprocessing to transform movie attributes into a suitable format, training an autoencoder model to capture meaningful representations of the movies, and utilizing cosine similarity to identify similar movies. Through rigorous evaluation and refinement, we fine-tuned the system's performance and ensured that it delivers high-quality recommendations.<br><br>\n",
    "\n",
    "This movie recommendation system opens up exciting opportunities for users to discover new movies aligned with their tastes, enhancing their movie-watching experience. Additionally, the techniques and methodologies presented in this notebook can be extended and applied to other domains requiring personalized recommendation systems.<br><br>\n",
    "\n",
    "As we conclude this notebook, we encourage further exploration and experimentation with different models, algorithms, and evaluation metrics to continually enhance the movie recommendation system's performance and user satisfaction. By continuously refining and adapting the system, we can provide users with a highly curated and enjoyable movie recommendation experience.</p>\n",
    "</div>\n"
   ]
  }
 ],
 "metadata": {
  "kernelspec": {
   "display_name": "Python 3 (ipykernel)",
   "language": "python",
   "name": "python3"
  },
  "language_info": {
   "codemirror_mode": {
    "name": "ipython",
    "version": 3
   },
   "file_extension": ".py",
   "mimetype": "text/x-python",
   "name": "python",
   "nbconvert_exporter": "python",
   "pygments_lexer": "ipython3",
   "version": "3.10.2"
  },
  "papermill": {
   "default_parameters": {},
   "duration": 626.064112,
   "end_time": "2023-07-16T19:58:01.090020",
   "environment_variables": {},
   "exception": null,
   "input_path": "__notebook__.ipynb",
   "output_path": "__notebook__.ipynb",
   "parameters": {},
   "start_time": "2023-07-16T19:47:35.025908",
   "version": "2.4.0"
  }
 },
 "nbformat": 4,
 "nbformat_minor": 5
}
