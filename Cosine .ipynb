{
 "cells": [
  {
   "cell_type": "code",
   "execution_count": 1,
   "id": "6c64344e",
   "metadata": {
    "_cell_guid": "b1076dfc-b9ad-4769-8c92-a6c4dae69d19",
    "_uuid": "8f2839f25d086af736a60e9eeb907d3b93b6e0e5",
    "execution": {
     "iopub.execute_input": "2023-10-19T19:07:44.051717Z",
     "iopub.status.busy": "2023-10-19T19:07:44.051230Z",
     "iopub.status.idle": "2023-10-19T19:07:46.096663Z",
     "shell.execute_reply": "2023-10-19T19:07:46.094936Z"
    },
    "papermill": {
     "duration": 2.060464,
     "end_time": "2023-10-19T19:07:46.099023",
     "exception": false,
     "start_time": "2023-10-19T19:07:44.038559",
     "status": "completed"
    },
    "tags": []
   },
   "outputs": [],
   "source": [
    "import numpy as np # linear algebra\n",
    "import pandas as pd \n",
    "import matplotlib.pyplot as plt\n",
    "import seaborn as sns"
   ]
  },
  {
   "cell_type": "code",
   "execution_count": 3,
   "id": "2a83e9e2",
   "metadata": {
    "execution": {
     "iopub.execute_input": "2023-10-19T19:07:46.120291Z",
     "iopub.status.busy": "2023-10-19T19:07:46.119772Z",
     "iopub.status.idle": "2023-10-19T19:07:46.274326Z",
     "shell.execute_reply": "2023-10-19T19:07:46.273041Z"
    },
    "papermill": {
     "duration": 0.168166,
     "end_time": "2023-10-19T19:07:46.276964",
     "exception": false,
     "start_time": "2023-10-19T19:07:46.108798",
     "status": "completed"
    },
    "tags": []
   },
   "outputs": [],
   "source": [
    "df = pd.read_csv('train.csv')"
   ]
  },
  {
   "cell_type": "code",
   "execution_count": 4,
   "id": "58aca9ac",
   "metadata": {
    "execution": {
     "iopub.execute_input": "2023-10-19T19:07:46.300010Z",
     "iopub.status.busy": "2023-10-19T19:07:46.299616Z",
     "iopub.status.idle": "2023-10-19T19:07:46.339354Z",
     "shell.execute_reply": "2023-10-19T19:07:46.338077Z"
    },
    "papermill": {
     "duration": 0.054513,
     "end_time": "2023-10-19T19:07:46.341537",
     "exception": false,
     "start_time": "2023-10-19T19:07:46.287024",
     "status": "completed"
    },
    "tags": []
   },
   "outputs": [
    {
     "name": "stdout",
     "output_type": "stream",
     "text": [
      "<class 'pandas.core.frame.DataFrame'>\n",
      "RangeIndex: 6223 entries, 0 to 6222\n",
      "Data columns (total 12 columns):\n",
      " #   Column        Non-Null Count  Dtype \n",
      "---  ------        --------------  ----- \n",
      " 0   Unnamed: 0    6223 non-null   int64 \n",
      " 1   show_id       6223 non-null   object\n",
      " 2   type          6223 non-null   object\n",
      " 3   title         6223 non-null   object\n",
      " 4   director      4330 non-null   object\n",
      " 5   cast          5654 non-null   object\n",
      " 6   country       5800 non-null   object\n",
      " 7   date_added    6216 non-null   object\n",
      " 8   release_year  6223 non-null   int64 \n",
      " 9   duration      6223 non-null   int64 \n",
      " 10  description   6223 non-null   object\n",
      " 11  genre         6223 non-null   object\n",
      "dtypes: int64(3), object(9)\n",
      "memory usage: 583.5+ KB\n"
     ]
    }
   ],
   "source": [
    "df.info()"
   ]
  },
  {
   "cell_type": "code",
   "execution_count": 5,
   "id": "d1c3b88f",
   "metadata": {
    "execution": {
     "iopub.execute_input": "2023-10-19T19:07:46.362560Z",
     "iopub.status.busy": "2023-10-19T19:07:46.361948Z",
     "iopub.status.idle": "2023-10-19T19:07:46.369109Z",
     "shell.execute_reply": "2023-10-19T19:07:46.368002Z"
    },
    "papermill": {
     "duration": 0.020309,
     "end_time": "2023-10-19T19:07:46.371386",
     "exception": false,
     "start_time": "2023-10-19T19:07:46.351077",
     "status": "completed"
    },
    "tags": []
   },
   "outputs": [
    {
     "data": {
      "text/plain": [
       "Index(['Unnamed: 0', 'show_id', 'type', 'title', 'director', 'cast', 'country',\n",
       "       'date_added', 'release_year', 'duration', 'description', 'genre'],\n",
       "      dtype='object')"
      ]
     },
     "execution_count": 5,
     "metadata": {},
     "output_type": "execute_result"
    }
   ],
   "source": [
    "df.columns"
   ]
  },
  {
   "cell_type": "code",
   "execution_count": 6,
   "id": "6039043d",
   "metadata": {
    "execution": {
     "iopub.execute_input": "2023-10-19T19:07:46.392633Z",
     "iopub.status.busy": "2023-10-19T19:07:46.392116Z",
     "iopub.status.idle": "2023-10-19T19:07:46.399019Z",
     "shell.execute_reply": "2023-10-19T19:07:46.397849Z"
    },
    "papermill": {
     "duration": 0.020102,
     "end_time": "2023-10-19T19:07:46.401130",
     "exception": false,
     "start_time": "2023-10-19T19:07:46.381028",
     "status": "completed"
    },
    "tags": []
   },
   "outputs": [
    {
     "data": {
      "text/plain": [
       "(6223, 12)"
      ]
     },
     "execution_count": 6,
     "metadata": {},
     "output_type": "execute_result"
    }
   ],
   "source": [
    "df.shape"
   ]
  },
  {
   "cell_type": "code",
   "execution_count": 7,
   "id": "af2446bb",
   "metadata": {
    "execution": {
     "iopub.execute_input": "2023-10-19T19:07:46.423072Z",
     "iopub.status.busy": "2023-10-19T19:07:46.422038Z",
     "iopub.status.idle": "2023-10-19T19:07:46.443983Z",
     "shell.execute_reply": "2023-10-19T19:07:46.442926Z"
    },
    "papermill": {
     "duration": 0.035205,
     "end_time": "2023-10-19T19:07:46.446002",
     "exception": false,
     "start_time": "2023-10-19T19:07:46.410797",
     "status": "completed"
    },
    "tags": []
   },
   "outputs": [
    {
     "data": {
      "text/html": [
       "<div>\n",
       "<style scoped>\n",
       "    .dataframe tbody tr th:only-of-type {\n",
       "        vertical-align: middle;\n",
       "    }\n",
       "\n",
       "    .dataframe tbody tr th {\n",
       "        vertical-align: top;\n",
       "    }\n",
       "\n",
       "    .dataframe thead th {\n",
       "        text-align: right;\n",
       "    }\n",
       "</style>\n",
       "<table border=\"1\" class=\"dataframe\">\n",
       "  <thead>\n",
       "    <tr style=\"text-align: right;\">\n",
       "      <th></th>\n",
       "      <th>Unnamed: 0</th>\n",
       "      <th>show_id</th>\n",
       "      <th>type</th>\n",
       "      <th>title</th>\n",
       "      <th>director</th>\n",
       "      <th>cast</th>\n",
       "      <th>country</th>\n",
       "      <th>date_added</th>\n",
       "      <th>release_year</th>\n",
       "      <th>duration</th>\n",
       "      <th>description</th>\n",
       "      <th>genre</th>\n",
       "    </tr>\n",
       "  </thead>\n",
       "  <tbody>\n",
       "    <tr>\n",
       "      <th>0</th>\n",
       "      <td>6128</td>\n",
       "      <td>s6129</td>\n",
       "      <td>TV Show</td>\n",
       "      <td>The Big Family Cooking Showdown</td>\n",
       "      <td>NaN</td>\n",
       "      <td>Zoe Ball, Nadiya Hussain, Giorgio Locatelli, R...</td>\n",
       "      <td>United Kingdom</td>\n",
       "      <td>February 22, 2019</td>\n",
       "      <td>2018</td>\n",
       "      <td>2</td>\n",
       "      <td>In this unscripted series, families passionate...</td>\n",
       "      <td>British TV</td>\n",
       "    </tr>\n",
       "    <tr>\n",
       "      <th>1</th>\n",
       "      <td>7018</td>\n",
       "      <td>s7019</td>\n",
       "      <td>TV Show</td>\n",
       "      <td>The World's Most Extraordinary Homes</td>\n",
       "      <td>NaN</td>\n",
       "      <td>Piers Taylor, Caroline Quentin</td>\n",
       "      <td>United Kingdom</td>\n",
       "      <td>January 18, 2019</td>\n",
       "      <td>2019</td>\n",
       "      <td>3</td>\n",
       "      <td>Award-winning architect Piers Taylor and actre...</td>\n",
       "      <td>British TV</td>\n",
       "    </tr>\n",
       "    <tr>\n",
       "      <th>2</th>\n",
       "      <td>4657</td>\n",
       "      <td>s4658</td>\n",
       "      <td>TV Show</td>\n",
       "      <td>One-Punch Man</td>\n",
       "      <td>NaN</td>\n",
       "      <td>Makoto Furukawa, Kaito Ishikawa, Yuki Kaji, Ao...</td>\n",
       "      <td>Japan</td>\n",
       "      <td>March 20, 2017</td>\n",
       "      <td>2015</td>\n",
       "      <td>1</td>\n",
       "      <td>The most powerful superhero in the world can k...</td>\n",
       "      <td>Anime Series</td>\n",
       "    </tr>\n",
       "    <tr>\n",
       "      <th>3</th>\n",
       "      <td>6167</td>\n",
       "      <td>s6168</td>\n",
       "      <td>Movie</td>\n",
       "      <td>The Boy Who Harnessed the Wind</td>\n",
       "      <td>Chiwetel Ejiofor</td>\n",
       "      <td>Maxwell Simba, Chiwetel Ejiofor, Aïssa Maïga, ...</td>\n",
       "      <td>United Kingdom</td>\n",
       "      <td>March 1, 2019</td>\n",
       "      <td>2019</td>\n",
       "      <td>114</td>\n",
       "      <td>Inspired by a science book, 13-year-old Willia...</td>\n",
       "      <td>Children</td>\n",
       "    </tr>\n",
       "    <tr>\n",
       "      <th>4</th>\n",
       "      <td>3562</td>\n",
       "      <td>s3563</td>\n",
       "      <td>Movie</td>\n",
       "      <td>LeapFrog: Sing-along, Read-along</td>\n",
       "      <td>Ron Myrick</td>\n",
       "      <td>Julie Maddalena, Cindy Robinson</td>\n",
       "      <td>NaN</td>\n",
       "      <td>April 15, 2020</td>\n",
       "      <td>2011</td>\n",
       "      <td>32</td>\n",
       "      <td>Using rhythm and rhymes, a funky band and a co...</td>\n",
       "      <td>Children</td>\n",
       "    </tr>\n",
       "  </tbody>\n",
       "</table>\n",
       "</div>"
      ],
      "text/plain": [
       "   Unnamed: 0 show_id     type                                 title  \\\n",
       "0        6128   s6129  TV Show       The Big Family Cooking Showdown   \n",
       "1        7018   s7019  TV Show  The World's Most Extraordinary Homes   \n",
       "2        4657   s4658  TV Show                         One-Punch Man   \n",
       "3        6167   s6168    Movie        The Boy Who Harnessed the Wind   \n",
       "4        3562   s3563    Movie      LeapFrog: Sing-along, Read-along   \n",
       "\n",
       "           director                                               cast  \\\n",
       "0               NaN  Zoe Ball, Nadiya Hussain, Giorgio Locatelli, R...   \n",
       "1               NaN                     Piers Taylor, Caroline Quentin   \n",
       "2               NaN  Makoto Furukawa, Kaito Ishikawa, Yuki Kaji, Ao...   \n",
       "3  Chiwetel Ejiofor  Maxwell Simba, Chiwetel Ejiofor, Aïssa Maïga, ...   \n",
       "4        Ron Myrick                    Julie Maddalena, Cindy Robinson   \n",
       "\n",
       "          country         date_added  release_year  duration  \\\n",
       "0  United Kingdom  February 22, 2019          2018         2   \n",
       "1  United Kingdom   January 18, 2019          2019         3   \n",
       "2           Japan     March 20, 2017          2015         1   \n",
       "3  United Kingdom      March 1, 2019          2019       114   \n",
       "4             NaN     April 15, 2020          2011        32   \n",
       "\n",
       "                                         description         genre  \n",
       "0  In this unscripted series, families passionate...    British TV  \n",
       "1  Award-winning architect Piers Taylor and actre...    British TV  \n",
       "2  The most powerful superhero in the world can k...  Anime Series  \n",
       "3  Inspired by a science book, 13-year-old Willia...      Children  \n",
       "4  Using rhythm and rhymes, a funky band and a co...      Children  "
      ]
     },
     "execution_count": 7,
     "metadata": {},
     "output_type": "execute_result"
    }
   ],
   "source": [
    "df.head()"
   ]
  },
  {
   "cell_type": "code",
   "execution_count": 8,
   "id": "ea729c41",
   "metadata": {
    "execution": {
     "iopub.execute_input": "2023-10-19T19:07:46.468005Z",
     "iopub.status.busy": "2023-10-19T19:07:46.467594Z",
     "iopub.status.idle": "2023-10-19T19:07:46.493039Z",
     "shell.execute_reply": "2023-10-19T19:07:46.492263Z"
    },
    "papermill": {
     "duration": 0.039005,
     "end_time": "2023-10-19T19:07:46.494983",
     "exception": false,
     "start_time": "2023-10-19T19:07:46.455978",
     "status": "completed"
    },
    "tags": []
   },
   "outputs": [
    {
     "data": {
      "text/plain": [
       "Unnamed: 0      6223\n",
       "show_id         6223\n",
       "type               2\n",
       "title           6223\n",
       "director        3374\n",
       "cast            5492\n",
       "country           79\n",
       "date_added      1451\n",
       "release_year      69\n",
       "duration         201\n",
       "description     6210\n",
       "genre             30\n",
       "dtype: int64"
      ]
     },
     "execution_count": 8,
     "metadata": {},
     "output_type": "execute_result"
    }
   ],
   "source": [
    "df.nunique()"
   ]
  },
  {
   "cell_type": "code",
   "execution_count": 9,
   "id": "b977f9d5",
   "metadata": {
    "execution": {
     "iopub.execute_input": "2023-10-19T19:07:46.517199Z",
     "iopub.status.busy": "2023-10-19T19:07:46.516376Z",
     "iopub.status.idle": "2023-10-19T19:07:46.530863Z",
     "shell.execute_reply": "2023-10-19T19:07:46.529458Z"
    },
    "papermill": {
     "duration": 0.028187,
     "end_time": "2023-10-19T19:07:46.533205",
     "exception": false,
     "start_time": "2023-10-19T19:07:46.505018",
     "status": "completed"
    },
    "tags": []
   },
   "outputs": [
    {
     "data": {
      "text/plain": [
       "Unnamed: 0         0\n",
       "show_id            0\n",
       "type               0\n",
       "title              0\n",
       "director        1893\n",
       "cast             569\n",
       "country          423\n",
       "date_added         7\n",
       "release_year       0\n",
       "duration           0\n",
       "description        0\n",
       "genre              0\n",
       "dtype: int64"
      ]
     },
     "execution_count": 9,
     "metadata": {},
     "output_type": "execute_result"
    }
   ],
   "source": [
    "df.isna().sum()"
   ]
  },
  {
   "cell_type": "code",
   "execution_count": 10,
   "id": "813cf611",
   "metadata": {
    "execution": {
     "iopub.execute_input": "2023-10-19T19:07:46.555644Z",
     "iopub.status.busy": "2023-10-19T19:07:46.554934Z",
     "iopub.status.idle": "2023-10-19T19:07:46.580612Z",
     "shell.execute_reply": "2023-10-19T19:07:46.579363Z"
    },
    "papermill": {
     "duration": 0.039497,
     "end_time": "2023-10-19T19:07:46.582990",
     "exception": false,
     "start_time": "2023-10-19T19:07:46.543493",
     "status": "completed"
    },
    "tags": []
   },
   "outputs": [
    {
     "data": {
      "text/plain": [
       "0"
      ]
     },
     "execution_count": 10,
     "metadata": {},
     "output_type": "execute_result"
    }
   ],
   "source": [
    "df.duplicated().sum()"
   ]
  },
  {
   "cell_type": "code",
   "execution_count": 11,
   "id": "ecc1639b",
   "metadata": {
    "execution": {
     "iopub.execute_input": "2023-10-19T19:07:46.605221Z",
     "iopub.status.busy": "2023-10-19T19:07:46.604551Z",
     "iopub.status.idle": "2023-10-19T19:07:46.626947Z",
     "shell.execute_reply": "2023-10-19T19:07:46.625955Z"
    },
    "papermill": {
     "duration": 0.036092,
     "end_time": "2023-10-19T19:07:46.629208",
     "exception": false,
     "start_time": "2023-10-19T19:07:46.593116",
     "status": "completed"
    },
    "tags": []
   },
   "outputs": [
    {
     "data": {
      "text/html": [
       "<div>\n",
       "<style scoped>\n",
       "    .dataframe tbody tr th:only-of-type {\n",
       "        vertical-align: middle;\n",
       "    }\n",
       "\n",
       "    .dataframe tbody tr th {\n",
       "        vertical-align: top;\n",
       "    }\n",
       "\n",
       "    .dataframe thead th {\n",
       "        text-align: right;\n",
       "    }\n",
       "</style>\n",
       "<table border=\"1\" class=\"dataframe\">\n",
       "  <thead>\n",
       "    <tr style=\"text-align: right;\">\n",
       "      <th></th>\n",
       "      <th>Unnamed: 0</th>\n",
       "      <th>show_id</th>\n",
       "      <th>type</th>\n",
       "      <th>title</th>\n",
       "      <th>director</th>\n",
       "      <th>cast</th>\n",
       "      <th>country</th>\n",
       "      <th>date_added</th>\n",
       "      <th>release_year</th>\n",
       "      <th>duration</th>\n",
       "      <th>description</th>\n",
       "      <th>genre</th>\n",
       "    </tr>\n",
       "  </thead>\n",
       "  <tbody>\n",
       "    <tr>\n",
       "      <th>0</th>\n",
       "      <td>6128</td>\n",
       "      <td>s6129</td>\n",
       "      <td>TV Show</td>\n",
       "      <td>The Big Family Cooking Showdown</td>\n",
       "      <td>NaN</td>\n",
       "      <td>Zoe Ball, Nadiya Hussain, Giorgio Locatelli, R...</td>\n",
       "      <td>United Kingdom</td>\n",
       "      <td>February 22, 2019</td>\n",
       "      <td>2018</td>\n",
       "      <td>2</td>\n",
       "      <td>In this unscripted series, families passionate...</td>\n",
       "      <td>British TV</td>\n",
       "    </tr>\n",
       "    <tr>\n",
       "      <th>1</th>\n",
       "      <td>7018</td>\n",
       "      <td>s7019</td>\n",
       "      <td>TV Show</td>\n",
       "      <td>The World's Most Extraordinary Homes</td>\n",
       "      <td>NaN</td>\n",
       "      <td>Piers Taylor, Caroline Quentin</td>\n",
       "      <td>United Kingdom</td>\n",
       "      <td>January 18, 2019</td>\n",
       "      <td>2019</td>\n",
       "      <td>3</td>\n",
       "      <td>Award-winning architect Piers Taylor and actre...</td>\n",
       "      <td>British TV</td>\n",
       "    </tr>\n",
       "    <tr>\n",
       "      <th>2</th>\n",
       "      <td>4657</td>\n",
       "      <td>s4658</td>\n",
       "      <td>TV Show</td>\n",
       "      <td>One-Punch Man</td>\n",
       "      <td>NaN</td>\n",
       "      <td>Makoto Furukawa, Kaito Ishikawa, Yuki Kaji, Ao...</td>\n",
       "      <td>Japan</td>\n",
       "      <td>March 20, 2017</td>\n",
       "      <td>2015</td>\n",
       "      <td>1</td>\n",
       "      <td>The most powerful superhero in the world can k...</td>\n",
       "      <td>Anime Series</td>\n",
       "    </tr>\n",
       "    <tr>\n",
       "      <th>8</th>\n",
       "      <td>2035</td>\n",
       "      <td>s2036</td>\n",
       "      <td>TV Show</td>\n",
       "      <td>Eurovision Song Contest</td>\n",
       "      <td>NaN</td>\n",
       "      <td>Bar Refaeli, Erez Tal, Assi Azar, Lucy Ayoub</td>\n",
       "      <td>NaN</td>\n",
       "      <td>July 23, 2019</td>\n",
       "      <td>2019</td>\n",
       "      <td>1</td>\n",
       "      <td>Singers from all over Europe represent their c...</td>\n",
       "      <td>International TV</td>\n",
       "    </tr>\n",
       "    <tr>\n",
       "      <th>11</th>\n",
       "      <td>6659</td>\n",
       "      <td>s6660</td>\n",
       "      <td>TV Show</td>\n",
       "      <td>The Mess You Leave Behind</td>\n",
       "      <td>NaN</td>\n",
       "      <td>Inma Cuesta, Bárbara Lennie, Tamar Novas, Arón...</td>\n",
       "      <td>Spain</td>\n",
       "      <td>December 11, 2020</td>\n",
       "      <td>2020</td>\n",
       "      <td>1</td>\n",
       "      <td>A teacher starts her job at a high school but ...</td>\n",
       "      <td>International TV</td>\n",
       "    </tr>\n",
       "    <tr>\n",
       "      <th>...</th>\n",
       "      <td>...</td>\n",
       "      <td>...</td>\n",
       "      <td>...</td>\n",
       "      <td>...</td>\n",
       "      <td>...</td>\n",
       "      <td>...</td>\n",
       "      <td>...</td>\n",
       "      <td>...</td>\n",
       "      <td>...</td>\n",
       "      <td>...</td>\n",
       "      <td>...</td>\n",
       "      <td>...</td>\n",
       "    </tr>\n",
       "    <tr>\n",
       "      <th>6194</th>\n",
       "      <td>3450</td>\n",
       "      <td>s3451</td>\n",
       "      <td>Movie</td>\n",
       "      <td>Krish Trish and Baltiboy: Part II</td>\n",
       "      <td>NaN</td>\n",
       "      <td>Damandeep Singh Baggan, Smita Malhotra, Baba S...</td>\n",
       "      <td>NaN</td>\n",
       "      <td>September 8, 2017</td>\n",
       "      <td>2010</td>\n",
       "      <td>58</td>\n",
       "      <td>Animal minstrels narrate stories about a monke...</td>\n",
       "      <td>Children</td>\n",
       "    </tr>\n",
       "    <tr>\n",
       "      <th>6196</th>\n",
       "      <td>4572</td>\n",
       "      <td>s4573</td>\n",
       "      <td>Movie</td>\n",
       "      <td>Oddbods: Party Monsters</td>\n",
       "      <td>NaN</td>\n",
       "      <td>Nadia Ramlee, Chio Su-Ping, Jeremy Linn, Marlo...</td>\n",
       "      <td>NaN</td>\n",
       "      <td>October 19, 2018</td>\n",
       "      <td>2018</td>\n",
       "      <td>23</td>\n",
       "      <td>Dressed up as detective Sherlock Holmes, Slick...</td>\n",
       "      <td>Uncategorized</td>\n",
       "    </tr>\n",
       "    <tr>\n",
       "      <th>6198</th>\n",
       "      <td>7156</td>\n",
       "      <td>s7157</td>\n",
       "      <td>TV Show</td>\n",
       "      <td>Toradora!</td>\n",
       "      <td>NaN</td>\n",
       "      <td>Rie Kugimiya, Junji Majima, Yui Horie, Hirofum...</td>\n",
       "      <td>Japan</td>\n",
       "      <td>August 1, 2020</td>\n",
       "      <td>2008</td>\n",
       "      <td>1</td>\n",
       "      <td>Menacing in appearance but gentle at heart, Ry...</td>\n",
       "      <td>Anime Series</td>\n",
       "    </tr>\n",
       "    <tr>\n",
       "      <th>6204</th>\n",
       "      <td>1189</td>\n",
       "      <td>s1190</td>\n",
       "      <td>TV Show</td>\n",
       "      <td>Camp X</td>\n",
       "      <td>NaN</td>\n",
       "      <td>NaN</td>\n",
       "      <td>Canada</td>\n",
       "      <td>February 1, 2019</td>\n",
       "      <td>2014</td>\n",
       "      <td>1</td>\n",
       "      <td>Established during World War II, North America...</td>\n",
       "      <td>Docuseries</td>\n",
       "    </tr>\n",
       "    <tr>\n",
       "      <th>6222</th>\n",
       "      <td>3061</td>\n",
       "      <td>s3062</td>\n",
       "      <td>TV Show</td>\n",
       "      <td>Is It Wrong to Try to Pick Up Girls in a Dungeon?</td>\n",
       "      <td>NaN</td>\n",
       "      <td>Yoshitsugu Matsuoka, Inori Minase, Saori Onish...</td>\n",
       "      <td>Japan</td>\n",
       "      <td>February 1, 2020</td>\n",
       "      <td>2015</td>\n",
       "      <td>1</td>\n",
       "      <td>Lovable goof Bell Cranel wants an adventure, a...</td>\n",
       "      <td>Anime Series</td>\n",
       "    </tr>\n",
       "  </tbody>\n",
       "</table>\n",
       "<p>1893 rows × 12 columns</p>\n",
       "</div>"
      ],
      "text/plain": [
       "      Unnamed: 0 show_id     type  \\\n",
       "0           6128   s6129  TV Show   \n",
       "1           7018   s7019  TV Show   \n",
       "2           4657   s4658  TV Show   \n",
       "8           2035   s2036  TV Show   \n",
       "11          6659   s6660  TV Show   \n",
       "...          ...     ...      ...   \n",
       "6194        3450   s3451    Movie   \n",
       "6196        4572   s4573    Movie   \n",
       "6198        7156   s7157  TV Show   \n",
       "6204        1189   s1190  TV Show   \n",
       "6222        3061   s3062  TV Show   \n",
       "\n",
       "                                                  title director  \\\n",
       "0                       The Big Family Cooking Showdown      NaN   \n",
       "1                  The World's Most Extraordinary Homes      NaN   \n",
       "2                                         One-Punch Man      NaN   \n",
       "8                               Eurovision Song Contest      NaN   \n",
       "11                            The Mess You Leave Behind      NaN   \n",
       "...                                                 ...      ...   \n",
       "6194                  Krish Trish and Baltiboy: Part II      NaN   \n",
       "6196                            Oddbods: Party Monsters      NaN   \n",
       "6198                                          Toradora!      NaN   \n",
       "6204                                             Camp X      NaN   \n",
       "6222  Is It Wrong to Try to Pick Up Girls in a Dungeon?      NaN   \n",
       "\n",
       "                                                   cast         country  \\\n",
       "0     Zoe Ball, Nadiya Hussain, Giorgio Locatelli, R...  United Kingdom   \n",
       "1                        Piers Taylor, Caroline Quentin  United Kingdom   \n",
       "2     Makoto Furukawa, Kaito Ishikawa, Yuki Kaji, Ao...           Japan   \n",
       "8          Bar Refaeli, Erez Tal, Assi Azar, Lucy Ayoub             NaN   \n",
       "11    Inma Cuesta, Bárbara Lennie, Tamar Novas, Arón...           Spain   \n",
       "...                                                 ...             ...   \n",
       "6194  Damandeep Singh Baggan, Smita Malhotra, Baba S...             NaN   \n",
       "6196  Nadia Ramlee, Chio Su-Ping, Jeremy Linn, Marlo...             NaN   \n",
       "6198  Rie Kugimiya, Junji Majima, Yui Horie, Hirofum...           Japan   \n",
       "6204                                                NaN          Canada   \n",
       "6222  Yoshitsugu Matsuoka, Inori Minase, Saori Onish...           Japan   \n",
       "\n",
       "             date_added  release_year  duration  \\\n",
       "0     February 22, 2019          2018         2   \n",
       "1      January 18, 2019          2019         3   \n",
       "2        March 20, 2017          2015         1   \n",
       "8         July 23, 2019          2019         1   \n",
       "11    December 11, 2020          2020         1   \n",
       "...                 ...           ...       ...   \n",
       "6194  September 8, 2017          2010        58   \n",
       "6196   October 19, 2018          2018        23   \n",
       "6198     August 1, 2020          2008         1   \n",
       "6204   February 1, 2019          2014         1   \n",
       "6222   February 1, 2020          2015         1   \n",
       "\n",
       "                                            description             genre  \n",
       "0     In this unscripted series, families passionate...        British TV  \n",
       "1     Award-winning architect Piers Taylor and actre...        British TV  \n",
       "2     The most powerful superhero in the world can k...      Anime Series  \n",
       "8     Singers from all over Europe represent their c...  International TV  \n",
       "11    A teacher starts her job at a high school but ...  International TV  \n",
       "...                                                 ...               ...  \n",
       "6194  Animal minstrels narrate stories about a monke...          Children  \n",
       "6196  Dressed up as detective Sherlock Holmes, Slick...     Uncategorized  \n",
       "6198  Menacing in appearance but gentle at heart, Ry...      Anime Series  \n",
       "6204  Established during World War II, North America...        Docuseries  \n",
       "6222  Lovable goof Bell Cranel wants an adventure, a...      Anime Series  \n",
       "\n",
       "[1893 rows x 12 columns]"
      ]
     },
     "execution_count": 11,
     "metadata": {},
     "output_type": "execute_result"
    }
   ],
   "source": [
    "df[df.director.isna()]"
   ]
  },
  {
   "cell_type": "code",
   "execution_count": 14,
   "id": "b1517738",
   "metadata": {
    "execution": {
     "iopub.execute_input": "2023-10-19T19:07:46.831226Z",
     "iopub.status.busy": "2023-10-19T19:07:46.830875Z",
     "iopub.status.idle": "2023-10-19T19:07:46.846801Z",
     "shell.execute_reply": "2023-10-19T19:07:46.845604Z"
    },
    "papermill": {
     "duration": 0.031109,
     "end_time": "2023-10-19T19:07:46.849048",
     "exception": false,
     "start_time": "2023-10-19T19:07:46.817939",
     "status": "completed"
    },
    "tags": []
   },
   "outputs": [
    {
     "data": {
      "text/html": [
       "<div>\n",
       "<style scoped>\n",
       "    .dataframe tbody tr th:only-of-type {\n",
       "        vertical-align: middle;\n",
       "    }\n",
       "\n",
       "    .dataframe tbody tr th {\n",
       "        vertical-align: top;\n",
       "    }\n",
       "\n",
       "    .dataframe thead th {\n",
       "        text-align: right;\n",
       "    }\n",
       "</style>\n",
       "<table border=\"1\" class=\"dataframe\">\n",
       "  <thead>\n",
       "    <tr style=\"text-align: right;\">\n",
       "      <th></th>\n",
       "      <th>show_id</th>\n",
       "      <th>type</th>\n",
       "      <th>title</th>\n",
       "      <th>director</th>\n",
       "      <th>cast</th>\n",
       "      <th>country</th>\n",
       "      <th>date_added</th>\n",
       "      <th>release_year</th>\n",
       "      <th>rating</th>\n",
       "      <th>duration</th>\n",
       "      <th>listed_in</th>\n",
       "      <th>description</th>\n",
       "    </tr>\n",
       "  </thead>\n",
       "  <tbody>\n",
       "    <tr>\n",
       "      <th>5989</th>\n",
       "      <td>s5990</td>\n",
       "      <td>Movie</td>\n",
       "      <td>13TH: A Conversation with Oprah Winfrey &amp; Ava ...</td>\n",
       "      <td>NaN</td>\n",
       "      <td>Oprah Winfrey, Ava DuVernay</td>\n",
       "      <td>NaN</td>\n",
       "      <td>January 26, 2017</td>\n",
       "      <td>2017</td>\n",
       "      <td>PG-13</td>\n",
       "      <td>37 min</td>\n",
       "      <td>Movies</td>\n",
       "      <td>Oprah Winfrey sits down with director Ava DuVe...</td>\n",
       "    </tr>\n",
       "  </tbody>\n",
       "</table>\n",
       "</div>"
      ],
      "text/plain": [
       "     show_id   type                                              title  \\\n",
       "5989   s5990  Movie  13TH: A Conversation with Oprah Winfrey & Ava ...   \n",
       "\n",
       "     director                         cast country        date_added  \\\n",
       "5989      NaN  Oprah Winfrey, Ava DuVernay     NaN  January 26, 2017   \n",
       "\n",
       "      release_year rating duration listed_in  \\\n",
       "5989          2017  PG-13   37 min    Movies   \n",
       "\n",
       "                                            description  \n",
       "5989  Oprah Winfrey sits down with director Ava DuVe...  "
      ]
     },
     "execution_count": 14,
     "metadata": {},
     "output_type": "execute_result"
    }
   ],
   "source": [
    "df[df.show_id=='s5990']"
   ]
  },
  {
   "cell_type": "code",
   "execution_count": 13,
   "id": "ffa094e3",
   "metadata": {
    "execution": {
     "iopub.execute_input": "2023-10-19T19:07:46.874112Z",
     "iopub.status.busy": "2023-10-19T19:07:46.873763Z",
     "iopub.status.idle": "2023-10-19T19:07:46.883555Z",
     "shell.execute_reply": "2023-10-19T19:07:46.882392Z"
    },
    "papermill": {
     "duration": 0.025271,
     "end_time": "2023-10-19T19:07:46.885809",
     "exception": false,
     "start_time": "2023-10-19T19:07:46.860538",
     "status": "completed"
    },
    "tags": []
   },
   "outputs": [],
   "source": [
    "df.dropna(subset=['director', 'cast'], inplace=True)"
   ]
  },
  {
   "cell_type": "code",
   "execution_count": 14,
   "id": "83eff1ba",
   "metadata": {
    "execution": {
     "iopub.execute_input": "2023-10-19T19:07:46.910726Z",
     "iopub.status.busy": "2023-10-19T19:07:46.910330Z",
     "iopub.status.idle": "2023-10-19T19:07:46.922378Z",
     "shell.execute_reply": "2023-10-19T19:07:46.921236Z"
    },
    "papermill": {
     "duration": 0.027192,
     "end_time": "2023-10-19T19:07:46.924597",
     "exception": false,
     "start_time": "2023-10-19T19:07:46.897405",
     "status": "completed"
    },
    "tags": []
   },
   "outputs": [
    {
     "data": {
      "text/plain": [
       "Unnamed: 0        0\n",
       "show_id           0\n",
       "type              0\n",
       "title             0\n",
       "director          0\n",
       "cast              0\n",
       "country         132\n",
       "date_added        0\n",
       "release_year      0\n",
       "duration          0\n",
       "description       0\n",
       "genre             0\n",
       "dtype: int64"
      ]
     },
     "execution_count": 14,
     "metadata": {},
     "output_type": "execute_result"
    }
   ],
   "source": [
    "df.isna().sum()"
   ]
  },
  {
   "cell_type": "code",
   "execution_count": 15,
   "id": "8f106981",
   "metadata": {
    "execution": {
     "iopub.execute_input": "2023-10-19T19:07:46.949169Z",
     "iopub.status.busy": "2023-10-19T19:07:46.948783Z",
     "iopub.status.idle": "2023-10-19T19:07:46.965663Z",
     "shell.execute_reply": "2023-10-19T19:07:46.964385Z"
    },
    "papermill": {
     "duration": 0.031862,
     "end_time": "2023-10-19T19:07:46.967916",
     "exception": false,
     "start_time": "2023-10-19T19:07:46.936054",
     "status": "completed"
    },
    "tags": []
   },
   "outputs": [
    {
     "data": {
      "text/html": [
       "<div>\n",
       "<style scoped>\n",
       "    .dataframe tbody tr th:only-of-type {\n",
       "        vertical-align: middle;\n",
       "    }\n",
       "\n",
       "    .dataframe tbody tr th {\n",
       "        vertical-align: top;\n",
       "    }\n",
       "\n",
       "    .dataframe thead th {\n",
       "        text-align: right;\n",
       "    }\n",
       "</style>\n",
       "<table border=\"1\" class=\"dataframe\">\n",
       "  <thead>\n",
       "    <tr style=\"text-align: right;\">\n",
       "      <th></th>\n",
       "      <th>Unnamed: 0</th>\n",
       "      <th>show_id</th>\n",
       "      <th>type</th>\n",
       "      <th>title</th>\n",
       "      <th>director</th>\n",
       "      <th>cast</th>\n",
       "      <th>country</th>\n",
       "      <th>date_added</th>\n",
       "      <th>release_year</th>\n",
       "      <th>duration</th>\n",
       "      <th>description</th>\n",
       "      <th>genre</th>\n",
       "    </tr>\n",
       "  </thead>\n",
       "  <tbody>\n",
       "  </tbody>\n",
       "</table>\n",
       "</div>"
      ],
      "text/plain": [
       "Empty DataFrame\n",
       "Columns: [Unnamed: 0, show_id, type, title, director, cast, country, date_added, release_year, duration, description, genre]\n",
       "Index: []"
      ]
     },
     "execution_count": 15,
     "metadata": {},
     "output_type": "execute_result"
    }
   ],
   "source": [
    "df[df.duration.isna()]"
   ]
  },
  {
   "cell_type": "code",
   "execution_count": 16,
   "id": "78830db1",
   "metadata": {
    "execution": {
     "iopub.execute_input": "2023-10-19T19:07:46.994346Z",
     "iopub.status.busy": "2023-10-19T19:07:46.993941Z",
     "iopub.status.idle": "2023-10-19T19:07:47.004017Z",
     "shell.execute_reply": "2023-10-19T19:07:47.003048Z"
    },
    "papermill": {
     "duration": 0.026504,
     "end_time": "2023-10-19T19:07:47.006430",
     "exception": false,
     "start_time": "2023-10-19T19:07:46.979926",
     "status": "completed"
    },
    "tags": []
   },
   "outputs": [],
   "source": [
    "df.dropna(subset = ['duration'], inplace = True)"
   ]
  },
  {
   "cell_type": "code",
   "execution_count": 17,
   "id": "1bf59e40",
   "metadata": {
    "execution": {
     "iopub.execute_input": "2023-10-19T19:07:47.033743Z",
     "iopub.status.busy": "2023-10-19T19:07:47.033320Z",
     "iopub.status.idle": "2023-10-19T19:07:47.041061Z",
     "shell.execute_reply": "2023-10-19T19:07:47.039839Z"
    },
    "papermill": {
     "duration": 0.024678,
     "end_time": "2023-10-19T19:07:47.043208",
     "exception": false,
     "start_time": "2023-10-19T19:07:47.018530",
     "status": "completed"
    },
    "tags": []
   },
   "outputs": [
    {
     "data": {
      "text/plain": [
       "'United States'"
      ]
     },
     "execution_count": 17,
     "metadata": {},
     "output_type": "execute_result"
    }
   ],
   "source": [
    "df.country.mode()[0]"
   ]
  },
  {
   "cell_type": "code",
   "execution_count": 18,
   "id": "0eaafd79",
   "metadata": {
    "execution": {
     "iopub.execute_input": "2023-10-19T19:07:47.072706Z",
     "iopub.status.busy": "2023-10-19T19:07:47.072307Z",
     "iopub.status.idle": "2023-10-19T19:07:47.080019Z",
     "shell.execute_reply": "2023-10-19T19:07:47.078738Z"
    },
    "papermill": {
     "duration": 0.025152,
     "end_time": "2023-10-19T19:07:47.082294",
     "exception": false,
     "start_time": "2023-10-19T19:07:47.057142",
     "status": "completed"
    },
    "tags": []
   },
   "outputs": [],
   "source": [
    "df.country = df.country.fillna(df.country.mode()[0])"
   ]
  },
  {
   "cell_type": "code",
   "execution_count": 19,
   "id": "5639ce84",
   "metadata": {
    "execution": {
     "iopub.execute_input": "2023-10-19T19:07:47.107887Z",
     "iopub.status.busy": "2023-10-19T19:07:47.107235Z",
     "iopub.status.idle": "2023-10-19T19:07:47.122618Z",
     "shell.execute_reply": "2023-10-19T19:07:47.121355Z"
    },
    "papermill": {
     "duration": 0.030669,
     "end_time": "2023-10-19T19:07:47.124912",
     "exception": false,
     "start_time": "2023-10-19T19:07:47.094243",
     "status": "completed"
    },
    "tags": []
   },
   "outputs": [
    {
     "data": {
      "text/html": [
       "<div>\n",
       "<style scoped>\n",
       "    .dataframe tbody tr th:only-of-type {\n",
       "        vertical-align: middle;\n",
       "    }\n",
       "\n",
       "    .dataframe tbody tr th {\n",
       "        vertical-align: top;\n",
       "    }\n",
       "\n",
       "    .dataframe thead th {\n",
       "        text-align: right;\n",
       "    }\n",
       "</style>\n",
       "<table border=\"1\" class=\"dataframe\">\n",
       "  <thead>\n",
       "    <tr style=\"text-align: right;\">\n",
       "      <th></th>\n",
       "      <th>Unnamed: 0</th>\n",
       "      <th>show_id</th>\n",
       "      <th>type</th>\n",
       "      <th>title</th>\n",
       "      <th>director</th>\n",
       "      <th>cast</th>\n",
       "      <th>country</th>\n",
       "      <th>date_added</th>\n",
       "      <th>release_year</th>\n",
       "      <th>duration</th>\n",
       "      <th>description</th>\n",
       "      <th>genre</th>\n",
       "    </tr>\n",
       "  </thead>\n",
       "  <tbody>\n",
       "    <tr>\n",
       "      <th>3</th>\n",
       "      <td>6167</td>\n",
       "      <td>s6168</td>\n",
       "      <td>Movie</td>\n",
       "      <td>The Boy Who Harnessed the Wind</td>\n",
       "      <td>Chiwetel Ejiofor</td>\n",
       "      <td>Maxwell Simba, Chiwetel Ejiofor, Aïssa Maïga, ...</td>\n",
       "      <td>United Kingdom</td>\n",
       "      <td>March 1, 2019</td>\n",
       "      <td>2019</td>\n",
       "      <td>114</td>\n",
       "      <td>Inspired by a science book, 13-year-old Willia...</td>\n",
       "      <td>Children</td>\n",
       "    </tr>\n",
       "    <tr>\n",
       "      <th>4</th>\n",
       "      <td>3562</td>\n",
       "      <td>s3563</td>\n",
       "      <td>Movie</td>\n",
       "      <td>LeapFrog: Sing-along, Read-along</td>\n",
       "      <td>Ron Myrick</td>\n",
       "      <td>Julie Maddalena, Cindy Robinson</td>\n",
       "      <td>United States</td>\n",
       "      <td>April 15, 2020</td>\n",
       "      <td>2011</td>\n",
       "      <td>32</td>\n",
       "      <td>Using rhythm and rhymes, a funky band and a co...</td>\n",
       "      <td>Children</td>\n",
       "    </tr>\n",
       "    <tr>\n",
       "      <th>5</th>\n",
       "      <td>4299</td>\n",
       "      <td>s4300</td>\n",
       "      <td>Movie</td>\n",
       "      <td>Mutiny of the Worker Bees</td>\n",
       "      <td>Carlos Morett</td>\n",
       "      <td>Gustavo Egelhaaf, Alejandro Suárez, Bárbara de...</td>\n",
       "      <td>Mexico</td>\n",
       "      <td>May 20, 2020</td>\n",
       "      <td>2020</td>\n",
       "      <td>94</td>\n",
       "      <td>When Omar's grandfather forces him to get a jo...</td>\n",
       "      <td>Comedies</td>\n",
       "    </tr>\n",
       "    <tr>\n",
       "      <th>6</th>\n",
       "      <td>3202</td>\n",
       "      <td>s3203</td>\n",
       "      <td>Movie</td>\n",
       "      <td>John Carter</td>\n",
       "      <td>Andrew Stanton</td>\n",
       "      <td>Taylor Kitsch, Lynn Collins, Samantha Morton, ...</td>\n",
       "      <td>United States</td>\n",
       "      <td>May 2, 2019</td>\n",
       "      <td>2012</td>\n",
       "      <td>133</td>\n",
       "      <td>One minute, Civil War veteran John Carter is e...</td>\n",
       "      <td>Action</td>\n",
       "    </tr>\n",
       "    <tr>\n",
       "      <th>7</th>\n",
       "      <td>3468</td>\n",
       "      <td>s3469</td>\n",
       "      <td>Movie</td>\n",
       "      <td>Kung Fu Yoga</td>\n",
       "      <td>Stanley Tong</td>\n",
       "      <td>Jackie Chan, Disha Patani, Amyra Dastur, Sonu ...</td>\n",
       "      <td>China</td>\n",
       "      <td>October 6, 2017</td>\n",
       "      <td>2017</td>\n",
       "      <td>107</td>\n",
       "      <td>Two mismatched archaeologists battle a team of...</td>\n",
       "      <td>Action</td>\n",
       "    </tr>\n",
       "  </tbody>\n",
       "</table>\n",
       "</div>"
      ],
      "text/plain": [
       "   Unnamed: 0 show_id   type                             title  \\\n",
       "3        6167   s6168  Movie    The Boy Who Harnessed the Wind   \n",
       "4        3562   s3563  Movie  LeapFrog: Sing-along, Read-along   \n",
       "5        4299   s4300  Movie         Mutiny of the Worker Bees   \n",
       "6        3202   s3203  Movie                       John Carter   \n",
       "7        3468   s3469  Movie                      Kung Fu Yoga   \n",
       "\n",
       "           director                                               cast  \\\n",
       "3  Chiwetel Ejiofor  Maxwell Simba, Chiwetel Ejiofor, Aïssa Maïga, ...   \n",
       "4        Ron Myrick                    Julie Maddalena, Cindy Robinson   \n",
       "5     Carlos Morett  Gustavo Egelhaaf, Alejandro Suárez, Bárbara de...   \n",
       "6    Andrew Stanton  Taylor Kitsch, Lynn Collins, Samantha Morton, ...   \n",
       "7      Stanley Tong  Jackie Chan, Disha Patani, Amyra Dastur, Sonu ...   \n",
       "\n",
       "          country       date_added  release_year  duration  \\\n",
       "3  United Kingdom    March 1, 2019          2019       114   \n",
       "4   United States   April 15, 2020          2011        32   \n",
       "5          Mexico     May 20, 2020          2020        94   \n",
       "6   United States      May 2, 2019          2012       133   \n",
       "7           China  October 6, 2017          2017       107   \n",
       "\n",
       "                                         description     genre  \n",
       "3  Inspired by a science book, 13-year-old Willia...  Children  \n",
       "4  Using rhythm and rhymes, a funky band and a co...  Children  \n",
       "5  When Omar's grandfather forces him to get a jo...  Comedies  \n",
       "6  One minute, Civil War veteran John Carter is e...    Action  \n",
       "7  Two mismatched archaeologists battle a team of...    Action  "
      ]
     },
     "execution_count": 19,
     "metadata": {},
     "output_type": "execute_result"
    }
   ],
   "source": [
    "df.head()"
   ]
  },
  {
   "cell_type": "code",
   "execution_count": 20,
   "id": "a3774ded",
   "metadata": {
    "execution": {
     "iopub.execute_input": "2023-10-19T19:07:47.150508Z",
     "iopub.status.busy": "2023-10-19T19:07:47.150123Z",
     "iopub.status.idle": "2023-10-19T19:07:47.158856Z",
     "shell.execute_reply": "2023-10-19T19:07:47.157659Z"
    },
    "papermill": {
     "duration": 0.0239,
     "end_time": "2023-10-19T19:07:47.160767",
     "exception": false,
     "start_time": "2023-10-19T19:07:47.136867",
     "status": "completed"
    },
    "tags": []
   },
   "outputs": [],
   "source": [
    "df['added_year'] = df['date_added'].apply(lambda x: x.split(\" \")[-1])"
   ]
  },
  {
   "cell_type": "code",
   "execution_count": 21,
   "id": "6838d4e6",
   "metadata": {
    "execution": {
     "iopub.execute_input": "2023-10-19T19:07:47.187453Z",
     "iopub.status.busy": "2023-10-19T19:07:47.187105Z",
     "iopub.status.idle": "2023-10-19T19:07:47.195990Z",
     "shell.execute_reply": "2023-10-19T19:07:47.194625Z"
    },
    "papermill": {
     "duration": 0.025105,
     "end_time": "2023-10-19T19:07:47.198305",
     "exception": false,
     "start_time": "2023-10-19T19:07:47.173200",
     "status": "completed"
    },
    "tags": []
   },
   "outputs": [],
   "source": [
    "df['added_month'] = df['date_added'].apply(lambda x: x.split(\" \")[0])"
   ]
  },
  {
   "cell_type": "code",
   "execution_count": 22,
   "id": "430cd1f5",
   "metadata": {
    "execution": {
     "iopub.execute_input": "2023-10-19T19:07:47.225174Z",
     "iopub.status.busy": "2023-10-19T19:07:47.224430Z",
     "iopub.status.idle": "2023-10-19T19:07:47.233016Z",
     "shell.execute_reply": "2023-10-19T19:07:47.231810Z"
    },
    "papermill": {
     "duration": 0.024338,
     "end_time": "2023-10-19T19:07:47.235384",
     "exception": false,
     "start_time": "2023-10-19T19:07:47.211046",
     "status": "completed"
    },
    "tags": []
   },
   "outputs": [
    {
     "data": {
      "text/plain": [
       "Unnamed: 0       int64\n",
       "show_id         object\n",
       "type            object\n",
       "title           object\n",
       "director        object\n",
       "cast            object\n",
       "country         object\n",
       "date_added      object\n",
       "release_year     int64\n",
       "duration         int64\n",
       "description     object\n",
       "genre           object\n",
       "added_year      object\n",
       "added_month     object\n",
       "dtype: object"
      ]
     },
     "execution_count": 22,
     "metadata": {},
     "output_type": "execute_result"
    }
   ],
   "source": [
    "df.dtypes"
   ]
  },
  {
   "cell_type": "code",
   "execution_count": 23,
   "id": "d0fb2dc5",
   "metadata": {
    "execution": {
     "iopub.execute_input": "2023-10-19T19:07:47.262533Z",
     "iopub.status.busy": "2023-10-19T19:07:47.261793Z",
     "iopub.status.idle": "2023-10-19T19:07:47.272345Z",
     "shell.execute_reply": "2023-10-19T19:07:47.271129Z"
    },
    "papermill": {
     "duration": 0.026076,
     "end_time": "2023-10-19T19:07:47.274558",
     "exception": false,
     "start_time": "2023-10-19T19:07:47.248482",
     "status": "completed"
    },
    "tags": []
   },
   "outputs": [],
   "source": [
    "df['type'] = pd.Categorical(df['type'])\n",
    "df['added_year'] = pd.to_numeric(df['added_year'])"
   ]
  },
  {
   "cell_type": "code",
   "execution_count": 24,
   "id": "550775ef",
   "metadata": {
    "execution": {
     "iopub.execute_input": "2023-10-19T19:07:47.300453Z",
     "iopub.status.busy": "2023-10-19T19:07:47.300003Z",
     "iopub.status.idle": "2023-10-19T19:07:47.317664Z",
     "shell.execute_reply": "2023-10-19T19:07:47.316053Z"
    },
    "papermill": {
     "duration": 0.03305,
     "end_time": "2023-10-19T19:07:47.319827",
     "exception": false,
     "start_time": "2023-10-19T19:07:47.286777",
     "status": "completed"
    },
    "tags": []
   },
   "outputs": [
    {
     "data": {
      "text/html": [
       "<div>\n",
       "<style scoped>\n",
       "    .dataframe tbody tr th:only-of-type {\n",
       "        vertical-align: middle;\n",
       "    }\n",
       "\n",
       "    .dataframe tbody tr th {\n",
       "        vertical-align: top;\n",
       "    }\n",
       "\n",
       "    .dataframe thead th {\n",
       "        text-align: right;\n",
       "    }\n",
       "</style>\n",
       "<table border=\"1\" class=\"dataframe\">\n",
       "  <thead>\n",
       "    <tr style=\"text-align: right;\">\n",
       "      <th></th>\n",
       "      <th>Unnamed: 0</th>\n",
       "      <th>show_id</th>\n",
       "      <th>type</th>\n",
       "      <th>title</th>\n",
       "      <th>director</th>\n",
       "      <th>cast</th>\n",
       "      <th>country</th>\n",
       "      <th>date_added</th>\n",
       "      <th>release_year</th>\n",
       "      <th>duration</th>\n",
       "      <th>description</th>\n",
       "      <th>genre</th>\n",
       "      <th>added_year</th>\n",
       "      <th>added_month</th>\n",
       "    </tr>\n",
       "  </thead>\n",
       "  <tbody>\n",
       "    <tr>\n",
       "      <th>3</th>\n",
       "      <td>6167</td>\n",
       "      <td>s6168</td>\n",
       "      <td>Movie</td>\n",
       "      <td>The Boy Who Harnessed the Wind</td>\n",
       "      <td>Chiwetel Ejiofor</td>\n",
       "      <td>Maxwell Simba, Chiwetel Ejiofor, Aïssa Maïga, ...</td>\n",
       "      <td>United Kingdom</td>\n",
       "      <td>March 1, 2019</td>\n",
       "      <td>2019</td>\n",
       "      <td>114</td>\n",
       "      <td>Inspired by a science book, 13-year-old Willia...</td>\n",
       "      <td>Children</td>\n",
       "      <td>2019</td>\n",
       "      <td>March</td>\n",
       "    </tr>\n",
       "    <tr>\n",
       "      <th>4</th>\n",
       "      <td>3562</td>\n",
       "      <td>s3563</td>\n",
       "      <td>Movie</td>\n",
       "      <td>LeapFrog: Sing-along, Read-along</td>\n",
       "      <td>Ron Myrick</td>\n",
       "      <td>Julie Maddalena, Cindy Robinson</td>\n",
       "      <td>United States</td>\n",
       "      <td>April 15, 2020</td>\n",
       "      <td>2011</td>\n",
       "      <td>32</td>\n",
       "      <td>Using rhythm and rhymes, a funky band and a co...</td>\n",
       "      <td>Children</td>\n",
       "      <td>2020</td>\n",
       "      <td>April</td>\n",
       "    </tr>\n",
       "    <tr>\n",
       "      <th>5</th>\n",
       "      <td>4299</td>\n",
       "      <td>s4300</td>\n",
       "      <td>Movie</td>\n",
       "      <td>Mutiny of the Worker Bees</td>\n",
       "      <td>Carlos Morett</td>\n",
       "      <td>Gustavo Egelhaaf, Alejandro Suárez, Bárbara de...</td>\n",
       "      <td>Mexico</td>\n",
       "      <td>May 20, 2020</td>\n",
       "      <td>2020</td>\n",
       "      <td>94</td>\n",
       "      <td>When Omar's grandfather forces him to get a jo...</td>\n",
       "      <td>Comedies</td>\n",
       "      <td>2020</td>\n",
       "      <td>May</td>\n",
       "    </tr>\n",
       "    <tr>\n",
       "      <th>6</th>\n",
       "      <td>3202</td>\n",
       "      <td>s3203</td>\n",
       "      <td>Movie</td>\n",
       "      <td>John Carter</td>\n",
       "      <td>Andrew Stanton</td>\n",
       "      <td>Taylor Kitsch, Lynn Collins, Samantha Morton, ...</td>\n",
       "      <td>United States</td>\n",
       "      <td>May 2, 2019</td>\n",
       "      <td>2012</td>\n",
       "      <td>133</td>\n",
       "      <td>One minute, Civil War veteran John Carter is e...</td>\n",
       "      <td>Action</td>\n",
       "      <td>2019</td>\n",
       "      <td>May</td>\n",
       "    </tr>\n",
       "    <tr>\n",
       "      <th>7</th>\n",
       "      <td>3468</td>\n",
       "      <td>s3469</td>\n",
       "      <td>Movie</td>\n",
       "      <td>Kung Fu Yoga</td>\n",
       "      <td>Stanley Tong</td>\n",
       "      <td>Jackie Chan, Disha Patani, Amyra Dastur, Sonu ...</td>\n",
       "      <td>China</td>\n",
       "      <td>October 6, 2017</td>\n",
       "      <td>2017</td>\n",
       "      <td>107</td>\n",
       "      <td>Two mismatched archaeologists battle a team of...</td>\n",
       "      <td>Action</td>\n",
       "      <td>2017</td>\n",
       "      <td>October</td>\n",
       "    </tr>\n",
       "  </tbody>\n",
       "</table>\n",
       "</div>"
      ],
      "text/plain": [
       "   Unnamed: 0 show_id   type                             title  \\\n",
       "3        6167   s6168  Movie    The Boy Who Harnessed the Wind   \n",
       "4        3562   s3563  Movie  LeapFrog: Sing-along, Read-along   \n",
       "5        4299   s4300  Movie         Mutiny of the Worker Bees   \n",
       "6        3202   s3203  Movie                       John Carter   \n",
       "7        3468   s3469  Movie                      Kung Fu Yoga   \n",
       "\n",
       "           director                                               cast  \\\n",
       "3  Chiwetel Ejiofor  Maxwell Simba, Chiwetel Ejiofor, Aïssa Maïga, ...   \n",
       "4        Ron Myrick                    Julie Maddalena, Cindy Robinson   \n",
       "5     Carlos Morett  Gustavo Egelhaaf, Alejandro Suárez, Bárbara de...   \n",
       "6    Andrew Stanton  Taylor Kitsch, Lynn Collins, Samantha Morton, ...   \n",
       "7      Stanley Tong  Jackie Chan, Disha Patani, Amyra Dastur, Sonu ...   \n",
       "\n",
       "          country       date_added  release_year  duration  \\\n",
       "3  United Kingdom    March 1, 2019          2019       114   \n",
       "4   United States   April 15, 2020          2011        32   \n",
       "5          Mexico     May 20, 2020          2020        94   \n",
       "6   United States      May 2, 2019          2012       133   \n",
       "7           China  October 6, 2017          2017       107   \n",
       "\n",
       "                                         description     genre  added_year  \\\n",
       "3  Inspired by a science book, 13-year-old Willia...  Children        2019   \n",
       "4  Using rhythm and rhymes, a funky band and a co...  Children        2020   \n",
       "5  When Omar's grandfather forces him to get a jo...  Comedies        2020   \n",
       "6  One minute, Civil War veteran John Carter is e...    Action        2019   \n",
       "7  Two mismatched archaeologists battle a team of...    Action        2017   \n",
       "\n",
       "  added_month  \n",
       "3       March  \n",
       "4       April  \n",
       "5         May  \n",
       "6         May  \n",
       "7     October  "
      ]
     },
     "execution_count": 24,
     "metadata": {},
     "output_type": "execute_result"
    }
   ],
   "source": [
    "df.head()"
   ]
  },
  {
   "cell_type": "code",
   "execution_count": 26,
   "id": "01d65686",
   "metadata": {
    "execution": {
     "iopub.execute_input": "2023-10-19T19:07:47.346817Z",
     "iopub.status.busy": "2023-10-19T19:07:47.345895Z",
     "iopub.status.idle": "2023-10-19T19:07:47.360652Z",
     "shell.execute_reply": "2023-10-19T19:07:47.359828Z"
    },
    "papermill": {
     "duration": 0.030689,
     "end_time": "2023-10-19T19:07:47.363021",
     "exception": false,
     "start_time": "2023-10-19T19:07:47.332332",
     "status": "completed"
    },
    "tags": []
   },
   "outputs": [
    {
     "data": {
      "text/plain": [
       "3    Children\n",
       "4    Children\n",
       "5    Comedies\n",
       "6      Action\n",
       "7      Action\n",
       "Name: genre, dtype: object"
      ]
     },
     "execution_count": 26,
     "metadata": {},
     "output_type": "execute_result"
    }
   ],
   "source": [
    "df['genre'].head()"
   ]
  },
  {
   "cell_type": "code",
   "execution_count": 27,
   "id": "1b546d7e",
   "metadata": {
    "execution": {
     "iopub.execute_input": "2023-10-19T19:07:47.391048Z",
     "iopub.status.busy": "2023-10-19T19:07:47.389981Z",
     "iopub.status.idle": "2023-10-19T19:07:47.397754Z",
     "shell.execute_reply": "2023-10-19T19:07:47.396977Z"
    },
    "papermill": {
     "duration": 0.023552,
     "end_time": "2023-10-19T19:07:47.399744",
     "exception": false,
     "start_time": "2023-10-19T19:07:47.376192",
     "status": "completed"
    },
    "tags": []
   },
   "outputs": [],
   "source": [
    "show_df = df[df['type'] == 'TV Show']\n",
    "movie_df = df[df['type'] == 'Movie']"
   ]
  },
  {
   "cell_type": "code",
   "execution_count": 28,
   "id": "264da54f",
   "metadata": {
    "execution": {
     "iopub.execute_input": "2023-10-19T19:07:47.427681Z",
     "iopub.status.busy": "2023-10-19T19:07:47.426523Z",
     "iopub.status.idle": "2023-10-19T19:07:47.443757Z",
     "shell.execute_reply": "2023-10-19T19:07:47.442559Z"
    },
    "papermill": {
     "duration": 0.034062,
     "end_time": "2023-10-19T19:07:47.446180",
     "exception": false,
     "start_time": "2023-10-19T19:07:47.412118",
     "status": "completed"
    },
    "tags": []
   },
   "outputs": [
    {
     "data": {
      "text/html": [
       "<div>\n",
       "<style scoped>\n",
       "    .dataframe tbody tr th:only-of-type {\n",
       "        vertical-align: middle;\n",
       "    }\n",
       "\n",
       "    .dataframe tbody tr th {\n",
       "        vertical-align: top;\n",
       "    }\n",
       "\n",
       "    .dataframe thead th {\n",
       "        text-align: right;\n",
       "    }\n",
       "</style>\n",
       "<table border=\"1\" class=\"dataframe\">\n",
       "  <thead>\n",
       "    <tr style=\"text-align: right;\">\n",
       "      <th></th>\n",
       "      <th>Unnamed: 0</th>\n",
       "      <th>show_id</th>\n",
       "      <th>type</th>\n",
       "      <th>title</th>\n",
       "      <th>director</th>\n",
       "      <th>cast</th>\n",
       "      <th>country</th>\n",
       "      <th>date_added</th>\n",
       "      <th>release_year</th>\n",
       "      <th>duration</th>\n",
       "      <th>description</th>\n",
       "      <th>genre</th>\n",
       "      <th>added_year</th>\n",
       "      <th>added_month</th>\n",
       "    </tr>\n",
       "  </thead>\n",
       "  <tbody>\n",
       "    <tr>\n",
       "      <th>36</th>\n",
       "      <td>2461</td>\n",
       "      <td>s2462</td>\n",
       "      <td>TV Show</td>\n",
       "      <td>Goedam</td>\n",
       "      <td>Hong Won-ki</td>\n",
       "      <td>SEOLA, Lee Hyun-joo, Song Chae-yun, Han Ga-rim...</td>\n",
       "      <td>South Korea</td>\n",
       "      <td>August 20, 2020</td>\n",
       "      <td>2020</td>\n",
       "      <td>1</td>\n",
       "      <td>When night falls on the city, shadows and spir...</td>\n",
       "      <td>International TV</td>\n",
       "      <td>2020</td>\n",
       "      <td>August</td>\n",
       "    </tr>\n",
       "    <tr>\n",
       "      <th>96</th>\n",
       "      <td>7492</td>\n",
       "      <td>s7493</td>\n",
       "      <td>TV Show</td>\n",
       "      <td>Watership Down</td>\n",
       "      <td>Noam Murro</td>\n",
       "      <td>James McAvoy, Nicholas Hoult, John Boyega, Ben...</td>\n",
       "      <td>United Kingdom</td>\n",
       "      <td>December 23, 2018</td>\n",
       "      <td>2018</td>\n",
       "      <td>1</td>\n",
       "      <td>A warren of rabbits battles many threats on th...</td>\n",
       "      <td>British TV</td>\n",
       "      <td>2018</td>\n",
       "      <td>December</td>\n",
       "    </tr>\n",
       "    <tr>\n",
       "      <th>100</th>\n",
       "      <td>6036</td>\n",
       "      <td>s6037</td>\n",
       "      <td>TV Show</td>\n",
       "      <td>Th Eena Meena Deeka Chase Comedy Show</td>\n",
       "      <td>Dheeraj Berry</td>\n",
       "      <td>Sanjay Keni, Priya Raina</td>\n",
       "      <td>India</td>\n",
       "      <td>March 31, 2018</td>\n",
       "      <td>2015</td>\n",
       "      <td>1</td>\n",
       "      <td>A hungry fox and three resourceful, surprising...</td>\n",
       "      <td>Kids</td>\n",
       "      <td>2018</td>\n",
       "      <td>March</td>\n",
       "    </tr>\n",
       "    <tr>\n",
       "      <th>108</th>\n",
       "      <td>4604</td>\n",
       "      <td>s4605</td>\n",
       "      <td>TV Show</td>\n",
       "      <td>Oliver Stone's Untold History of the United St...</td>\n",
       "      <td>Oliver Stone</td>\n",
       "      <td>Oliver Stone</td>\n",
       "      <td>United States</td>\n",
       "      <td>November 15, 2016</td>\n",
       "      <td>2013</td>\n",
       "      <td>1</td>\n",
       "      <td>This documentary series offers an alternative ...</td>\n",
       "      <td>Docuseries</td>\n",
       "      <td>2016</td>\n",
       "      <td>November</td>\n",
       "    </tr>\n",
       "    <tr>\n",
       "      <th>112</th>\n",
       "      <td>2320</td>\n",
       "      <td>s2321</td>\n",
       "      <td>TV Show</td>\n",
       "      <td>Futmalls.com</td>\n",
       "      <td>Lai Chun-yu</td>\n",
       "      <td>Bryan Chang, Eugenie Liu, Bruce He, Ivy Shao, ...</td>\n",
       "      <td>United States</td>\n",
       "      <td>December 10, 2020</td>\n",
       "      <td>2020</td>\n",
       "      <td>1</td>\n",
       "      <td>Strange occurrences afflict a group of people ...</td>\n",
       "      <td>Crime TV</td>\n",
       "      <td>2020</td>\n",
       "      <td>December</td>\n",
       "    </tr>\n",
       "  </tbody>\n",
       "</table>\n",
       "</div>"
      ],
      "text/plain": [
       "     Unnamed: 0 show_id     type  \\\n",
       "36         2461   s2462  TV Show   \n",
       "96         7492   s7493  TV Show   \n",
       "100        6036   s6037  TV Show   \n",
       "108        4604   s4605  TV Show   \n",
       "112        2320   s2321  TV Show   \n",
       "\n",
       "                                                 title       director  \\\n",
       "36                                              Goedam    Hong Won-ki   \n",
       "96                                      Watership Down     Noam Murro   \n",
       "100              Th Eena Meena Deeka Chase Comedy Show  Dheeraj Berry   \n",
       "108  Oliver Stone's Untold History of the United St...   Oliver Stone   \n",
       "112                                       Futmalls.com    Lai Chun-yu   \n",
       "\n",
       "                                                  cast         country  \\\n",
       "36   SEOLA, Lee Hyun-joo, Song Chae-yun, Han Ga-rim...     South Korea   \n",
       "96   James McAvoy, Nicholas Hoult, John Boyega, Ben...  United Kingdom   \n",
       "100                           Sanjay Keni, Priya Raina           India   \n",
       "108                                       Oliver Stone   United States   \n",
       "112  Bryan Chang, Eugenie Liu, Bruce He, Ivy Shao, ...   United States   \n",
       "\n",
       "            date_added  release_year  duration  \\\n",
       "36     August 20, 2020          2020         1   \n",
       "96   December 23, 2018          2018         1   \n",
       "100     March 31, 2018          2015         1   \n",
       "108  November 15, 2016          2013         1   \n",
       "112  December 10, 2020          2020         1   \n",
       "\n",
       "                                           description             genre  \\\n",
       "36   When night falls on the city, shadows and spir...  International TV   \n",
       "96   A warren of rabbits battles many threats on th...        British TV   \n",
       "100  A hungry fox and three resourceful, surprising...              Kids   \n",
       "108  This documentary series offers an alternative ...        Docuseries   \n",
       "112  Strange occurrences afflict a group of people ...          Crime TV   \n",
       "\n",
       "     added_year added_month  \n",
       "36         2020      August  \n",
       "96         2018    December  \n",
       "100        2018       March  \n",
       "108        2016    November  \n",
       "112        2020    December  "
      ]
     },
     "execution_count": 28,
     "metadata": {},
     "output_type": "execute_result"
    }
   ],
   "source": [
    "show_df.head()"
   ]
  },
  {
   "cell_type": "code",
   "execution_count": 29,
   "id": "f030d501",
   "metadata": {
    "execution": {
     "iopub.execute_input": "2023-10-19T19:07:47.473542Z",
     "iopub.status.busy": "2023-10-19T19:07:47.473100Z",
     "iopub.status.idle": "2023-10-19T19:07:47.831815Z",
     "shell.execute_reply": "2023-10-19T19:07:47.830905Z"
    },
    "papermill": {
     "duration": 0.3747,
     "end_time": "2023-10-19T19:07:47.833761",
     "exception": false,
     "start_time": "2023-10-19T19:07:47.459061",
     "status": "completed"
    },
    "tags": []
   },
   "outputs": [
    {
     "data": {
      "image/png": "[encoded data removed]",
      "text/plain": [
       "<Figure size 1440x432 with 1 Axes>"
      ]
     },
     "metadata": {
      "needs_background": "light"
     },
     "output_type": "display_data"
    }
   ],
   "source": [
    "director_counts = show_df['director'].value_counts()\n",
    "\n",
    "top_directors = director_counts.head(10)\n",
    "\n",
    "plt.figure(figsize=(20, 6))\n",
    "top_directors.plot(kind='bar', color='skyblue')\n",
    "plt.title('Director - Count of Tv Show')\n",
    "plt.xlabel('Director')\n",
    "plt.ylabel('Count')\n",
    "plt.xticks(rotation=45)\n",
    "plt.yticks(range(top_directors.max() + 1))\n",
    "plt.show()"
   ]
  },
  {
   "cell_type": "code",
   "execution_count": 30,
   "id": "c0c14ec9",
   "metadata": {
    "execution": {
     "iopub.execute_input": "2023-10-19T19:07:47.864192Z",
     "iopub.status.busy": "2023-10-19T19:07:47.863043Z",
     "iopub.status.idle": "2023-10-19T19:07:48.259079Z",
     "shell.execute_reply": "2023-10-19T19:07:48.257667Z"
    },
    "papermill": {
     "duration": 0.41377,
     "end_time": "2023-10-19T19:07:48.261641",
     "exception": false,
     "start_time": "2023-10-19T19:07:47.847871",
     "status": "completed"
    },
    "tags": []
   },
   "outputs": [
    {
     "data": {
      "image/png": "[encoded data removed]",
      "text/plain": [
       "<Figure size 1440x432 with 1 Axes>"
      ]
     },
     "metadata": {
      "needs_background": "light"
     },
     "output_type": "display_data"
    }
   ],
   "source": [
    "director_counts = movie_df['director'].value_counts()\n",
    "\n",
    "top_directors = director_counts.head(10)\n",
    "\n",
    "plt.figure(figsize=(20, 6))\n",
    "top_directors.plot(kind='bar', color='darkred')\n",
    "plt.title('Director - Count of Movie')\n",
    "plt.xlabel('Director')\n",
    "plt.ylabel('Count of Movie')\n",
    "plt.xticks(rotation=45)\n",
    "plt.yticks(range(top_directors.max() + 1))\n",
    "plt.ylim(0, top_directors.max() + 1)\n",
    "\n",
    "plt.show()"
   ]
  },
  {
   "cell_type": "code",
   "execution_count": 31,
   "id": "16c465cd",
   "metadata": {
    "execution": {
     "iopub.execute_input": "2023-10-19T19:07:48.294321Z",
     "iopub.status.busy": "2023-10-19T19:07:48.293141Z",
     "iopub.status.idle": "2023-10-19T19:07:48.520600Z",
     "shell.execute_reply": "2023-10-19T19:07:48.518963Z"
    },
    "papermill": {
     "duration": 0.246758,
     "end_time": "2023-10-19T19:07:48.523552",
     "exception": false,
     "start_time": "2023-10-19T19:07:48.276794",
     "status": "completed"
    },
    "tags": []
   },
   "outputs": [],
   "source": [
    "from sklearn.feature_extraction.text import TfidfVectorizer"
   ]
  },
  {
   "cell_type": "code",
   "execution_count": 32,
   "id": "b1ccac16",
   "metadata": {
    "execution": {
     "iopub.execute_input": "2023-10-19T19:07:48.558236Z",
     "iopub.status.busy": "2023-10-19T19:07:48.557865Z",
     "iopub.status.idle": "2023-10-19T19:07:48.565125Z",
     "shell.execute_reply": "2023-10-19T19:07:48.563519Z"
    },
    "papermill": {
     "duration": 0.027878,
     "end_time": "2023-10-19T19:07:48.567887",
     "exception": false,
     "start_time": "2023-10-19T19:07:48.540009",
     "status": "completed"
    },
    "tags": []
   },
   "outputs": [
    {
     "data": {
      "text/plain": [
       "(3987, 14)"
      ]
     },
     "execution_count": 32,
     "metadata": {},
     "output_type": "execute_result"
    }
   ],
   "source": [
    "df.shape"
   ]
  },
  {
   "cell_type": "code",
   "execution_count": 33,
   "id": "0ddd8ac4",
   "metadata": {
    "execution": {
     "iopub.execute_input": "2023-10-19T19:07:48.602864Z",
     "iopub.status.busy": "2023-10-19T19:07:48.601372Z",
     "iopub.status.idle": "2023-10-19T19:07:48.799243Z",
     "shell.execute_reply": "2023-10-19T19:07:48.798087Z"
    },
    "papermill": {
     "duration": 0.217468,
     "end_time": "2023-10-19T19:07:48.801624",
     "exception": false,
     "start_time": "2023-10-19T19:07:48.584156",
     "status": "completed"
    },
    "tags": []
   },
   "outputs": [
    {
     "data": {
      "text/plain": [
       "(3987, 12475)"
      ]
     },
     "execution_count": 33,
     "metadata": {},
     "output_type": "execute_result"
    }
   ],
   "source": [
    "tfidf = TfidfVectorizer(stop_words='english')\n",
    "\n",
    "tfidf_matrix = tfidf.fit_transform(df['description'])\n",
    "\n",
    "tfidf_matrix.shape"
   ]
  },
  {
   "cell_type": "code",
   "execution_count": 34,
   "id": "d8e0ecd6",
   "metadata": {
    "execution": {
     "iopub.execute_input": "2023-10-19T19:07:48.833268Z",
     "iopub.status.busy": "2023-10-19T19:07:48.832922Z",
     "iopub.status.idle": "2023-10-19T19:07:49.475271Z",
     "shell.execute_reply": "2023-10-19T19:07:49.474343Z"
    },
    "papermill": {
     "duration": 0.661248,
     "end_time": "2023-10-19T19:07:49.477903",
     "exception": false,
     "start_time": "2023-10-19T19:07:48.816655",
     "status": "completed"
    },
    "tags": []
   },
   "outputs": [],
   "source": [
    "from sklearn.metrics.pairwise import linear_kernel\n",
    "\n",
    "cosine_sim = linear_kernel(tfidf_matrix, tfidf_matrix)"
   ]
  },
  {
   "cell_type": "code",
   "execution_count": 35,
   "id": "bd81dbf7",
   "metadata": {
    "execution": {
     "iopub.execute_input": "2023-10-19T19:07:49.512609Z",
     "iopub.status.busy": "2023-10-19T19:07:49.512199Z",
     "iopub.status.idle": "2023-10-19T19:07:49.518504Z",
     "shell.execute_reply": "2023-10-19T19:07:49.517225Z"
    },
    "papermill": {
     "duration": 0.025207,
     "end_time": "2023-10-19T19:07:49.520915",
     "exception": false,
     "start_time": "2023-10-19T19:07:49.495708",
     "status": "completed"
    },
    "tags": []
   },
   "outputs": [],
   "source": [
    "indices = pd.Series(df.index, index = df.title).drop_duplicates()"
   ]
  },
  {
   "cell_type": "code",
   "execution_count": 36,
   "id": "8d46b621",
   "metadata": {
    "execution": {
     "iopub.execute_input": "2023-10-19T19:07:49.552894Z",
     "iopub.status.busy": "2023-10-19T19:07:49.552482Z",
     "iopub.status.idle": "2023-10-19T19:07:49.561160Z",
     "shell.execute_reply": "2023-10-19T19:07:49.560198Z"
    },
    "papermill": {
     "duration": 0.026911,
     "end_time": "2023-10-19T19:07:49.563011",
     "exception": false,
     "start_time": "2023-10-19T19:07:49.536100",
     "status": "completed"
    },
    "tags": []
   },
   "outputs": [
    {
     "data": {
      "text/plain": [
       "title\n",
       "The Boy Who Harnessed the Wind                                          3\n",
       "LeapFrog: Sing-along, Read-along                                        4\n",
       "Mutiny of the Worker Bees                                               5\n",
       "John Carter                                                             6\n",
       "Kung Fu Yoga                                                            7\n",
       "                                                                     ... \n",
       "The Titan                                                            6217\n",
       "Ahista Ahista                                                        6218\n",
       "Spookley and the Christmas Kittens                                   6219\n",
       "The Bill Murray Stories: Life Lessons Learned From a Mythical Man    6220\n",
       "5Gang                                                                6221\n",
       "Length: 3987, dtype: int64"
      ]
     },
     "execution_count": 36,
     "metadata": {},
     "output_type": "execute_result"
    }
   ],
   "source": [
    "indices"
   ]
  },
  {
   "cell_type": "code",
   "execution_count": 37,
   "id": "d9792620",
   "metadata": {
    "execution": {
     "iopub.execute_input": "2023-10-19T19:07:49.600670Z",
     "iopub.status.busy": "2023-10-19T19:07:49.599793Z",
     "iopub.status.idle": "2023-10-19T19:07:49.608386Z",
     "shell.execute_reply": "2023-10-19T19:07:49.607162Z"
    },
    "papermill": {
     "duration": 0.030451,
     "end_time": "2023-10-19T19:07:49.611425",
     "exception": false,
     "start_time": "2023-10-19T19:07:49.580974",
     "status": "completed"
    },
    "tags": []
   },
   "outputs": [],
   "source": [
    "def get_recommendations(title, cosine_sim = cosine_sim):\n",
    "    idx = indices[title]\n",
    "    \n",
    "    sim_scores = list(enumerate(cosine_sim[idx]))\n",
    "    \n",
    "    sim_scores = sorted(sim_scores, key = lambda x : x[1], reverse = True)\n",
    "    \n",
    "    sim_scores = sim_scores[1:11]\n",
    "    \n",
    "    movie_indices = [i[0] for i in sim_scores]\n",
    "    \n",
    "    return df.title.iloc[movie_indices]"
   ]
  },
  {
   "cell_type": "code",
   "execution_count": 38,
   "id": "b58d32ba",
   "metadata": {
    "execution": {
     "iopub.execute_input": "2023-10-19T19:07:49.647729Z",
     "iopub.status.busy": "2023-10-19T19:07:49.647271Z",
     "iopub.status.idle": "2023-10-19T19:07:49.658757Z",
     "shell.execute_reply": "2023-10-19T19:07:49.657657Z"
    },
    "papermill": {
     "duration": 0.032926,
     "end_time": "2023-10-19T19:07:49.660701",
     "exception": false,
     "start_time": "2023-10-19T19:07:49.627775",
     "status": "completed"
    },
    "tags": []
   },
   "outputs": [
    {
     "data": {
      "text/plain": [
       "1464    LEGO Marvel Super Heroes: Avengers Reassembled!\n",
       "672                                     Cemara's Family\n",
       "65                                           Sinister 2\n",
       "732                                     Bulbul Can Sing\n",
       "4579                                 Life of An Outcast\n",
       "5346                                        The Lodgers\n",
       "3288                                              Siren\n",
       "5916                                             Kisaan\n",
       "4141                                         Our Lovers\n",
       "3513                               ​​Kuch Bheege Alfaaz\n",
       "Name: title, dtype: object"
      ]
     },
     "execution_count": 38,
     "metadata": {},
     "output_type": "execute_result"
    }
   ],
   "source": [
    "get_recommendations('The Conjuring')"
   ]
  },
  {
   "cell_type": "code",
   "execution_count": 39,
   "id": "858d685c",
   "metadata": {
    "execution": {
     "iopub.execute_input": "2023-10-19T19:07:49.692504Z",
     "iopub.status.busy": "2023-10-19T19:07:49.692142Z",
     "iopub.status.idle": "2023-10-19T19:07:49.714522Z",
     "shell.execute_reply": "2023-10-19T19:07:49.713372Z"
    },
    "papermill": {
     "duration": 0.041042,
     "end_time": "2023-10-19T19:07:49.716769",
     "exception": false,
     "start_time": "2023-10-19T19:07:49.675727",
     "status": "completed"
    },
    "tags": []
   },
   "outputs": [
    {
     "data": {
      "text/html": [
       "<div>\n",
       "<style scoped>\n",
       "    .dataframe tbody tr th:only-of-type {\n",
       "        vertical-align: middle;\n",
       "    }\n",
       "\n",
       "    .dataframe tbody tr th {\n",
       "        vertical-align: top;\n",
       "    }\n",
       "\n",
       "    .dataframe thead th {\n",
       "        text-align: right;\n",
       "    }\n",
       "</style>\n",
       "<table border=\"1\" class=\"dataframe\">\n",
       "  <thead>\n",
       "    <tr style=\"text-align: right;\">\n",
       "      <th></th>\n",
       "      <th>Unnamed: 0</th>\n",
       "      <th>show_id</th>\n",
       "      <th>type</th>\n",
       "      <th>title</th>\n",
       "      <th>director</th>\n",
       "      <th>cast</th>\n",
       "      <th>country</th>\n",
       "      <th>date_added</th>\n",
       "      <th>release_year</th>\n",
       "      <th>duration</th>\n",
       "      <th>description</th>\n",
       "      <th>genre</th>\n",
       "      <th>added_year</th>\n",
       "      <th>added_month</th>\n",
       "    </tr>\n",
       "  </thead>\n",
       "  <tbody>\n",
       "    <tr>\n",
       "      <th>728</th>\n",
       "      <td>6242</td>\n",
       "      <td>s6243</td>\n",
       "      <td>Movie</td>\n",
       "      <td>The Conjuring</td>\n",
       "      <td>James Wan</td>\n",
       "      <td>Vera Farmiga, Patrick Wilson, Lili Taylor, Ron...</td>\n",
       "      <td>United States</td>\n",
       "      <td>January 8, 2018</td>\n",
       "      <td>2013</td>\n",
       "      <td>112</td>\n",
       "      <td>Based on true events, this spine-chiller tells...</td>\n",
       "      <td>Horror Movies</td>\n",
       "      <td>2018</td>\n",
       "      <td>January</td>\n",
       "    </tr>\n",
       "    <tr>\n",
       "      <th>4802</th>\n",
       "      <td>1482</td>\n",
       "      <td>s1483</td>\n",
       "      <td>Movie</td>\n",
       "      <td>Conjuring Spirit</td>\n",
       "      <td>Van M. Pham</td>\n",
       "      <td>Phuong Mai, Quang Su, Hoang Phuc Nguyen, Chi P...</td>\n",
       "      <td>Vietnam</td>\n",
       "      <td>August 28, 2018</td>\n",
       "      <td>2014</td>\n",
       "      <td>112</td>\n",
       "      <td>In the wake of her husband's betrayal, a novel...</td>\n",
       "      <td>Horror Movies</td>\n",
       "      <td>2018</td>\n",
       "      <td>August</td>\n",
       "    </tr>\n",
       "  </tbody>\n",
       "</table>\n",
       "</div>"
      ],
      "text/plain": [
       "      Unnamed: 0 show_id   type             title     director  \\\n",
       "728         6242   s6243  Movie     The Conjuring    James Wan   \n",
       "4802        1482   s1483  Movie  Conjuring Spirit  Van M. Pham   \n",
       "\n",
       "                                                   cast        country  \\\n",
       "728   Vera Farmiga, Patrick Wilson, Lili Taylor, Ron...  United States   \n",
       "4802  Phuong Mai, Quang Su, Hoang Phuc Nguyen, Chi P...        Vietnam   \n",
       "\n",
       "           date_added  release_year  duration  \\\n",
       "728   January 8, 2018          2013       112   \n",
       "4802  August 28, 2018          2014       112   \n",
       "\n",
       "                                            description          genre  \\\n",
       "728   Based on true events, this spine-chiller tells...  Horror Movies   \n",
       "4802  In the wake of her husband's betrayal, a novel...  Horror Movies   \n",
       "\n",
       "      added_year added_month  \n",
       "728         2018     January  \n",
       "4802        2018      August  "
      ]
     },
     "execution_count": 39,
     "metadata": {},
     "output_type": "execute_result"
    }
   ],
   "source": [
    "df[df['title'].str.contains('conjuring', case = False)]"
   ]
  },
  {
   "cell_type": "code",
   "execution_count": 40,
   "id": "fbb9e5b2",
   "metadata": {
    "execution": {
     "iopub.execute_input": "2023-10-19T19:07:49.760715Z",
     "iopub.status.busy": "2023-10-19T19:07:49.759819Z",
     "iopub.status.idle": "2023-10-19T19:07:49.765945Z",
     "shell.execute_reply": "2023-10-19T19:07:49.764913Z"
    },
    "papermill": {
     "duration": 0.032552,
     "end_time": "2023-10-19T19:07:49.768047",
     "exception": false,
     "start_time": "2023-10-19T19:07:49.735495",
     "status": "completed"
    },
    "tags": []
   },
   "outputs": [],
   "source": [
    "def clean_data(x):\n",
    "    return str.lower(x.replace(\" \", \"\"))"
   ]
  },
  {
   "cell_type": "code",
   "execution_count": 41,
   "id": "2f03e749",
   "metadata": {
    "execution": {
     "iopub.execute_input": "2023-10-19T19:07:49.807007Z",
     "iopub.status.busy": "2023-10-19T19:07:49.806388Z",
     "iopub.status.idle": "2023-10-19T19:07:49.811649Z",
     "shell.execute_reply": "2023-10-19T19:07:49.810874Z"
    },
    "papermill": {
     "duration": 0.026613,
     "end_time": "2023-10-19T19:07:49.814373",
     "exception": false,
     "start_time": "2023-10-19T19:07:49.787760",
     "status": "completed"
    },
    "tags": []
   },
   "outputs": [
    {
     "data": {
      "text/plain": [
       "Index(['Unnamed: 0', 'show_id', 'type', 'title', 'director', 'cast', 'country',\n",
       "       'date_added', 'release_year', 'duration', 'description', 'genre',\n",
       "       'added_year', 'added_month'],\n",
       "      dtype='object')"
      ]
     },
     "execution_count": 41,
     "metadata": {},
     "output_type": "execute_result"
    }
   ],
   "source": [
    "df.columns"
   ]
  },
  {
   "cell_type": "code",
   "execution_count": 42,
   "id": "abf057b1",
   "metadata": {
    "execution": {
     "iopub.execute_input": "2023-10-19T19:07:49.861745Z",
     "iopub.status.busy": "2023-10-19T19:07:49.861000Z",
     "iopub.status.idle": "2023-10-19T19:07:49.868023Z",
     "shell.execute_reply": "2023-10-19T19:07:49.866867Z"
    },
    "papermill": {
     "duration": 0.031916,
     "end_time": "2023-10-19T19:07:49.871247",
     "exception": false,
     "start_time": "2023-10-19T19:07:49.839331",
     "status": "completed"
    },
    "tags": []
   },
   "outputs": [],
   "source": [
    "features = ['title','director', 'cast', 'genre', 'description']\n",
    "df_features = df[features]"
   ]
  },
  {
   "cell_type": "code",
   "execution_count": 43,
   "id": "53da3157",
   "metadata": {
    "execution": {
     "iopub.execute_input": "2023-10-19T19:07:49.915750Z",
     "iopub.status.busy": "2023-10-19T19:07:49.915103Z",
     "iopub.status.idle": "2023-10-19T19:07:49.922177Z",
     "shell.execute_reply": "2023-10-19T19:07:49.921232Z"
    },
    "papermill": {
     "duration": 0.029403,
     "end_time": "2023-10-19T19:07:49.924662",
     "exception": false,
     "start_time": "2023-10-19T19:07:49.895259",
     "status": "completed"
    },
    "tags": []
   },
   "outputs": [],
   "source": [
    "df_features = df[features].copy()  "
   ]
  },
  {
   "cell_type": "code",
   "execution_count": 44,
   "id": "faab2779",
   "metadata": {
    "execution": {
     "iopub.execute_input": "2023-10-19T19:07:49.959837Z",
     "iopub.status.busy": "2023-10-19T19:07:49.959450Z",
     "iopub.status.idle": "2023-10-19T19:07:50.007542Z",
     "shell.execute_reply": "2023-10-19T19:07:50.006148Z"
    },
    "papermill": {
     "duration": 0.069033,
     "end_time": "2023-10-19T19:07:50.010172",
     "exception": false,
     "start_time": "2023-10-19T19:07:49.941139",
     "status": "completed"
    },
    "tags": []
   },
   "outputs": [
    {
     "data": {
      "text/html": [
       "<div>\n",
       "<style scoped>\n",
       "    .dataframe tbody tr th:only-of-type {\n",
       "        vertical-align: middle;\n",
       "    }\n",
       "\n",
       "    .dataframe tbody tr th {\n",
       "        vertical-align: top;\n",
       "    }\n",
       "\n",
       "    .dataframe thead th {\n",
       "        text-align: right;\n",
       "    }\n",
       "</style>\n",
       "<table border=\"1\" class=\"dataframe\">\n",
       "  <thead>\n",
       "    <tr style=\"text-align: right;\">\n",
       "      <th></th>\n",
       "      <th>title</th>\n",
       "      <th>director</th>\n",
       "      <th>cast</th>\n",
       "      <th>genre</th>\n",
       "      <th>description</th>\n",
       "    </tr>\n",
       "  </thead>\n",
       "  <tbody>\n",
       "    <tr>\n",
       "      <th>3</th>\n",
       "      <td>theboywhoharnessedthewind</td>\n",
       "      <td>chiwetelejiofor</td>\n",
       "      <td>maxwellsimba,chiwetelejiofor,aïssamaïga,lilyba...</td>\n",
       "      <td>children</td>\n",
       "      <td>inspiredbyasciencebook,13-year-oldwilliamkamkw...</td>\n",
       "    </tr>\n",
       "    <tr>\n",
       "      <th>4</th>\n",
       "      <td>leapfrog:sing-along,read-along</td>\n",
       "      <td>ronmyrick</td>\n",
       "      <td>juliemaddalena,cindyrobinson</td>\n",
       "      <td>children</td>\n",
       "      <td>usingrhythmandrhymes,afunkybandandacolorfulcas...</td>\n",
       "    </tr>\n",
       "    <tr>\n",
       "      <th>5</th>\n",
       "      <td>mutinyoftheworkerbees</td>\n",
       "      <td>carlosmorett</td>\n",
       "      <td>gustavoegelhaaf,alejandrosuárez,bárbaraderegil...</td>\n",
       "      <td>comedies</td>\n",
       "      <td>whenomar'sgrandfatherforceshimtogetajobatatech...</td>\n",
       "    </tr>\n",
       "    <tr>\n",
       "      <th>6</th>\n",
       "      <td>johncarter</td>\n",
       "      <td>andrewstanton</td>\n",
       "      <td>taylorkitsch,lynncollins,samanthamorton,willem...</td>\n",
       "      <td>action</td>\n",
       "      <td>oneminute,civilwarveteranjohncarterisevadingap...</td>\n",
       "    </tr>\n",
       "    <tr>\n",
       "      <th>7</th>\n",
       "      <td>kungfuyoga</td>\n",
       "      <td>stanleytong</td>\n",
       "      <td>jackiechan,dishapatani,amyradastur,sonusood,aa...</td>\n",
       "      <td>action</td>\n",
       "      <td>twomismatchedarchaeologistsbattleateamofviciou...</td>\n",
       "    </tr>\n",
       "  </tbody>\n",
       "</table>\n",
       "</div>"
      ],
      "text/plain": [
       "                            title         director  \\\n",
       "3       theboywhoharnessedthewind  chiwetelejiofor   \n",
       "4  leapfrog:sing-along,read-along        ronmyrick   \n",
       "5           mutinyoftheworkerbees     carlosmorett   \n",
       "6                      johncarter    andrewstanton   \n",
       "7                      kungfuyoga      stanleytong   \n",
       "\n",
       "                                                cast     genre  \\\n",
       "3  maxwellsimba,chiwetelejiofor,aïssamaïga,lilyba...  children   \n",
       "4                       juliemaddalena,cindyrobinson  children   \n",
       "5  gustavoegelhaaf,alejandrosuárez,bárbaraderegil...  comedies   \n",
       "6  taylorkitsch,lynncollins,samanthamorton,willem...    action   \n",
       "7  jackiechan,dishapatani,amyradastur,sonusood,aa...    action   \n",
       "\n",
       "                                         description  \n",
       "3  inspiredbyasciencebook,13-year-oldwilliamkamkw...  \n",
       "4  usingrhythmandrhymes,afunkybandandacolorfulcas...  \n",
       "5  whenomar'sgrandfatherforceshimtogetajobatatech...  \n",
       "6  oneminute,civilwarveteranjohncarterisevadingap...  \n",
       "7  twomismatchedarchaeologistsbattleateamofviciou...  "
      ]
     },
     "execution_count": 44,
     "metadata": {},
     "output_type": "execute_result"
    }
   ],
   "source": [
    "for feature in features:\n",
    "    df_features[feature] = df_features[feature].apply(clean_data)\n",
    "    \n",
    "df_features.head()"
   ]
  },
  {
   "cell_type": "code",
   "execution_count": 46,
   "id": "ca225cb2",
   "metadata": {
    "execution": {
     "iopub.execute_input": "2023-10-19T19:07:50.049111Z",
     "iopub.status.busy": "2023-10-19T19:07:50.048410Z",
     "iopub.status.idle": "2023-10-19T19:07:50.055223Z",
     "shell.execute_reply": "2023-10-19T19:07:50.054272Z"
    },
    "papermill": {
     "duration": 0.027944,
     "end_time": "2023-10-19T19:07:50.057710",
     "exception": false,
     "start_time": "2023-10-19T19:07:50.029766",
     "status": "completed"
    },
    "tags": []
   },
   "outputs": [],
   "source": [
    "def create_soup(x):\n",
    "    return x['title']+ ' ' + x['director'] + ' ' + x['cast'] + ' ' + x['genre'] + ' '+ x['description']"
   ]
  },
  {
   "cell_type": "code",
   "execution_count": 47,
   "id": "b6aa938b",
   "metadata": {
    "execution": {
     "iopub.execute_input": "2023-10-19T19:07:50.107540Z",
     "iopub.status.busy": "2023-10-19T19:07:50.106794Z",
     "iopub.status.idle": "2023-10-19T19:07:50.215542Z",
     "shell.execute_reply": "2023-10-19T19:07:50.214315Z"
    },
    "papermill": {
     "duration": 0.130587,
     "end_time": "2023-10-19T19:07:50.217943",
     "exception": false,
     "start_time": "2023-10-19T19:07:50.087356",
     "status": "completed"
    },
    "tags": []
   },
   "outputs": [
    {
     "data": {
      "text/html": [
       "<div>\n",
       "<style scoped>\n",
       "    .dataframe tbody tr th:only-of-type {\n",
       "        vertical-align: middle;\n",
       "    }\n",
       "\n",
       "    .dataframe tbody tr th {\n",
       "        vertical-align: top;\n",
       "    }\n",
       "\n",
       "    .dataframe thead th {\n",
       "        text-align: right;\n",
       "    }\n",
       "</style>\n",
       "<table border=\"1\" class=\"dataframe\">\n",
       "  <thead>\n",
       "    <tr style=\"text-align: right;\">\n",
       "      <th></th>\n",
       "      <th>title</th>\n",
       "      <th>director</th>\n",
       "      <th>cast</th>\n",
       "      <th>genre</th>\n",
       "      <th>description</th>\n",
       "      <th>soup</th>\n",
       "    </tr>\n",
       "  </thead>\n",
       "  <tbody>\n",
       "    <tr>\n",
       "      <th>3</th>\n",
       "      <td>theboywhoharnessedthewind</td>\n",
       "      <td>chiwetelejiofor</td>\n",
       "      <td>maxwellsimba,chiwetelejiofor,aïssamaïga,lilyba...</td>\n",
       "      <td>children</td>\n",
       "      <td>inspiredbyasciencebook,13-year-oldwilliamkamkw...</td>\n",
       "      <td>theboywhoharnessedthewind chiwetelejiofor maxw...</td>\n",
       "    </tr>\n",
       "    <tr>\n",
       "      <th>4</th>\n",
       "      <td>leapfrog:sing-along,read-along</td>\n",
       "      <td>ronmyrick</td>\n",
       "      <td>juliemaddalena,cindyrobinson</td>\n",
       "      <td>children</td>\n",
       "      <td>usingrhythmandrhymes,afunkybandandacolorfulcas...</td>\n",
       "      <td>leapfrog:sing-along,read-along ronmyrick julie...</td>\n",
       "    </tr>\n",
       "    <tr>\n",
       "      <th>5</th>\n",
       "      <td>mutinyoftheworkerbees</td>\n",
       "      <td>carlosmorett</td>\n",
       "      <td>gustavoegelhaaf,alejandrosuárez,bárbaraderegil...</td>\n",
       "      <td>comedies</td>\n",
       "      <td>whenomar'sgrandfatherforceshimtogetajobatatech...</td>\n",
       "      <td>mutinyoftheworkerbees carlosmorett gustavoegel...</td>\n",
       "    </tr>\n",
       "    <tr>\n",
       "      <th>6</th>\n",
       "      <td>johncarter</td>\n",
       "      <td>andrewstanton</td>\n",
       "      <td>taylorkitsch,lynncollins,samanthamorton,willem...</td>\n",
       "      <td>action</td>\n",
       "      <td>oneminute,civilwarveteranjohncarterisevadingap...</td>\n",
       "      <td>johncarter andrewstanton taylorkitsch,lynncoll...</td>\n",
       "    </tr>\n",
       "    <tr>\n",
       "      <th>7</th>\n",
       "      <td>kungfuyoga</td>\n",
       "      <td>stanleytong</td>\n",
       "      <td>jackiechan,dishapatani,amyradastur,sonusood,aa...</td>\n",
       "      <td>action</td>\n",
       "      <td>twomismatchedarchaeologistsbattleateamofviciou...</td>\n",
       "      <td>kungfuyoga stanleytong jackiechan,dishapatani,...</td>\n",
       "    </tr>\n",
       "  </tbody>\n",
       "</table>\n",
       "</div>"
      ],
      "text/plain": [
       "                            title         director  \\\n",
       "3       theboywhoharnessedthewind  chiwetelejiofor   \n",
       "4  leapfrog:sing-along,read-along        ronmyrick   \n",
       "5           mutinyoftheworkerbees     carlosmorett   \n",
       "6                      johncarter    andrewstanton   \n",
       "7                      kungfuyoga      stanleytong   \n",
       "\n",
       "                                                cast     genre  \\\n",
       "3  maxwellsimba,chiwetelejiofor,aïssamaïga,lilyba...  children   \n",
       "4                       juliemaddalena,cindyrobinson  children   \n",
       "5  gustavoegelhaaf,alejandrosuárez,bárbaraderegil...  comedies   \n",
       "6  taylorkitsch,lynncollins,samanthamorton,willem...    action   \n",
       "7  jackiechan,dishapatani,amyradastur,sonusood,aa...    action   \n",
       "\n",
       "                                         description  \\\n",
       "3  inspiredbyasciencebook,13-year-oldwilliamkamkw...   \n",
       "4  usingrhythmandrhymes,afunkybandandacolorfulcas...   \n",
       "5  whenomar'sgrandfatherforceshimtogetajobatatech...   \n",
       "6  oneminute,civilwarveteranjohncarterisevadingap...   \n",
       "7  twomismatchedarchaeologistsbattleateamofviciou...   \n",
       "\n",
       "                                                soup  \n",
       "3  theboywhoharnessedthewind chiwetelejiofor maxw...  \n",
       "4  leapfrog:sing-along,read-along ronmyrick julie...  \n",
       "5  mutinyoftheworkerbees carlosmorett gustavoegel...  \n",
       "6  johncarter andrewstanton taylorkitsch,lynncoll...  \n",
       "7  kungfuyoga stanleytong jackiechan,dishapatani,...  "
      ]
     },
     "execution_count": 47,
     "metadata": {},
     "output_type": "execute_result"
    }
   ],
   "source": [
    "df_features['soup'] = df_features.apply(create_soup, axis = 1); df_features.head()"
   ]
  },
  {
   "cell_type": "code",
   "execution_count": 48,
   "id": "e87cd9bb",
   "metadata": {
    "execution": {
     "iopub.execute_input": "2023-10-19T19:07:50.251961Z",
     "iopub.status.busy": "2023-10-19T19:07:50.251322Z",
     "iopub.status.idle": "2023-10-19T19:07:51.285450Z",
     "shell.execute_reply": "2023-10-19T19:07:51.284075Z"
    },
    "papermill": {
     "duration": 1.054321,
     "end_time": "2023-10-19T19:07:51.288179",
     "exception": false,
     "start_time": "2023-10-19T19:07:50.233858",
     "status": "completed"
    },
    "tags": []
   },
   "outputs": [],
   "source": [
    "from sklearn.feature_extraction.text import CountVectorizer\n",
    "from sklearn.metrics.pairwise import cosine_similarity\n",
    "\n",
    "count = CountVectorizer(stop_words='english')\n",
    "count_matrix = count.fit_transform(df_features['soup'])\n",
    "\n",
    "cosine_sim2 = cosine_similarity(count_matrix, count_matrix)"
   ]
  },
  {
   "cell_type": "code",
   "execution_count": 49,
   "id": "72a7c480",
   "metadata": {
    "execution": {
     "iopub.execute_input": "2023-10-19T19:07:51.322254Z",
     "iopub.status.busy": "2023-10-19T19:07:51.321882Z",
     "iopub.status.idle": "2023-10-19T19:07:51.331069Z",
     "shell.execute_reply": "2023-10-19T19:07:51.329605Z"
    },
    "papermill": {
     "duration": 0.028591,
     "end_time": "2023-10-19T19:07:51.333435",
     "exception": false,
     "start_time": "2023-10-19T19:07:51.304844",
     "status": "completed"
    },
    "tags": []
   },
   "outputs": [],
   "source": [
    "df_features = df_features.reset_index()\n",
    "indices = pd.Series(df_features.index, index = df_features['title'])"
   ]
  },
  {
   "cell_type": "code",
   "execution_count": 50,
   "id": "feda16a7",
   "metadata": {
    "execution": {
     "iopub.execute_input": "2023-10-19T19:07:51.368106Z",
     "iopub.status.busy": "2023-10-19T19:07:51.367389Z",
     "iopub.status.idle": "2023-10-19T19:07:51.374147Z",
     "shell.execute_reply": "2023-10-19T19:07:51.373198Z"
    },
    "papermill": {
     "duration": 0.026482,
     "end_time": "2023-10-19T19:07:51.376218",
     "exception": false,
     "start_time": "2023-10-19T19:07:51.349736",
     "status": "completed"
    },
    "tags": []
   },
   "outputs": [],
   "source": [
    "def get_recommendations2(title, cosine_sim = cosine_sim):\n",
    "    title = title.replace(' ', '').lower()\n",
    "    idx = indices[title]\n",
    "    \n",
    "    sim_scores = list(enumerate(cosine_sim[idx]))\n",
    "    \n",
    "    sim_scores = sorted(sim_scores, key = lambda x: x[1], reverse= True)\n",
    "    \n",
    "    sim_scores = sim_scores[1:11]\n",
    "    \n",
    "    movie_indices = [i[0] for i in sim_scores]\n",
    "    \n",
    "    return df_features['title'].str.capitalize().iloc[movie_indices]"
   ]
  },
  {
   "cell_type": "code",
   "execution_count": 51,
   "id": "7c8a353c",
   "metadata": {
    "execution": {
     "iopub.execute_input": "2023-10-19T19:07:51.416311Z",
     "iopub.status.busy": "2023-10-19T19:07:51.415363Z",
     "iopub.status.idle": "2023-10-19T19:07:51.435947Z",
     "shell.execute_reply": "2023-10-19T19:07:51.434641Z"
    },
    "papermill": {
     "duration": 0.046676,
     "end_time": "2023-10-19T19:07:51.439426",
     "exception": false,
     "start_time": "2023-10-19T19:07:51.392750",
     "status": "completed"
    },
    "tags": []
   },
   "outputs": [
    {
     "data": {
      "text/plain": [
       "103                   Insidious\n",
       "340              Inthetallgrass\n",
       "2390    Hauntingonfraternityrow\n",
       "54                  Backcountry\n",
       "1560                    Nangnak\n",
       "1839                     Creep2\n",
       "3837                 Thebinding\n",
       "204                 Theheretics\n",
       "254             Thedayofthelord\n",
       "1530                       Hush\n",
       "Name: title, dtype: object"
      ]
     },
     "execution_count": 51,
     "metadata": {},
     "output_type": "execute_result"
    }
   ],
   "source": [
    "get_recommendations2('The Conjuring', cosine_sim2)"
   ]
  },
  {
   "cell_type": "code",
   "execution_count": null,
   "id": "f046efdc",
   "metadata": {
    "papermill": {
     "duration": 0.022268,
     "end_time": "2023-10-19T19:07:51.489243",
     "exception": false,
     "start_time": "2023-10-19T19:07:51.466975",
     "status": "completed"
    },
    "tags": []
   },
   "outputs": [],
   "source": []
  }
 ],
 "metadata": {
  "kernelspec": {
   "display_name": "Python 3 (ipykernel)",
   "language": "python",
   "name": "python3"
  },
  "language_info": {
   "codemirror_mode": {
    "name": "ipython",
    "version": 3
   },
   "file_extension": ".py",
   "mimetype": "text/x-python",
   "name": "python",
   "nbconvert_exporter": "python",
   "pygments_lexer": "ipython3",
   "version": "3.10.2"
  },
  "papermill": {
   "default_parameters": {},
   "duration": 11.490438,
   "end_time": "2023-10-19T19:07:52.229904",
   "environment_variables": {},
   "exception": null,
   "input_path": "__notebook__.ipynb",
   "output_path": "__notebook__.ipynb",
   "parameters": {},
   "start_time": "2023-10-19T19:07:40.739466",
   "version": "2.4.0"
  }
 },
 "nbformat": 4,
 "nbformat_minor": 5
}
