{
 "cells": [
  {
   "cell_type": "code",
   "execution_count": 1,
   "id": "cac48f2d",
   "metadata": {
    "execution": {
     "iopub.execute_input": "2023-07-16T19:47:49.016499Z",
     "iopub.status.busy": "2023-07-16T19:47:49.016002Z",
     "iopub.status.idle": "2023-07-16T19:47:49.021733Z",
     "shell.execute_reply": "2023-07-16T19:47:49.020431Z"
    },
    "papermill": {
     "duration": 0.029704,
     "end_time": "2023-07-16T19:47:49.024285",
     "exception": false,
     "start_time": "2023-07-16T19:47:48.994581",
     "status": "completed"
    },
    "tags": []
   },
   "outputs": [],
   "source": [
    "import pandas as pd # for data manipulation\n",
    "import numpy as np # for linear algebra\n",
    "import matplotlib.pyplot as plt # for plotting"
   ]
  },
  {
   "cell_type": "markdown",
   "id": "4f041cd1",
   "metadata": {
    "papermill": {
     "duration": 0.018209,
     "end_time": "2023-07-16T19:47:49.061272",
     "exception": false,
     "start_time": "2023-07-16T19:47:49.043063",
     "status": "completed"
    },
    "tags": []
   },
   "source": [
    "# <p style= \"background-color:#428da6;font-family:Georgia;padding: 6px;color:#FFFFFF;font-size:110%;text-align:center;border-radius:30px 60px;overflow:hidden;\">Loading Dataset</p>"
   ]
  },
  {
   "cell_type": "code",
   "execution_count": 2,
   "id": "f181f40e",
   "metadata": {
    "execution": {
     "iopub.execute_input": "2023-07-16T19:47:49.101073Z",
     "iopub.status.busy": "2023-07-16T19:47:49.100293Z",
     "iopub.status.idle": "2023-07-16T19:47:49.105624Z",
     "shell.execute_reply": "2023-07-16T19:47:49.104637Z"
    },
    "papermill": {
     "duration": 0.028214,
     "end_time": "2023-07-16T19:47:49.108165",
     "exception": false,
     "start_time": "2023-07-16T19:47:49.079951",
     "status": "completed"
    },
    "tags": []
   },
   "outputs": [],
   "source": [
    "# Getting path of dataset\n",
    "dataset_path = 'train.csv'"
   ]
  },
  {
   "cell_type": "code",
   "execution_count": 3,
   "id": "f8a0975d",
   "metadata": {
    "execution": {
     "iopub.execute_input": "2023-07-16T19:47:49.147910Z",
     "iopub.status.busy": "2023-07-16T19:47:49.147175Z",
     "iopub.status.idle": "2023-07-16T19:47:49.366372Z",
     "shell.execute_reply": "2023-07-16T19:47:49.365020Z"
    },
    "papermill": {
     "duration": 0.242427,
     "end_time": "2023-07-16T19:47:49.369146",
     "exception": false,
     "start_time": "2023-07-16T19:47:49.126719",
     "status": "completed"
    },
    "tags": []
   },
   "outputs": [
    {
     "data": {
      "text/html": [
       "<div>\n",
       "<style scoped>\n",
       "    .dataframe tbody tr th:only-of-type {\n",
       "        vertical-align: middle;\n",
       "    }\n",
       "\n",
       "    .dataframe tbody tr th {\n",
       "        vertical-align: top;\n",
       "    }\n",
       "\n",
       "    .dataframe thead th {\n",
       "        text-align: right;\n",
       "    }\n",
       "</style>\n",
       "<table border=\"1\" class=\"dataframe\">\n",
       "  <thead>\n",
       "    <tr style=\"text-align: right;\">\n",
       "      <th></th>\n",
       "      <th>Unnamed: 0</th>\n",
       "      <th>show_id</th>\n",
       "      <th>type</th>\n",
       "      <th>title</th>\n",
       "      <th>director</th>\n",
       "      <th>cast</th>\n",
       "      <th>country</th>\n",
       "      <th>date_added</th>\n",
       "      <th>release_year</th>\n",
       "      <th>duration</th>\n",
       "      <th>description</th>\n",
       "      <th>genre</th>\n",
       "    </tr>\n",
       "  </thead>\n",
       "  <tbody>\n",
       "    <tr>\n",
       "      <th>0</th>\n",
       "      <td>6128</td>\n",
       "      <td>s6129</td>\n",
       "      <td>TV Show</td>\n",
       "      <td>The Big Family Cooking Showdown</td>\n",
       "      <td>NaN</td>\n",
       "      <td>Zoe Ball, Nadiya Hussain, Giorgio Locatelli, R...</td>\n",
       "      <td>United Kingdom</td>\n",
       "      <td>February 22, 2019</td>\n",
       "      <td>2018</td>\n",
       "      <td>2</td>\n",
       "      <td>In this unscripted series, families passionate...</td>\n",
       "      <td>British TV</td>\n",
       "    </tr>\n",
       "    <tr>\n",
       "      <th>1</th>\n",
       "      <td>7018</td>\n",
       "      <td>s7019</td>\n",
       "      <td>TV Show</td>\n",
       "      <td>The World's Most Extraordinary Homes</td>\n",
       "      <td>NaN</td>\n",
       "      <td>Piers Taylor, Caroline Quentin</td>\n",
       "      <td>United Kingdom</td>\n",
       "      <td>January 18, 2019</td>\n",
       "      <td>2019</td>\n",
       "      <td>3</td>\n",
       "      <td>Award-winning architect Piers Taylor and actre...</td>\n",
       "      <td>British TV</td>\n",
       "    </tr>\n",
       "    <tr>\n",
       "      <th>2</th>\n",
       "      <td>4657</td>\n",
       "      <td>s4658</td>\n",
       "      <td>TV Show</td>\n",
       "      <td>One-Punch Man</td>\n",
       "      <td>NaN</td>\n",
       "      <td>Makoto Furukawa, Kaito Ishikawa, Yuki Kaji, Ao...</td>\n",
       "      <td>Japan</td>\n",
       "      <td>March 20, 2017</td>\n",
       "      <td>2015</td>\n",
       "      <td>1</td>\n",
       "      <td>The most powerful superhero in the world can k...</td>\n",
       "      <td>Anime Series</td>\n",
       "    </tr>\n",
       "    <tr>\n",
       "      <th>3</th>\n",
       "      <td>6167</td>\n",
       "      <td>s6168</td>\n",
       "      <td>Movie</td>\n",
       "      <td>The Boy Who Harnessed the Wind</td>\n",
       "      <td>Chiwetel Ejiofor</td>\n",
       "      <td>Maxwell Simba, Chiwetel Ejiofor, Aïssa Maïga, ...</td>\n",
       "      <td>United Kingdom</td>\n",
       "      <td>March 1, 2019</td>\n",
       "      <td>2019</td>\n",
       "      <td>114</td>\n",
       "      <td>Inspired by a science book, 13-year-old Willia...</td>\n",
       "      <td>Children</td>\n",
       "    </tr>\n",
       "    <tr>\n",
       "      <th>4</th>\n",
       "      <td>3562</td>\n",
       "      <td>s3563</td>\n",
       "      <td>Movie</td>\n",
       "      <td>LeapFrog: Sing-along, Read-along</td>\n",
       "      <td>Ron Myrick</td>\n",
       "      <td>Julie Maddalena, Cindy Robinson</td>\n",
       "      <td>NaN</td>\n",
       "      <td>April 15, 2020</td>\n",
       "      <td>2011</td>\n",
       "      <td>32</td>\n",
       "      <td>Using rhythm and rhymes, a funky band and a co...</td>\n",
       "      <td>Children</td>\n",
       "    </tr>\n",
       "  </tbody>\n",
       "</table>\n",
       "</div>"
      ],
      "text/plain": [
       "   Unnamed: 0 show_id     type                                 title  \\\n",
       "0        6128   s6129  TV Show       The Big Family Cooking Showdown   \n",
       "1        7018   s7019  TV Show  The World's Most Extraordinary Homes   \n",
       "2        4657   s4658  TV Show                         One-Punch Man   \n",
       "3        6167   s6168    Movie        The Boy Who Harnessed the Wind   \n",
       "4        3562   s3563    Movie      LeapFrog: Sing-along, Read-along   \n",
       "\n",
       "           director                                               cast  \\\n",
       "0               NaN  Zoe Ball, Nadiya Hussain, Giorgio Locatelli, R...   \n",
       "1               NaN                     Piers Taylor, Caroline Quentin   \n",
       "2               NaN  Makoto Furukawa, Kaito Ishikawa, Yuki Kaji, Ao...   \n",
       "3  Chiwetel Ejiofor  Maxwell Simba, Chiwetel Ejiofor, Aïssa Maïga, ...   \n",
       "4        Ron Myrick                    Julie Maddalena, Cindy Robinson   \n",
       "\n",
       "          country         date_added  release_year  duration  \\\n",
       "0  United Kingdom  February 22, 2019          2018         2   \n",
       "1  United Kingdom   January 18, 2019          2019         3   \n",
       "2           Japan     March 20, 2017          2015         1   \n",
       "3  United Kingdom      March 1, 2019          2019       114   \n",
       "4             NaN     April 15, 2020          2011        32   \n",
       "\n",
       "                                         description         genre  \n",
       "0  In this unscripted series, families passionate...    British TV  \n",
       "1  Award-winning architect Piers Taylor and actre...    British TV  \n",
       "2  The most powerful superhero in the world can k...  Anime Series  \n",
       "3  Inspired by a science book, 13-year-old Willia...      Children  \n",
       "4  Using rhythm and rhymes, a funky band and a co...      Children  "
      ]
     },
     "execution_count": 3,
     "metadata": {},
     "output_type": "execute_result"
    }
   ],
   "source": [
    "# Loading dataset\n",
    "df = pd.read_csv(dataset_path)\n",
    "\n",
    "# Displaying our data\n",
    "df.head()"
   ]
  },
  {
   "cell_type": "markdown",
   "id": "21a62dfe",
   "metadata": {
    "papermill": {
     "duration": 0.018823,
     "end_time": "2023-07-16T19:47:49.407091",
     "exception": false,
     "start_time": "2023-07-16T19:47:49.388268",
     "status": "completed"
    },
    "tags": []
   },
   "source": [
    "# <p style= \"background-color:#428da6;font-family:Georgia;padding: 6px;color:#FFFFFF;font-size:110%;text-align:center;border-radius:30px 60px;overflow:hidden;\">Data Cleaning</p>\n"
   ]
  },
  {
   "cell_type": "code",
   "execution_count": 4,
   "id": "f748f972",
   "metadata": {
    "execution": {
     "iopub.execute_input": "2023-07-16T19:47:49.524200Z",
     "iopub.status.busy": "2023-07-16T19:47:49.523493Z",
     "iopub.status.idle": "2023-07-16T19:47:49.542564Z",
     "shell.execute_reply": "2023-07-16T19:47:49.541216Z"
    },
    "papermill": {
     "duration": 0.042601,
     "end_time": "2023-07-16T19:47:49.545257",
     "exception": false,
     "start_time": "2023-07-16T19:47:49.502656",
     "status": "completed"
    },
    "tags": []
   },
   "outputs": [
    {
     "data": {
      "text/html": [
       "<div>\n",
       "<style scoped>\n",
       "    .dataframe tbody tr th:only-of-type {\n",
       "        vertical-align: middle;\n",
       "    }\n",
       "\n",
       "    .dataframe tbody tr th {\n",
       "        vertical-align: top;\n",
       "    }\n",
       "\n",
       "    .dataframe thead th {\n",
       "        text-align: right;\n",
       "    }\n",
       "</style>\n",
       "<table border=\"1\" class=\"dataframe\">\n",
       "  <thead>\n",
       "    <tr style=\"text-align: right;\">\n",
       "      <th></th>\n",
       "      <th>Unnamed: 0</th>\n",
       "      <th>show_id</th>\n",
       "      <th>type</th>\n",
       "      <th>title</th>\n",
       "      <th>director</th>\n",
       "      <th>cast</th>\n",
       "      <th>country</th>\n",
       "      <th>date_added</th>\n",
       "      <th>release_year</th>\n",
       "      <th>duration</th>\n",
       "      <th>description</th>\n",
       "      <th>genre</th>\n",
       "    </tr>\n",
       "  </thead>\n",
       "  <tbody>\n",
       "    <tr>\n",
       "      <th>0</th>\n",
       "      <td>6128</td>\n",
       "      <td>s6129</td>\n",
       "      <td>TV Show</td>\n",
       "      <td>The Big Family Cooking Showdown</td>\n",
       "      <td>NaN</td>\n",
       "      <td>Zoe Ball, Nadiya Hussain, Giorgio Locatelli, R...</td>\n",
       "      <td>United Kingdom</td>\n",
       "      <td>February 22, 2019</td>\n",
       "      <td>2018</td>\n",
       "      <td>2</td>\n",
       "      <td>In this unscripted series, families passionate...</td>\n",
       "      <td>British TV</td>\n",
       "    </tr>\n",
       "    <tr>\n",
       "      <th>1</th>\n",
       "      <td>7018</td>\n",
       "      <td>s7019</td>\n",
       "      <td>TV Show</td>\n",
       "      <td>The World's Most Extraordinary Homes</td>\n",
       "      <td>NaN</td>\n",
       "      <td>Piers Taylor, Caroline Quentin</td>\n",
       "      <td>United Kingdom</td>\n",
       "      <td>January 18, 2019</td>\n",
       "      <td>2019</td>\n",
       "      <td>3</td>\n",
       "      <td>Award-winning architect Piers Taylor and actre...</td>\n",
       "      <td>British TV</td>\n",
       "    </tr>\n",
       "    <tr>\n",
       "      <th>2</th>\n",
       "      <td>4657</td>\n",
       "      <td>s4658</td>\n",
       "      <td>TV Show</td>\n",
       "      <td>One-Punch Man</td>\n",
       "      <td>NaN</td>\n",
       "      <td>Makoto Furukawa, Kaito Ishikawa, Yuki Kaji, Ao...</td>\n",
       "      <td>Japan</td>\n",
       "      <td>March 20, 2017</td>\n",
       "      <td>2015</td>\n",
       "      <td>1</td>\n",
       "      <td>The most powerful superhero in the world can k...</td>\n",
       "      <td>Anime Series</td>\n",
       "    </tr>\n",
       "    <tr>\n",
       "      <th>3</th>\n",
       "      <td>6167</td>\n",
       "      <td>s6168</td>\n",
       "      <td>Movie</td>\n",
       "      <td>The Boy Who Harnessed the Wind</td>\n",
       "      <td>Chiwetel Ejiofor</td>\n",
       "      <td>Maxwell Simba, Chiwetel Ejiofor, Aïssa Maïga, ...</td>\n",
       "      <td>United Kingdom</td>\n",
       "      <td>March 1, 2019</td>\n",
       "      <td>2019</td>\n",
       "      <td>114</td>\n",
       "      <td>Inspired by a science book, 13-year-old Willia...</td>\n",
       "      <td>Children</td>\n",
       "    </tr>\n",
       "    <tr>\n",
       "      <th>4</th>\n",
       "      <td>3562</td>\n",
       "      <td>s3563</td>\n",
       "      <td>Movie</td>\n",
       "      <td>LeapFrog: Sing-along, Read-along</td>\n",
       "      <td>Ron Myrick</td>\n",
       "      <td>Julie Maddalena, Cindy Robinson</td>\n",
       "      <td>NaN</td>\n",
       "      <td>April 15, 2020</td>\n",
       "      <td>2011</td>\n",
       "      <td>32</td>\n",
       "      <td>Using rhythm and rhymes, a funky band and a co...</td>\n",
       "      <td>Children</td>\n",
       "    </tr>\n",
       "  </tbody>\n",
       "</table>\n",
       "</div>"
      ],
      "text/plain": [
       "   Unnamed: 0 show_id     type                                 title  \\\n",
       "0        6128   s6129  TV Show       The Big Family Cooking Showdown   \n",
       "1        7018   s7019  TV Show  The World's Most Extraordinary Homes   \n",
       "2        4657   s4658  TV Show                         One-Punch Man   \n",
       "3        6167   s6168    Movie        The Boy Who Harnessed the Wind   \n",
       "4        3562   s3563    Movie      LeapFrog: Sing-along, Read-along   \n",
       "\n",
       "           director                                               cast  \\\n",
       "0               NaN  Zoe Ball, Nadiya Hussain, Giorgio Locatelli, R...   \n",
       "1               NaN                     Piers Taylor, Caroline Quentin   \n",
       "2               NaN  Makoto Furukawa, Kaito Ishikawa, Yuki Kaji, Ao...   \n",
       "3  Chiwetel Ejiofor  Maxwell Simba, Chiwetel Ejiofor, Aïssa Maïga, ...   \n",
       "4        Ron Myrick                    Julie Maddalena, Cindy Robinson   \n",
       "\n",
       "          country         date_added  release_year  duration  \\\n",
       "0  United Kingdom  February 22, 2019          2018         2   \n",
       "1  United Kingdom   January 18, 2019          2019         3   \n",
       "2           Japan     March 20, 2017          2015         1   \n",
       "3  United Kingdom      March 1, 2019          2019       114   \n",
       "4             NaN     April 15, 2020          2011        32   \n",
       "\n",
       "                                         description         genre  \n",
       "0  In this unscripted series, families passionate...    British TV  \n",
       "1  Award-winning architect Piers Taylor and actre...    British TV  \n",
       "2  The most powerful superhero in the world can k...  Anime Series  \n",
       "3  Inspired by a science book, 13-year-old Willia...      Children  \n",
       "4  Using rhythm and rhymes, a funky band and a co...      Children  "
      ]
     },
     "execution_count": 4,
     "metadata": {},
     "output_type": "execute_result"
    }
   ],
   "source": [
    "# Displaying our data\n",
    "df.head()"
   ]
  },
  {
   "cell_type": "code",
   "execution_count": 6,
   "id": "f12ebce0",
   "metadata": {
    "execution": {
     "iopub.execute_input": "2023-07-16T19:47:49.627866Z",
     "iopub.status.busy": "2023-07-16T19:47:49.627077Z",
     "iopub.status.idle": "2023-07-16T19:47:49.639396Z",
     "shell.execute_reply": "2023-07-16T19:47:49.637960Z"
    },
    "papermill": {
     "duration": 0.036885,
     "end_time": "2023-07-16T19:47:49.642630",
     "exception": false,
     "start_time": "2023-07-16T19:47:49.605745",
     "status": "completed"
    },
    "tags": []
   },
   "outputs": [],
   "source": [
    "# Dropping unneeded features \n",
    "df = df.drop([\"show_id\", \"date_added\",'Unnamed: 0'], axis=1) # , \"description\", \"cast\""
   ]
  },
  {
   "cell_type": "code",
   "execution_count": 7,
   "id": "4709f8c7",
   "metadata": {
    "execution": {
     "iopub.execute_input": "2023-07-16T19:47:49.684839Z",
     "iopub.status.busy": "2023-07-16T19:47:49.684083Z",
     "iopub.status.idle": "2023-07-16T19:47:49.692084Z",
     "shell.execute_reply": "2023-07-16T19:47:49.690771Z"
    },
    "papermill": {
     "duration": 0.032703,
     "end_time": "2023-07-16T19:47:49.695116",
     "exception": false,
     "start_time": "2023-07-16T19:47:49.662413",
     "status": "completed"
    },
    "tags": []
   },
   "outputs": [
    {
     "data": {
      "text/plain": [
       "(6223, 9)"
      ]
     },
     "execution_count": 7,
     "metadata": {},
     "output_type": "execute_result"
    }
   ],
   "source": [
    "# Printing shape of dataframe\n",
    "df.shape"
   ]
  },
  {
   "cell_type": "code",
   "execution_count": 8,
   "id": "1519582f",
   "metadata": {
    "execution": {
     "iopub.execute_input": "2023-07-16T19:47:49.775273Z",
     "iopub.status.busy": "2023-07-16T19:47:49.774808Z",
     "iopub.status.idle": "2023-07-16T19:47:49.796231Z",
     "shell.execute_reply": "2023-07-16T19:47:49.794800Z"
    },
    "papermill": {
     "duration": 0.045703,
     "end_time": "2023-07-16T19:47:49.799436",
     "exception": false,
     "start_time": "2023-07-16T19:47:49.753733",
     "status": "completed"
    },
    "tags": []
   },
   "outputs": [
    {
     "data": {
      "text/plain": [
       "type               0\n",
       "title              0\n",
       "director        1893\n",
       "cast             569\n",
       "country          423\n",
       "release_year       0\n",
       "duration           0\n",
       "description        0\n",
       "genre              0\n",
       "dtype: int64"
      ]
     },
     "execution_count": 8,
     "metadata": {},
     "output_type": "execute_result"
    }
   ],
   "source": [
    "# Checking number of missing values\n",
    "df.isna().sum()"
   ]
  },
  {
   "cell_type": "code",
   "execution_count": 9,
   "id": "9238eaa3",
   "metadata": {
    "execution": {
     "iopub.execute_input": "2023-07-16T19:47:49.880167Z",
     "iopub.status.busy": "2023-07-16T19:47:49.879775Z",
     "iopub.status.idle": "2023-07-16T19:47:49.913412Z",
     "shell.execute_reply": "2023-07-16T19:47:49.911949Z"
    },
    "papermill": {
     "duration": 0.057795,
     "end_time": "2023-07-16T19:47:49.916089",
     "exception": false,
     "start_time": "2023-07-16T19:47:49.858294",
     "status": "completed"
    },
    "tags": []
   },
   "outputs": [
    {
     "data": {
      "text/plain": [
       "type            0\n",
       "title           0\n",
       "director        0\n",
       "cast            0\n",
       "country         0\n",
       "release_year    0\n",
       "duration        0\n",
       "description     0\n",
       "genre           0\n",
       "dtype: int64"
      ]
     },
     "execution_count": 9,
     "metadata": {},
     "output_type": "execute_result"
    }
   ],
   "source": [
    "# Dropping missing values\n",
    "df = df.dropna()\n",
    "\n",
    "# Checking number of missing values\n",
    "df.isna().sum()"
   ]
  },
  {
   "cell_type": "code",
   "execution_count": 10,
   "id": "b9ab9029",
   "metadata": {
    "execution": {
     "iopub.execute_input": "2023-07-16T19:47:49.999309Z",
     "iopub.status.busy": "2023-07-16T19:47:49.998849Z",
     "iopub.status.idle": "2023-07-16T19:47:50.028721Z",
     "shell.execute_reply": "2023-07-16T19:47:50.027330Z"
    },
    "papermill": {
     "duration": 0.05557,
     "end_time": "2023-07-16T19:47:50.031524",
     "exception": false,
     "start_time": "2023-07-16T19:47:49.975954",
     "status": "completed"
    },
    "tags": []
   },
   "outputs": [
    {
     "data": {
      "text/plain": [
       "0"
      ]
     },
     "execution_count": 10,
     "metadata": {},
     "output_type": "execute_result"
    }
   ],
   "source": [
    "# Checking the number of identical records\n",
    "df.duplicated().sum()"
   ]
  },
  {
   "cell_type": "code",
   "execution_count": 11,
   "id": "6633c40a",
   "metadata": {
    "execution": {
     "iopub.execute_input": "2023-07-16T19:47:50.074766Z",
     "iopub.status.busy": "2023-07-16T19:47:50.073250Z",
     "iopub.status.idle": "2023-07-16T19:47:50.080981Z",
     "shell.execute_reply": "2023-07-16T19:47:50.080048Z"
    },
    "papermill": {
     "duration": 0.032072,
     "end_time": "2023-07-16T19:47:50.083664",
     "exception": false,
     "start_time": "2023-07-16T19:47:50.051592",
     "status": "completed"
    },
    "tags": []
   },
   "outputs": [
    {
     "data": {
      "text/plain": [
       "(3855, 9)"
      ]
     },
     "execution_count": 11,
     "metadata": {},
     "output_type": "execute_result"
    }
   ],
   "source": [
    "# Printing shape of dataframe\n",
    "df.shape"
   ]
  },
  {
   "cell_type": "markdown",
   "id": "16342f2c",
   "metadata": {
    "papermill": {
     "duration": 0.019847,
     "end_time": "2023-07-16T19:47:50.165122",
     "exception": false,
     "start_time": "2023-07-16T19:47:50.145275",
     "status": "completed"
    },
    "tags": []
   },
   "source": [
    "<div style=\"background-color:#D4EDDA; color:#155724; padding:20px; border-radius:10px; text-align:center;\">\n",
    "    <h3 style=\"font-style:italic; margin-top:0;\">🔍 Search:</h3>\n",
    "    <p style=\"margin-bottom:0; background-color:#D4EDDA; display:inline-block; padding:5px; border-radius:5px; font-size:15px;\">Most basic things have been done to dataframe. Let's explore other things. Let's see if all features have correct data types</p>\n",
    "</div>"
   ]
  },
  {
   "cell_type": "code",
   "execution_count": 12,
   "id": "6253643f",
   "metadata": {
    "execution": {
     "iopub.execute_input": "2023-07-16T19:47:50.207449Z",
     "iopub.status.busy": "2023-07-16T19:47:50.206985Z",
     "iopub.status.idle": "2023-07-16T19:47:50.216831Z",
     "shell.execute_reply": "2023-07-16T19:47:50.215571Z"
    },
    "papermill": {
     "duration": 0.03429,
     "end_time": "2023-07-16T19:47:50.219607",
     "exception": false,
     "start_time": "2023-07-16T19:47:50.185317",
     "status": "completed"
    },
    "tags": []
   },
   "outputs": [
    {
     "data": {
      "text/plain": [
       "type            object\n",
       "title           object\n",
       "director        object\n",
       "cast            object\n",
       "country         object\n",
       "release_year     int64\n",
       "duration         int64\n",
       "description     object\n",
       "genre           object\n",
       "dtype: object"
      ]
     },
     "execution_count": 12,
     "metadata": {},
     "output_type": "execute_result"
    }
   ],
   "source": [
    "# Checking data types\n",
    "df.dtypes"
   ]
  },
  {
   "cell_type": "code",
   "execution_count": 13,
   "id": "cb339fbf",
   "metadata": {
    "execution": {
     "iopub.execute_input": "2023-07-16T19:47:50.263481Z",
     "iopub.status.busy": "2023-07-16T19:47:50.263004Z",
     "iopub.status.idle": "2023-07-16T19:47:50.282905Z",
     "shell.execute_reply": "2023-07-16T19:47:50.281354Z"
    },
    "papermill": {
     "duration": 0.044683,
     "end_time": "2023-07-16T19:47:50.285530",
     "exception": false,
     "start_time": "2023-07-16T19:47:50.240847",
     "status": "completed"
    },
    "tags": []
   },
   "outputs": [
    {
     "data": {
      "text/html": [
       "<div>\n",
       "<style scoped>\n",
       "    .dataframe tbody tr th:only-of-type {\n",
       "        vertical-align: middle;\n",
       "    }\n",
       "\n",
       "    .dataframe tbody tr th {\n",
       "        vertical-align: top;\n",
       "    }\n",
       "\n",
       "    .dataframe thead th {\n",
       "        text-align: right;\n",
       "    }\n",
       "</style>\n",
       "<table border=\"1\" class=\"dataframe\">\n",
       "  <thead>\n",
       "    <tr style=\"text-align: right;\">\n",
       "      <th></th>\n",
       "      <th>type</th>\n",
       "      <th>title</th>\n",
       "      <th>director</th>\n",
       "      <th>cast</th>\n",
       "      <th>country</th>\n",
       "      <th>release_year</th>\n",
       "      <th>duration</th>\n",
       "      <th>description</th>\n",
       "      <th>genre</th>\n",
       "    </tr>\n",
       "  </thead>\n",
       "  <tbody>\n",
       "    <tr>\n",
       "      <th>3</th>\n",
       "      <td>Movie</td>\n",
       "      <td>The Boy Who Harnessed the Wind</td>\n",
       "      <td>Chiwetel Ejiofor</td>\n",
       "      <td>Maxwell Simba, Chiwetel Ejiofor, Aïssa Maïga, ...</td>\n",
       "      <td>United Kingdom</td>\n",
       "      <td>2019</td>\n",
       "      <td>114</td>\n",
       "      <td>Inspired by a science book, 13-year-old Willia...</td>\n",
       "      <td>Children</td>\n",
       "    </tr>\n",
       "    <tr>\n",
       "      <th>5</th>\n",
       "      <td>Movie</td>\n",
       "      <td>Mutiny of the Worker Bees</td>\n",
       "      <td>Carlos Morett</td>\n",
       "      <td>Gustavo Egelhaaf, Alejandro Suárez, Bárbara de...</td>\n",
       "      <td>Mexico</td>\n",
       "      <td>2020</td>\n",
       "      <td>94</td>\n",
       "      <td>When Omar's grandfather forces him to get a jo...</td>\n",
       "      <td>Comedies</td>\n",
       "    </tr>\n",
       "    <tr>\n",
       "      <th>6</th>\n",
       "      <td>Movie</td>\n",
       "      <td>John Carter</td>\n",
       "      <td>Andrew Stanton</td>\n",
       "      <td>Taylor Kitsch, Lynn Collins, Samantha Morton, ...</td>\n",
       "      <td>United States</td>\n",
       "      <td>2012</td>\n",
       "      <td>133</td>\n",
       "      <td>One minute, Civil War veteran John Carter is e...</td>\n",
       "      <td>Action</td>\n",
       "    </tr>\n",
       "    <tr>\n",
       "      <th>7</th>\n",
       "      <td>Movie</td>\n",
       "      <td>Kung Fu Yoga</td>\n",
       "      <td>Stanley Tong</td>\n",
       "      <td>Jackie Chan, Disha Patani, Amyra Dastur, Sonu ...</td>\n",
       "      <td>China</td>\n",
       "      <td>2017</td>\n",
       "      <td>107</td>\n",
       "      <td>Two mismatched archaeologists battle a team of...</td>\n",
       "      <td>Action</td>\n",
       "    </tr>\n",
       "    <tr>\n",
       "      <th>9</th>\n",
       "      <td>Movie</td>\n",
       "      <td>Lady Bird</td>\n",
       "      <td>Greta Gerwig</td>\n",
       "      <td>Saoirse Ronan, Laurie Metcalf, Tracy Letts, Lu...</td>\n",
       "      <td>United States</td>\n",
       "      <td>2017</td>\n",
       "      <td>94</td>\n",
       "      <td>An intrepid high schooler in Sacramento underg...</td>\n",
       "      <td>Comedies</td>\n",
       "    </tr>\n",
       "  </tbody>\n",
       "</table>\n",
       "</div>"
      ],
      "text/plain": [
       "    type                           title          director  \\\n",
       "3  Movie  The Boy Who Harnessed the Wind  Chiwetel Ejiofor   \n",
       "5  Movie       Mutiny of the Worker Bees     Carlos Morett   \n",
       "6  Movie                     John Carter    Andrew Stanton   \n",
       "7  Movie                    Kung Fu Yoga      Stanley Tong   \n",
       "9  Movie                       Lady Bird      Greta Gerwig   \n",
       "\n",
       "                                                cast         country  \\\n",
       "3  Maxwell Simba, Chiwetel Ejiofor, Aïssa Maïga, ...  United Kingdom   \n",
       "5  Gustavo Egelhaaf, Alejandro Suárez, Bárbara de...          Mexico   \n",
       "6  Taylor Kitsch, Lynn Collins, Samantha Morton, ...   United States   \n",
       "7  Jackie Chan, Disha Patani, Amyra Dastur, Sonu ...           China   \n",
       "9  Saoirse Ronan, Laurie Metcalf, Tracy Letts, Lu...   United States   \n",
       "\n",
       "   release_year  duration                                        description  \\\n",
       "3          2019       114  Inspired by a science book, 13-year-old Willia...   \n",
       "5          2020        94  When Omar's grandfather forces him to get a jo...   \n",
       "6          2012       133  One minute, Civil War veteran John Carter is e...   \n",
       "7          2017       107  Two mismatched archaeologists battle a team of...   \n",
       "9          2017        94  An intrepid high schooler in Sacramento underg...   \n",
       "\n",
       "      genre  \n",
       "3  Children  \n",
       "5  Comedies  \n",
       "6    Action  \n",
       "7    Action  \n",
       "9  Comedies  "
      ]
     },
     "execution_count": 13,
     "metadata": {},
     "output_type": "execute_result"
    }
   ],
   "source": [
    "# Displaying our data\n",
    "df.head()"
   ]
  },
  {
   "cell_type": "code",
   "execution_count": 14,
   "id": "01918b8d",
   "metadata": {
    "execution": {
     "iopub.execute_input": "2023-07-16T19:47:50.372000Z",
     "iopub.status.busy": "2023-07-16T19:47:50.371552Z",
     "iopub.status.idle": "2023-07-16T19:47:50.381179Z",
     "shell.execute_reply": "2023-07-16T19:47:50.379905Z"
    },
    "papermill": {
     "duration": 0.034917,
     "end_time": "2023-07-16T19:47:50.383947",
     "exception": false,
     "start_time": "2023-07-16T19:47:50.349030",
     "status": "completed"
    },
    "tags": []
   },
   "outputs": [
    {
     "data": {
      "text/plain": [
       "3    114\n",
       "5     94\n",
       "6    133\n",
       "7    107\n",
       "9     94\n",
       "Name: duration, dtype: int64"
      ]
     },
     "execution_count": 14,
     "metadata": {},
     "output_type": "execute_result"
    }
   ],
   "source": [
    "# Displaying feature\n",
    "df.duration.head()"
   ]
  },
  {
   "cell_type": "markdown",
   "id": "a557edb7",
   "metadata": {
    "papermill": {
     "duration": 0.021816,
     "end_time": "2023-07-16T19:47:50.648672",
     "exception": false,
     "start_time": "2023-07-16T19:47:50.626856",
     "status": "completed"
    },
    "tags": []
   },
   "source": [
    "# <p style= \"background-color:#428da6;font-family:Georgia;padding: 6px;color:#FFFFFF;font-size:110%;text-align:center;border-radius:30px 60px;overflow:hidden;\">Preprocessing</p>"
   ]
  },
  {
   "cell_type": "markdown",
   "id": "a456d533",
   "metadata": {
    "papermill": {
     "duration": 0.020997,
     "end_time": "2023-07-16T19:47:50.735666",
     "exception": false,
     "start_time": "2023-07-16T19:47:50.714669",
     "status": "completed"
    },
    "tags": []
   },
   "source": [
    "### Extracting features"
   ]
  },
  {
   "cell_type": "code",
   "execution_count": 17,
   "id": "f434b6ef",
   "metadata": {
    "execution": {
     "iopub.execute_input": "2023-07-16T19:47:50.780903Z",
     "iopub.status.busy": "2023-07-16T19:47:50.780399Z",
     "iopub.status.idle": "2023-07-16T19:47:50.788586Z",
     "shell.execute_reply": "2023-07-16T19:47:50.787499Z"
    },
    "papermill": {
     "duration": 0.034253,
     "end_time": "2023-07-16T19:47:50.791189",
     "exception": false,
     "start_time": "2023-07-16T19:47:50.756936",
     "status": "completed"
    },
    "tags": []
   },
   "outputs": [],
   "source": [
    "# Splitting data into X and target\n",
    "X = df.drop('title', axis=1)\n",
    "title = df['title']"
   ]
  },
  {
   "cell_type": "markdown",
   "id": "2629838e",
   "metadata": {
    "papermill": {
     "duration": 0.020802,
     "end_time": "2023-07-16T19:47:50.833113",
     "exception": false,
     "start_time": "2023-07-16T19:47:50.812311",
     "status": "completed"
    },
    "tags": []
   },
   "source": [
    "### Encoding and scaling all features"
   ]
  },
  {
   "cell_type": "code",
   "execution_count": 21,
   "id": "16698bb6",
   "metadata": {
    "execution": {
     "iopub.execute_input": "2023-07-16T19:47:51.131905Z",
     "iopub.status.busy": "2023-07-16T19:47:51.130551Z",
     "iopub.status.idle": "2023-07-16T19:47:52.456855Z",
     "shell.execute_reply": "2023-07-16T19:47:52.455718Z"
    },
    "papermill": {
     "duration": 1.353103,
     "end_time": "2023-07-16T19:47:52.460020",
     "exception": false,
     "start_time": "2023-07-16T19:47:51.106917",
     "status": "completed"
    },
    "tags": []
   },
   "outputs": [
    {
     "data": {
      "text/plain": [
       "<3855x3122 sparse matrix of type '<class 'numpy.float64'>'\n",
       "\twith 21879 stored elements in Compressed Sparse Row format>"
      ]
     },
     "execution_count": 21,
     "metadata": {},
     "output_type": "execute_result"
    }
   ],
   "source": [
    "from sklearn.preprocessing import OneHotEncoder, MinMaxScaler\n",
    "from sklearn.feature_extraction.text import CountVectorizer\n",
    "from sklearn.compose import make_column_transformer\n",
    "\n",
    "# Creating an instance of the preprocessing classes\n",
    "mms = MinMaxScaler()\n",
    "ohe = OneHotEncoder(drop='first')\n",
    "ctv = CountVectorizer()\n",
    "\n",
    "# Creating a make_column_transformer object\n",
    "preprocessor = make_column_transformer(\n",
    "    (mms, ['release_year']),\n",
    "    (mms, ['duration']),\n",
    "    (ohe, ['type', 'director']),\n",
    "    (ctv, 'country'),\n",
    "    (ctv, 'genre')\n",
    ")\n",
    "\n",
    "# Performing the preprocessing operation\n",
    "X_processed  = preprocessor.fit_transform(X)\n",
    "\n",
    "X_processed "
   ]
  },
  {
   "cell_type": "code",
   "execution_count": 22,
   "id": "8a5cc9ac",
   "metadata": {
    "execution": {
     "iopub.execute_input": "2023-07-16T19:47:52.510013Z",
     "iopub.status.busy": "2023-07-16T19:47:52.509541Z",
     "iopub.status.idle": "2023-07-16T19:47:52.598624Z",
     "shell.execute_reply": "2023-07-16T19:47:52.596924Z"
    },
    "papermill": {
     "duration": 0.119116,
     "end_time": "2023-07-16T19:47:52.602133",
     "exception": false,
     "start_time": "2023-07-16T19:47:52.483017",
     "status": "completed"
    },
    "tags": []
   },
   "outputs": [
    {
     "data": {
      "text/plain": [
       "array([[0.97468354, 0.47881356, 0.        , ..., 0.        , 0.        ,\n",
       "        0.        ],\n",
       "       [0.98734177, 0.3940678 , 0.        , ..., 0.        , 0.        ,\n",
       "        0.        ],\n",
       "       [0.88607595, 0.55932203, 0.        , ..., 0.        , 0.        ,\n",
       "        0.        ],\n",
       "       ...,\n",
       "       [0.97468354, 0.18644068, 0.        , ..., 0.        , 0.        ,\n",
       "        0.        ],\n",
       "       [0.96202532, 0.30084746, 0.        , ..., 0.        , 0.        ,\n",
       "        0.        ],\n",
       "       [0.97468354, 0.40254237, 0.        , ..., 0.        , 0.        ,\n",
       "        0.        ]])"
      ]
     },
     "execution_count": 22,
     "metadata": {},
     "output_type": "execute_result"
    }
   ],
   "source": [
    "# Converting sparse matrix to normal array\n",
    "X_processed = X_processed.toarray()\n",
    "\n",
    "X_processed"
   ]
  },
  {
   "cell_type": "markdown",
   "id": "11cf6ae1",
   "metadata": {
    "papermill": {
     "duration": 0.022457,
     "end_time": "2023-07-16T19:47:52.647524",
     "exception": false,
     "start_time": "2023-07-16T19:47:52.625067",
     "status": "completed"
    },
    "tags": []
   },
   "source": [
    "# <p style= \"background-color:#428da6;font-family:Georgia;padding: 6px;color:#FFFFFF;font-size:110%;text-align:center;border-radius:30px 60px;overflow:hidden;\">Building Autoencoder</p>"
   ]
  },
  {
   "cell_type": "code",
   "execution_count": 23,
   "id": "758d762e",
   "metadata": {
    "execution": {
     "iopub.execute_input": "2023-07-16T19:48:07.981684Z",
     "iopub.status.busy": "2023-07-16T19:48:07.980304Z",
     "iopub.status.idle": "2023-07-16T19:48:16.554441Z",
     "shell.execute_reply": "2023-07-16T19:48:16.552963Z"
    },
    "papermill": {
     "duration": 8.603162,
     "end_time": "2023-07-16T19:48:16.557837",
     "exception": false,
     "start_time": "2023-07-16T19:48:07.954675",
     "status": "completed"
    },
    "tags": []
   },
   "outputs": [],
   "source": [
    "from keras.metrics import cosine_similarity\n",
    "from keras.layers import Input, Dense\n",
    "from keras.models import Model\n",
    "import tensorflow as tf\n",
    "\n",
    "# Metric to test the accuracy of reconstructed features\n",
    "def cosine_similarity_metric(y_true, y_pred):\n",
    "    return tf.reduce_mean(cosine_similarity(y_true, y_pred))\n",
    "\n",
    "# Function for building diffrent models using keras_tuner\n",
    "def build_model(hp):\n",
    "    input_shape = X_processed.shape[1]\n",
    "    input_layer = Input(shape=(input_shape,))\n",
    "    \n",
    "    outer_units = hp.Int('outer_units', min_value=128, max_value=256, step=64)\n",
    "    inner_units = hp.Int('inner_units', min_value=32, max_value=128, step=32)\n",
    "    bottleneck = hp.Int('bottleneck', min_value=8, max_value=32, step=8)\n",
    "\n",
    "    hidden_layer1 = Dense(units=outer_units, activation='relu')(input_layer)\n",
    "    hidden_layer2 = Dense(units=inner_units, activation='relu')(hidden_layer1)\n",
    "    hidden_layer3 = Dense(units=bottleneck, activation='relu')(hidden_layer2)\n",
    "    hidden_layer4 = Dense(units=inner_units, activation='relu')(hidden_layer3)\n",
    "    hidden_layer5 = Dense(units=outer_units, activation='relu')(hidden_layer4)\n",
    "    \n",
    "    output_layer = Dense(units=input_shape, activation='sigmoid')(hidden_layer5)\n",
    "    \n",
    "    model = Model(inputs=input_layer, outputs=output_layer)\n",
    "    model.compile(optimizer='adam', loss='mse', metrics=[cosine_similarity_metric])\n",
    "    \n",
    "    return model"
   ]
  },
  {
   "cell_type": "code",
   "execution_count": 26,
   "id": "b21556b9",
   "metadata": {
    "execution": {
     "iopub.execute_input": "2023-07-16T19:48:16.606973Z",
     "iopub.status.busy": "2023-07-16T19:48:16.606060Z",
     "iopub.status.idle": "2023-07-16T19:48:17.714835Z",
     "shell.execute_reply": "2023-07-16T19:48:17.713375Z"
    },
    "papermill": {
     "duration": 1.137028,
     "end_time": "2023-07-16T19:48:17.718044",
     "exception": false,
     "start_time": "2023-07-16T19:48:16.581016",
     "status": "completed"
    },
    "tags": []
   },
   "outputs": [],
   "source": [
    "from keras_tuner import BayesianOptimization\n",
    "\n",
    "# Creating BayesianOptimization instance\n",
    "tuner = BayesianOptimization(\n",
    "    build_model,\n",
    "    objective='val_loss',\n",
    "    max_trials=5, # number of different architectures\n",
    "    executions_per_trial=2) # number of repeats given architecture"
   ]
  },
  {
   "cell_type": "code",
   "execution_count": 25,
   "id": "5dfb00a3",
   "metadata": {},
   "outputs": [
    {
     "name": "stdout",
     "output_type": "stream",
     "text": [
      "Collecting keras_tuner\n",
      "  Downloading keras_tuner-1.4.6-py3-none-any.whl (128 kB)\n",
      "Collecting kt-legacy\n",
      "  Downloading kt_legacy-1.0.5-py3-none-any.whl (9.6 kB)\n",
      "Requirement already satisfied: requests in c:\\python310\\lib\\site-packages (from keras_tuner) (2.27.1)\n",
      "Requirement already satisfied: packaging in c:\\python310\\lib\\site-packages (from keras_tuner) (21.3)\n",
      "Requirement already satisfied: keras in c:\\python310\\lib\\site-packages (from keras_tuner) (2.10.0)\n",
      "Requirement already satisfied: pyparsing!=3.0.5,>=2.0.2 in c:\\python310\\lib\\site-packages (from packaging->keras_tuner) (3.0.7)\n",
      "Requirement already satisfied: charset-normalizer~=2.0.0 in c:\\python310\\lib\\site-packages (from requests->keras_tuner) (2.0.10)\n",
      "Requirement already satisfied: certifi>=2017.4.17 in c:\\python310\\lib\\site-packages (from requests->keras_tuner) (2021.10.8)\n",
      "Requirement already satisfied: idna<4,>=2.5 in c:\\python310\\lib\\site-packages (from requests->keras_tuner) (3.3)\n",
      "Requirement already satisfied: urllib3<1.27,>=1.21.1 in c:\\python310\\lib\\site-packages (from requests->keras_tuner) (1.26.8)\n",
      "Installing collected packages: kt-legacy, keras-tuner\n",
      "Successfully installed keras-tuner-1.4.6 kt-legacy-1.0.5\n",
      "Note: you may need to restart the kernel to use updated packages.\n"
     ]
    },
    {
     "name": "stderr",
     "output_type": "stream",
     "text": [
      "WARNING: You are using pip version 21.3.1; however, version 23.3.1 is available.\n",
      "You should consider upgrading via the 'C:\\Python310\\python.exe -m pip install --upgrade pip' command.\n"
     ]
    }
   ],
   "source": [
    "pip install keras_tuner"
   ]
  },
  {
   "cell_type": "code",
   "execution_count": 27,
   "id": "3a3d98cb",
   "metadata": {
    "execution": {
     "iopub.execute_input": "2023-07-16T19:48:17.766679Z",
     "iopub.status.busy": "2023-07-16T19:48:17.766201Z",
     "iopub.status.idle": "2023-07-16T19:48:17.772538Z",
     "shell.execute_reply": "2023-07-16T19:48:17.771122Z"
    },
    "papermill": {
     "duration": 0.035156,
     "end_time": "2023-07-16T19:48:17.776441",
     "exception": false,
     "start_time": "2023-07-16T19:48:17.741285",
     "status": "completed"
    },
    "tags": []
   },
   "outputs": [
    {
     "name": "stdout",
     "output_type": "stream",
     "text": [
      "Search space summary\n",
      "Default search space size: 3\n",
      "outer_units (Int)\n",
      "{'default': None, 'conditions': [], 'min_value': 128, 'max_value': 256, 'step': 64, 'sampling': 'linear'}\n",
      "inner_units (Int)\n",
      "{'default': None, 'conditions': [], 'min_value': 32, 'max_value': 128, 'step': 32, 'sampling': 'linear'}\n",
      "bottleneck (Int)\n",
      "{'default': None, 'conditions': [], 'min_value': 8, 'max_value': 32, 'step': 8, 'sampling': 'linear'}\n"
     ]
    }
   ],
   "source": [
    "# Information about what space of parameters are search for\n",
    "tuner.search_space_summary()"
   ]
  },
  {
   "cell_type": "code",
   "execution_count": 28,
   "id": "16d2f790",
   "metadata": {
    "execution": {
     "iopub.execute_input": "2023-07-16T19:48:17.826266Z",
     "iopub.status.busy": "2023-07-16T19:48:17.825825Z",
     "iopub.status.idle": "2023-07-16T19:56:05.107305Z",
     "shell.execute_reply": "2023-07-16T19:56:05.105823Z"
    },
    "papermill": {
     "duration": 467.309983,
     "end_time": "2023-07-16T19:56:05.110480",
     "exception": false,
     "start_time": "2023-07-16T19:48:17.800497",
     "status": "completed"
    },
    "tags": []
   },
   "outputs": [
    {
     "name": "stdout",
     "output_type": "stream",
     "text": [
      "Trial 5 Complete [00h 01m 02s]\n",
      "val_loss: 0.0006615068414248526\n",
      "\n",
      "Best val_loss So Far: 0.0006615068414248526\n",
      "Total elapsed time: 00h 06m 01s\n"
     ]
    }
   ],
   "source": [
    "# Running BayesianOptimization tuner\n",
    "tuner.search(X_processed, X_processed, validation_split=0.2, epochs=20, batch_size=32, verbose=1)"
   ]
  },
  {
   "cell_type": "code",
   "execution_count": 29,
   "id": "1f66f24a",
   "metadata": {
    "execution": {
     "iopub.execute_input": "2023-07-16T19:56:05.209538Z",
     "iopub.status.busy": "2023-07-16T19:56:05.208033Z",
     "iopub.status.idle": "2023-07-16T19:56:06.026467Z",
     "shell.execute_reply": "2023-07-16T19:56:06.024843Z"
    },
    "papermill": {
     "duration": 0.847936,
     "end_time": "2023-07-16T19:56:06.029730",
     "exception": false,
     "start_time": "2023-07-16T19:56:05.181794",
     "status": "completed"
    },
    "tags": []
   },
   "outputs": [
    {
     "name": "stdout",
     "output_type": "stream",
     "text": [
      "You must install pydot (`pip install pydot`) and install graphviz (see instructions at https://graphviz.gitlab.io/download/) for plot_model to work.\n"
     ]
    }
   ],
   "source": [
    "from tensorflow.keras.utils import plot_model\n",
    "\n",
    "# Loading best model\n",
    "autoencoder = tuner.get_best_models(num_models=1)[0]\n",
    "\n",
    "# Displaying a graphical representation of the best model\n",
    "plot_model(autoencoder, show_shapes=True, show_layer_activations=True)"
   ]
  },
  {
   "cell_type": "markdown",
   "id": "5ed58968",
   "metadata": {
    "papermill": {
     "duration": 0.024494,
     "end_time": "2023-07-16T19:56:06.079617",
     "exception": false,
     "start_time": "2023-07-16T19:56:06.055123",
     "status": "completed"
    },
    "tags": []
   },
   "source": [
    "### Retraining Best model"
   ]
  },
  {
   "cell_type": "code",
   "execution_count": 30,
   "id": "e1ed4e42",
   "metadata": {
    "execution": {
     "iopub.execute_input": "2023-07-16T19:56:06.133201Z",
     "iopub.status.busy": "2023-07-16T19:56:06.131686Z",
     "iopub.status.idle": "2023-07-16T19:57:52.086230Z",
     "shell.execute_reply": "2023-07-16T19:57:52.084728Z"
    },
    "papermill": {
     "duration": 105.985103,
     "end_time": "2023-07-16T19:57:52.089495",
     "exception": false,
     "start_time": "2023-07-16T19:56:06.104392",
     "status": "completed"
    },
    "tags": []
   },
   "outputs": [
    {
     "name": "stdout",
     "output_type": "stream",
     "text": [
      "Epoch 1/50\n",
      "121/121 [==============================] - 2s 9ms/step - loss: 6.0820e-04 - cosine_similarity_metric: 0.7649\n",
      "Epoch 2/50\n",
      "121/121 [==============================] - 1s 9ms/step - loss: 6.0600e-04 - cosine_similarity_metric: 0.7655\n",
      "Epoch 3/50\n",
      "121/121 [==============================] - 1s 8ms/step - loss: 6.0549e-04 - cosine_similarity_metric: 0.7658\n",
      "Epoch 4/50\n",
      "121/121 [==============================] - 1s 9ms/step - loss: 6.0453e-04 - cosine_similarity_metric: 0.7658\n",
      "Epoch 5/50\n",
      "121/121 [==============================] - 1s 8ms/step - loss: 6.0226e-04 - cosine_similarity_metric: 0.7676\n",
      "Epoch 6/50\n",
      "121/121 [==============================] - 1s 9ms/step - loss: 5.9963e-04 - cosine_similarity_metric: 0.7692\n",
      "Epoch 7/50\n",
      "121/121 [==============================] - 1s 9ms/step - loss: 5.9592e-04 - cosine_similarity_metric: 0.7712\n",
      "Epoch 8/50\n",
      "121/121 [==============================] - 1s 9ms/step - loss: 5.9409e-04 - cosine_similarity_metric: 0.7721\n",
      "Epoch 9/50\n",
      "121/121 [==============================] - 1s 9ms/step - loss: 5.9168e-04 - cosine_similarity_metric: 0.7734\n",
      "Epoch 10/50\n",
      "121/121 [==============================] - 1s 9ms/step - loss: 5.9048e-04 - cosine_similarity_metric: 0.7741\n",
      "Epoch 11/50\n",
      "121/121 [==============================] - 1s 9ms/step - loss: 5.8843e-04 - cosine_similarity_metric: 0.7745\n",
      "Epoch 12/50\n",
      "121/121 [==============================] - 1s 9ms/step - loss: 5.8747e-04 - cosine_similarity_metric: 0.7750\n",
      "Epoch 13/50\n",
      "121/121 [==============================] - 1s 9ms/step - loss: 5.8672e-04 - cosine_similarity_metric: 0.7755\n",
      "Epoch 14/50\n",
      "121/121 [==============================] - 1s 9ms/step - loss: 5.8575e-04 - cosine_similarity_metric: 0.7760\n",
      "Epoch 15/50\n",
      "121/121 [==============================] - 1s 9ms/step - loss: 5.8454e-04 - cosine_similarity_metric: 0.7766\n",
      "Epoch 16/50\n",
      "121/121 [==============================] - 1s 9ms/step - loss: 5.8349e-04 - cosine_similarity_metric: 0.7770\n",
      "Epoch 17/50\n",
      "121/121 [==============================] - 1s 9ms/step - loss: 5.8191e-04 - cosine_similarity_metric: 0.7776\n",
      "Epoch 18/50\n",
      "121/121 [==============================] - 1s 8ms/step - loss: 5.7870e-04 - cosine_similarity_metric: 0.7792\n",
      "Epoch 19/50\n",
      "121/121 [==============================] - 1s 9ms/step - loss: 5.7620e-04 - cosine_similarity_metric: 0.7803\n",
      "Epoch 20/50\n",
      "121/121 [==============================] - 1s 9ms/step - loss: 5.7480e-04 - cosine_similarity_metric: 0.7808\n",
      "Epoch 21/50\n",
      "121/121 [==============================] - 1s 9ms/step - loss: 5.7476e-04 - cosine_similarity_metric: 0.7810\n",
      "Epoch 22/50\n",
      "121/121 [==============================] - 1s 8ms/step - loss: 5.7300e-04 - cosine_similarity_metric: 0.7819\n",
      "Epoch 23/50\n",
      "121/121 [==============================] - 1s 8ms/step - loss: 5.7081e-04 - cosine_similarity_metric: 0.7826\n",
      "Epoch 24/50\n",
      "121/121 [==============================] - 1s 9ms/step - loss: 5.6842e-04 - cosine_similarity_metric: 0.7841\n",
      "Epoch 25/50\n",
      "121/121 [==============================] - 1s 9ms/step - loss: 5.6776e-04 - cosine_similarity_metric: 0.7844\n",
      "Epoch 26/50\n",
      "121/121 [==============================] - 1s 9ms/step - loss: 5.6539e-04 - cosine_similarity_metric: 0.7854\n",
      "Epoch 27/50\n",
      "121/121 [==============================] - 1s 8ms/step - loss: 5.6176e-04 - cosine_similarity_metric: 0.7873\n",
      "Epoch 28/50\n",
      "121/121 [==============================] - 1s 9ms/step - loss: 5.5997e-04 - cosine_similarity_metric: 0.7880\n",
      "Epoch 29/50\n",
      "121/121 [==============================] - 1s 9ms/step - loss: 5.5909e-04 - cosine_similarity_metric: 0.7882\n",
      "Epoch 30/50\n",
      "121/121 [==============================] - 1s 9ms/step - loss: 5.5804e-04 - cosine_similarity_metric: 0.7887\n",
      "Epoch 31/50\n",
      "121/121 [==============================] - 1s 9ms/step - loss: 5.5833e-04 - cosine_similarity_metric: 0.7887\n",
      "Epoch 32/50\n",
      "121/121 [==============================] - 1s 8ms/step - loss: 5.5540e-04 - cosine_similarity_metric: 0.7896\n",
      "Epoch 33/50\n",
      "121/121 [==============================] - 1s 9ms/step - loss: 5.5468e-04 - cosine_similarity_metric: 0.7903\n",
      "Epoch 34/50\n",
      "121/121 [==============================] - 1s 9ms/step - loss: 5.5434e-04 - cosine_similarity_metric: 0.7903\n",
      "Epoch 35/50\n",
      "121/121 [==============================] - 1s 9ms/step - loss: 5.5456e-04 - cosine_similarity_metric: 0.7901\n",
      "Epoch 36/50\n",
      "121/121 [==============================] - 1s 9ms/step - loss: 5.5454e-04 - cosine_similarity_metric: 0.7901\n",
      "Epoch 37/50\n",
      "121/121 [==============================] - 1s 9ms/step - loss: 5.5430e-04 - cosine_similarity_metric: 0.7900\n",
      "Epoch 38/50\n",
      "121/121 [==============================] - 1s 9ms/step - loss: 5.5432e-04 - cosine_similarity_metric: 0.7902\n",
      "Epoch 39/50\n",
      "121/121 [==============================] - 1s 8ms/step - loss: 5.5429e-04 - cosine_similarity_metric: 0.7903\n",
      "Epoch 40/50\n",
      "121/121 [==============================] - 1s 8ms/step - loss: 5.5367e-04 - cosine_similarity_metric: 0.7905\n",
      "Epoch 41/50\n",
      "121/121 [==============================] - 1s 9ms/step - loss: 5.5396e-04 - cosine_similarity_metric: 0.7903\n",
      "Epoch 42/50\n",
      "121/121 [==============================] - 1s 9ms/step - loss: 5.5567e-04 - cosine_similarity_metric: 0.7898\n",
      "Epoch 43/50\n",
      "121/121 [==============================] - 1s 9ms/step - loss: 5.5589e-04 - cosine_similarity_metric: 0.7896\n",
      "Epoch 44/50\n",
      "121/121 [==============================] - 1s 9ms/step - loss: 5.5432e-04 - cosine_similarity_metric: 0.7902\n",
      "Epoch 45/50\n",
      "121/121 [==============================] - 1s 8ms/step - loss: 5.5585e-04 - cosine_similarity_metric: 0.7895\n",
      "Epoch 46/50\n",
      "121/121 [==============================] - 1s 8ms/step - loss: 5.5512e-04 - cosine_similarity_metric: 0.7901\n",
      "Epoch 47/50\n",
      "121/121 [==============================] - 1s 9ms/step - loss: 5.5432e-04 - cosine_similarity_metric: 0.7902\n",
      "Epoch 48/50\n",
      "121/121 [==============================] - 1s 8ms/step - loss: 5.5481e-04 - cosine_similarity_metric: 0.7899\n",
      "Epoch 49/50\n",
      "121/121 [==============================] - 1s 8ms/step - loss: 5.5431e-04 - cosine_similarity_metric: 0.7904\n",
      "Epoch 50/50\n",
      "121/121 [==============================] - 1s 9ms/step - loss: 5.5304e-04 - cosine_similarity_metric: 0.7909\n"
     ]
    }
   ],
   "source": [
    "# Training best architecture\n",
    "history = autoencoder.fit(X_processed, X_processed, epochs=50)"
   ]
  },
  {
   "cell_type": "code",
   "execution_count": 31,
   "id": "7cb22af7",
   "metadata": {
    "execution": {
     "iopub.execute_input": "2023-07-16T19:57:52.508577Z",
     "iopub.status.busy": "2023-07-16T19:57:52.507231Z",
     "iopub.status.idle": "2023-07-16T19:57:52.791734Z",
     "shell.execute_reply": "2023-07-16T19:57:52.790236Z"
    },
    "papermill": {
     "duration": 0.497492,
     "end_time": "2023-07-16T19:57:52.795229",
     "exception": false,
     "start_time": "2023-07-16T19:57:52.297737",
     "status": "completed"
    },
    "tags": []
   },
   "outputs": [
    {
     "data": {
      "image/png": "[encoded data removed]",
      "text/plain": [
       "<Figure size 432x288 with 1 Axes>"
      ]
     },
     "metadata": {
      "needs_background": "light"
     },
     "output_type": "display_data"
    }
   ],
   "source": [
    "# Plotting loss\n",
    "plt.plot(history.history['loss'], label='loss')\n",
    "plt.title('Loss')\n",
    "plt.xlabel('Epochs')\n",
    "plt.ylabel('Value')\n",
    "plt.legend()\n",
    "plt.show()"
   ]
  },
  {
   "cell_type": "code",
   "execution_count": 32,
   "id": "42eaba44",
   "metadata": {
    "execution": {
     "iopub.execute_input": "2023-07-16T19:57:53.208899Z",
     "iopub.status.busy": "2023-07-16T19:57:53.208442Z",
     "iopub.status.idle": "2023-07-16T19:57:53.462248Z",
     "shell.execute_reply": "2023-07-16T19:57:53.460916Z"
    },
    "papermill": {
     "duration": 0.465233,
     "end_time": "2023-07-16T19:57:53.465360",
     "exception": false,
     "start_time": "2023-07-16T19:57:53.000127",
     "status": "completed"
    },
    "tags": []
   },
   "outputs": [
    {
     "data": {
      "image/png": "[encoded data removed]",
      "text/plain": [
       "<Figure size 432x288 with 1 Axes>"
      ]
     },
     "metadata": {
      "needs_background": "light"
     },
     "output_type": "display_data"
    }
   ],
   "source": [
    "# Plotting cosine_similarity_metric\n",
    "plt.plot(history.history['cosine_similarity_metric'], label='Accuracy of Reconstruction')\n",
    "plt.title('Similarity')\n",
    "plt.xlabel('Epochs')\n",
    "plt.ylabel('Value')\n",
    "plt.legend()\n",
    "plt.show()"
   ]
  },
  {
   "cell_type": "markdown",
   "id": "8480312d",
   "metadata": {
    "papermill": {
     "duration": 0.208201,
     "end_time": "2023-07-16T19:57:54.305745",
     "exception": false,
     "start_time": "2023-07-16T19:57:54.097544",
     "status": "completed"
    },
    "tags": []
   },
   "source": [
    "# <p style= \"background-color:#428da6;font-family:Georgia;padding: 6px;color:#FFFFFF;font-size:110%;text-align:center;border-radius:30px 60px;overflow:hidden;\">Recomending movies</p>"
   ]
  },
  {
   "cell_type": "markdown",
   "id": "eac64955",
   "metadata": {
    "papermill": {
     "duration": 0.206264,
     "end_time": "2023-07-16T19:57:55.145828",
     "exception": false,
     "start_time": "2023-07-16T19:57:54.939564",
     "status": "completed"
    },
    "tags": []
   },
   "source": [
    "#### In this step i am using trained autoencoder and cosine similarity metric to recomend which movies to watch next."
   ]
  },
  {
   "cell_type": "code",
   "execution_count": 38,
   "id": "1acd741b",
   "metadata": {
    "execution": {
     "iopub.execute_input": "2023-07-16T19:57:55.558381Z",
     "iopub.status.busy": "2023-07-16T19:57:55.557073Z",
     "iopub.status.idle": "2023-07-16T19:57:55.568430Z",
     "shell.execute_reply": "2023-07-16T19:57:55.567310Z"
    },
    "papermill": {
     "duration": 0.220159,
     "end_time": "2023-07-16T19:57:55.571184",
     "exception": false,
     "start_time": "2023-07-16T19:57:55.351025",
     "status": "completed"
    },
    "tags": []
   },
   "outputs": [
    {
     "data": {
      "text/plain": [
       "array([0.86075949, 0.45338983, 0.        , ..., 0.        , 0.        ,\n",
       "       0.        ])"
      ]
     },
     "execution_count": 38,
     "metadata": {},
     "output_type": "execute_result"
    }
   ],
   "source": [
    "# Choosing a movie\n",
    "movie = \"The Conjuring\" \n",
    "\n",
    "# Getting index of a movie\n",
    "movie_index = title.index[title == movie][0] \n",
    "\n",
    "# Getting features of that movie\n",
    "movie_features = X_processed[movie_index] \n",
    "\n",
    "movie_features"
   ]
  },
  {
   "cell_type": "code",
   "execution_count": 39,
   "id": "a8c3e412",
   "metadata": {
    "execution": {
     "iopub.execute_input": "2023-07-16T19:57:55.989529Z",
     "iopub.status.busy": "2023-07-16T19:57:55.988577Z",
     "iopub.status.idle": "2023-07-16T19:57:56.358071Z",
     "shell.execute_reply": "2023-07-16T19:57:56.356182Z"
    },
    "papermill": {
     "duration": 0.583028,
     "end_time": "2023-07-16T19:57:56.362906",
     "exception": false,
     "start_time": "2023-07-16T19:57:55.779878",
     "status": "completed"
    },
    "tags": []
   },
   "outputs": [
    {
     "name": "stdout",
     "output_type": "stream",
     "text": [
      "1/1 [==============================] - 0s 28ms/step\n"
     ]
    },
    {
     "data": {
      "text/plain": [
       "array([[2041],\n",
       "       [3624],\n",
       "       [1752],\n",
       "       [3215],\n",
       "       [3727],\n",
       "       [3327],\n",
       "       [1386],\n",
       "       [2144],\n",
       "       [2684],\n",
       "       [2779]], dtype=int64)"
      ]
     },
     "execution_count": 39,
     "metadata": {},
     "output_type": "execute_result"
    }
   ],
   "source": [
    "from sklearn.metrics.pairwise import cosine_similarity\n",
    "\n",
    "# How many movies to recomend\n",
    "N_movies = 10\n",
    "\n",
    "# Generating reconstruction of features using autoencoder\n",
    "reconstructed_movie = autoencoder.predict(np.array([movie_features]))[0]\n",
    "\n",
    "# Comparing choosen movie to the rest\n",
    "similarities = cosine_similarity(X_processed, [reconstructed_movie])\n",
    "similarities[movie_index] = -1  # Making sure the original movie will not be recomended\n",
    "most_similar_indices = np.argsort(similarities, axis=0)[::-1][:N_movies]  # Getting Indexes of 10 most similar movies\n",
    "\n",
    "most_similar_indices"
   ]
  },
  {
   "cell_type": "code",
   "execution_count": 40,
   "id": "db140407",
   "metadata": {
    "execution": {
     "iopub.execute_input": "2023-07-16T19:57:56.835089Z",
     "iopub.status.busy": "2023-07-16T19:57:56.834600Z",
     "iopub.status.idle": "2023-07-16T19:57:56.841298Z",
     "shell.execute_reply": "2023-07-16T19:57:56.840365Z"
    },
    "papermill": {
     "duration": 0.217295,
     "end_time": "2023-07-16T19:57:56.844249",
     "exception": false,
     "start_time": "2023-07-16T19:57:56.626954",
     "status": "completed"
    },
    "tags": []
   },
   "outputs": [
    {
     "name": "stdout",
     "output_type": "stream",
     "text": [
      "Tattah\n",
      "My Horrible Grandma\n",
      "Good and Prosperous\n",
      "Scarecrow\n",
      "Flimflam\n",
      "Bittersweet\n",
      "Bewildered Bolbol\n",
      "Monopoly (The Bank Of Luck)\n",
      "X Large\n",
      "The Consul's Son\n"
     ]
    }
   ],
   "source": [
    "# Printing recomended movies\n",
    "for recomended_movie in most_similar_indices:\n",
    "    print(*title.values[recomended_movie]) "
   ]
  },
  {
   "cell_type": "code",
   "execution_count": null,
   "id": "59a31d6e",
   "metadata": {},
   "outputs": [],
   "source": []
  }
 ],
 "metadata": {
  "kernelspec": {
   "display_name": "Python 3 (ipykernel)",
   "language": "python",
   "name": "python3"
  },
  "language_info": {
   "codemirror_mode": {
    "name": "ipython",
    "version": 3
   },
   "file_extension": ".py",
   "mimetype": "text/x-python",
   "name": "python",
   "nbconvert_exporter": "python",
   "pygments_lexer": "ipython3",
   "version": "3.10.2"
  },
  "papermill": {
   "default_parameters": {},
   "duration": 626.064112,
   "end_time": "2023-07-16T19:58:01.090020",
   "environment_variables": {},
   "exception": null,
   "input_path": "__notebook__.ipynb",
   "output_path": "__notebook__.ipynb",
   "parameters": {},
   "start_time": "2023-07-16T19:47:35.025908",
   "version": "2.4.0"
  }
 },
 "nbformat": 4,
 "nbformat_minor": 5
}
